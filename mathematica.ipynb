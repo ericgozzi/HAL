{
 "cells": [
  {
   "cell_type": "code",
   "execution_count": 1,
   "metadata": {},
   "outputs": [],
   "source": [
    "from HAL.metrika.mathematica import *\n",
    "from IPython.display import  display\n",
    "\n",
    "x = S('x')"
   ]
  },
  {
   "cell_type": "code",
   "execution_count": 2,
   "metadata": {},
   "outputs": [
    {
     "data": {
      "text/latex": [
       "$((2 * x) + 4) = (3 - 10)$"
      ],
      "text/plain": [
       "((2 * x) + 4) = (3 - 10)"
      ]
     },
     "metadata": {},
     "output_type": "display_data"
    },
    {
     "data": {
      "text/latex": [
       "$(2x + 4) = (3 - 10)$"
      ],
      "text/plain": [
       "(2x + 4) = (3 - 10)"
      ]
     },
     "metadata": {},
     "output_type": "display_data"
    },
    {
     "data": {
      "text/latex": [
       "$x = ((3 + (-10)) - 4)$"
      ],
      "text/plain": [
       "x = ((3 + (-10)) - 4)"
      ]
     },
     "metadata": {},
     "output_type": "display_data"
    },
    {
     "data": {
      "text/latex": [
       "$x = ((-7) + (-4))$"
      ],
      "text/plain": [
       "x = ((-7) + (-4))"
      ]
     },
     "metadata": {},
     "output_type": "display_data"
    },
    {
     "data": {
      "text/latex": [
       "$x = (-11)$"
      ],
      "text/plain": [
       "x = (-11)"
      ]
     },
     "metadata": {},
     "output_type": "display_data"
    },
    {
     "data": {
      "text/latex": [
       "$x = (-11)$"
      ],
      "text/plain": [
       "x = (-11)"
      ]
     },
     "execution_count": 2,
     "metadata": {},
     "output_type": "execute_result"
    }
   ],
   "source": [
    "e = EQ(N(2) * x + N(4), N(3)- N(10))\n",
    "display(e)\n",
    "for i in range(4):\n",
    "    e.solve(x)\n",
    "    display(e)\n",
    "e"
   ]
  },
  {
   "cell_type": "code",
   "execution_count": 3,
   "metadata": {},
   "outputs": [
    {
     "data": {
      "text/plain": [
       "(\u001b[48;2;128;0;128m  \u001b[0m,\n",
       " \u001b[48;2;0;0;255m  \u001b[0m,\n",
       " \u001b[48;2;0;255;255m  \u001b[0m,\n",
       " \u001b[48;2;0;255;0m  \u001b[0m,\n",
       " \u001b[48;2;255;255;0m  \u001b[0m,\n",
       " \u001b[48;2;255;165;0m  \u001b[0m,\n",
       " \u001b[48;2;255;0;0m  \u001b[0m,\n",
       " \u001b[48;2;255;255;255m  \u001b[0m,\n",
       " \u001b[48;2;192;192;192m  \u001b[0m,\n",
       " \u001b[48;2;128;128;128m  \u001b[0m,\n",
       " \u001b[48;2;80;80;80m  \u001b[0m,\n",
       " \u001b[48;2;0;0;0m  \u001b[0m)"
      ]
     },
     "execution_count": 3,
     "metadata": {},
     "output_type": "execute_result"
    }
   ],
   "source": [
    "from HAL.pixels import *\n",
    "\n",
    "PURPLE, BLUE, CYAN, GREEN, YELLOW, ORANGE, RED, WHITE, LIGHT_GRAY, GRAY, DARK_GRAY, BLACK"
   ]
  },
  {
   "cell_type": "code",
   "execution_count": 4,
   "metadata": {},
   "outputs": [
    {
     "data": {
      "text/plain": [
       "(π, 𝛗, e, 𝛕)"
      ]
     },
     "execution_count": 4,
     "metadata": {},
     "output_type": "execute_result"
    }
   ],
   "source": [
    "PI, PHI, E, TAU\n"
   ]
  },
  {
   "cell_type": "code",
   "execution_count": 5,
   "metadata": {},
   "outputs": [
    {
     "data": {
      "text/latex": [
       "$((𝛗 \\cdot π) \\cdot e)$"
      ],
      "text/plain": [
       "((𝛗 * π) * e)"
      ]
     },
     "execution_count": 5,
     "metadata": {},
     "output_type": "execute_result"
    }
   ],
   "source": [
    "PHI * PI * E\n",
    "\n",
    "\n"
   ]
  },
  {
   "cell_type": "code",
   "execution_count": 15,
   "metadata": {},
   "outputs": [
    {
     "data": {
      "text/latex": [
       "$(\\sin({π}) + \\cos({e})) - \\tan({𝛗})$"
      ],
      "text/plain": [
       "((sin(a) + cos(a)) - tan(a))"
      ]
     },
     "execution_count": 15,
     "metadata": {},
     "output_type": "execute_result"
    }
   ],
   "source": [
    "SIN(PI) + COS(E) - TAN(PHI)\n"
   ]
  },
  {
   "cell_type": "code",
   "execution_count": null,
   "metadata": {},
   "outputs": [],
   "source": []
  },
  {
   "cell_type": "markdown",
   "metadata": {},
   "source": []
  }
 ],
 "metadata": {
  "kernelspec": {
   "display_name": ".venv",
   "language": "python",
   "name": "python3"
  },
  "language_info": {
   "codemirror_mode": {
    "name": "ipython",
    "version": 3
   },
   "file_extension": ".py",
   "mimetype": "text/x-python",
   "name": "python",
   "nbconvert_exporter": "python",
   "pygments_lexer": "ipython3",
   "version": "3.12.3"
  }
 },
 "nbformat": 4,
 "nbformat_minor": 2
}
