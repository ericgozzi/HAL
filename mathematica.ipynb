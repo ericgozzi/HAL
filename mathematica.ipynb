{
 "cells": [
  {
   "cell_type": "code",
   "execution_count": 4,
   "metadata": {},
   "outputs": [],
   "source": [
    "import math"
   ]
  },
  {
   "cell_type": "code",
   "execution_count": 1020,
   "metadata": {},
   "outputs": [],
   "source": [
    "class Expr:\n",
    "    \n",
    "    def __add__(self, other):\n",
    "        other = symbolify_number(other)\n",
    "        return Add(self, other)\n",
    "    def __sub__(self, other):\n",
    "        other = symbolify_number(other)\n",
    "        return Sub(self, other)\n",
    "    def __mul__(self, other):\n",
    "        other = symbolify_number(other)\n",
    "        return Mul(self, other)\n",
    "    def __pow__(self, other):\n",
    "        other = symbolify_number(other)\n",
    "        return Pow(self, other)\n",
    "    def __truediv__(self, other):\n",
    "        other = symbolify_number(other)\n",
    "        return Div(self, other)\n",
    "\n",
    "    def __repr__(self):\n",
    "        return str(self)\n",
    "\n",
    "    def _repr_latex_(self):\n",
    "        \"\"\"Jupyter hook to render LaTeX automatically in notebooks.\"\"\"\n",
    "        return f\"${self.latex()}$\"\n",
    "\n",
    "    def eval(self):\n",
    "        return self\n",
    "\n",
    "\n",
    "\n",
    "class Symbol(Expr):\n",
    "    def __init__(self, name, value=1):\n",
    "        self.name = name\n",
    "        self.value = value\n",
    "    def __str__(self):\n",
    "        if self.value >= 0:\n",
    "            if self.value == 1:\n",
    "                return f'{self.name}'\n",
    "            else:\n",
    "                return f'{self.value}{self.name}'\n",
    "        else:\n",
    "            if self.value == -1:\n",
    "                return f'(-{self.name})'\n",
    "            else:\n",
    "                return f'({self.value}{self.name})'\n",
    "            \n",
    "    def eval(self):\n",
    "        return self\n",
    "\n",
    "    def latex(self): \n",
    "        if self.value >= 0:\n",
    "            if self.value == 1:\n",
    "                return f'{self.name}'\n",
    "            else:\n",
    "                return f'{self.value}{self.name}'\n",
    "        else:\n",
    "            if self.value == -1:\n",
    "                return f'(-{self.name})'\n",
    "            else:\n",
    "                return f'({self.value}{self.name})'\n",
    "\n",
    "def S(symbol):\n",
    "    return Symbol(symbol)\n",
    "\n",
    "class Constant(Expr):\n",
    "    def __init__(self, name: str, value=None):\n",
    "        self.name = name\n",
    "        self.value = value\n",
    "    def eval(self):\n",
    "        return self.value\n",
    "    def __str__(self):\n",
    "        return self.name\n",
    "    def latex(self):\n",
    "        return self.name\n",
    "\n",
    "class Number(Expr):\n",
    "    def __init__(self, value):\n",
    "        self.value = value\n",
    "    def __str__(self):\n",
    "        if self.value >= 0:\n",
    "            return str(self.value)\n",
    "        else:\n",
    "            return str(f'({self.value})')\n",
    "    def latex(self):\n",
    "        if self.value >= 0:\n",
    "            return str(self.value)\n",
    "        else:\n",
    "            return str(f'({self.value})')\n",
    "    def eval(self):\n",
    "        return self\n",
    "\n",
    "def N(number):\n",
    "    return Number(number)\n",
    "\n",
    "\n",
    "\n",
    "\n",
    "\n",
    "\n",
    "class Add(Expr):\n",
    "    def __init__(self, left, right):\n",
    "        self.left = left\n",
    "        self.right = right\n",
    "    def __str__(self):\n",
    "        return f\"({self.left} + {self.right})\"\n",
    "    def latex(self):\n",
    "        return f\"({self.left.latex()} + {self.right.latex()})\"\n",
    "\n",
    "\n",
    "\n",
    "    def eval(self):\n",
    "        left = self.left.eval()\n",
    "        right = self.right.eval()\n",
    "\n",
    "        if isinstance(left, Number) and isinstance(right, Number):\n",
    "            return Number(left.value + right.value)\n",
    "\n",
    "        elif isinstance(left, Symbol) and isinstance(right, Symbol):\n",
    "            if left.name == right.name:\n",
    "                result = left.value - right.value\n",
    "                if result == 0:\n",
    "                    return Number(result)\n",
    "                else:\n",
    "                    return Symbol(left.name, value=left.value + right.value)\n",
    "\n",
    "        elif isinstance(left, Symbol) and isinstance(right, Number):\n",
    "            if right.value == 0:\n",
    "                return left\n",
    "            else:\n",
    "                return(Add(left, right))\n",
    "        elif isinstance(left, Number) and isinstance(right, Symbol):\n",
    "            if left.value == 0:\n",
    "                return right\n",
    "            else:\n",
    "                return Add(left, right)\n",
    "\n",
    "\n",
    "        return(Add(left, right))\n",
    "\n",
    "\n",
    "\n",
    "    def solve_for(self, symbol, lhs, rhs):\n",
    "        # for x + 1\n",
    "        if isinstance(self.left, Symbol) and self.left.name == symbol.name:\n",
    "            l = symbol\n",
    "            r = rhs - self.right\n",
    "            return l.eval(), r.eval()\n",
    "\n",
    "        # for 1 + x\n",
    "        if isinstance(self.right, Symbol) and self.right.name == symbol.name:\n",
    "            l = symbol\n",
    "            r = rhs - self.left\n",
    "            return l.eval(), r.evla()\n",
    "\n",
    "        # for 1 + 1\n",
    "        if isinstance(self.left, Number) and isinstance(self.right, Number):\n",
    "            return self.eval()\n",
    "\n",
    "        # MUL + 1\n",
    "        if isinstance(self.left, Mul):\n",
    "            self.left = self.left.eval()\n",
    "            return lhs, rhs\n",
    "\n",
    "            \n",
    "        raise NotImplementedError(\"Cannot isolate symbol in this expression\")\n",
    "\n",
    "\n",
    "\n",
    "class Sub(Expr):\n",
    "    def __init__(self, left, right):\n",
    "        self.left = left\n",
    "        self.right = right\n",
    "    def __str__(self):\n",
    "        return f\"({self.left} - {self.right})\"\n",
    "    def latex(self):\n",
    "        return f\"{self.left.latex()} - {self.right.latex()}\"\n",
    "    \n",
    "    def eval(self):\n",
    "        left = self.left.eval()\n",
    "        right = self.right.eval()\n",
    "\n",
    "        if isinstance(left, Number) and isinstance(right, Number):\n",
    "            return Add(Number(left.value), Number(right.value * -1))\n",
    "        \n",
    "        elif isinstance(left, Symbol) and isinstance(right, Symbol):\n",
    "            return Add(Symbol(left.name, left.value), Symbol(right.name, right.value * -1))\n",
    "\n",
    "        elif isinstance(left, Symbol) and isinstance(right, Number):\n",
    "            return Add(Symbol(left.name, left.value), Number(right.value * -1))\n",
    "\n",
    "        elif isinstance(left, Number) and isinstance(right, Symbol):\n",
    "            return Add(Number(left.value), Symbol(right.name, right.value * -1))\n",
    "            \n",
    "        return(Sub(left, right))\n",
    "\n",
    "\n",
    "    def solve_for(self, symbol, lhs, rhs):\n",
    "        # for x - 1\n",
    "        if isinstance(self.left, Symbol) and self.left.name == symbol.name:\n",
    "            l = symbol\n",
    "            r = rhs + self.right\n",
    "            return l.eval(), r.eval()\n",
    "        \n",
    "        # for 1 - x\n",
    "        if isinstance(self.right, Symbol) and self.right.name == symbol.name:\n",
    "            l = self.left\n",
    "            r = rhs - symbol\n",
    "            return l.eval(), r.eval()\n",
    "\n",
    "        # for 1 - 1\n",
    "        if isinstance(self.left, Number) and isinstance(self.right, Number):\n",
    "            return self.eval()\n",
    "\n",
    "        raise NotImplementedError(\"Cannot isolate symbol in this expression\")\n",
    "\n",
    "    \n",
    "\n",
    "class Mul(Expr):\n",
    "    def __init__(self, left, right):\n",
    "        self.left = left\n",
    "        self.right = right\n",
    "    def __str__(self):\n",
    "        return f\"({self.left} * {self.right})\"\n",
    "    def latex(self):\n",
    "        return f\"({self.left.latex()} \\\\cdot {self.right.latex()})\"\n",
    "\n",
    "    def eval(self):\n",
    "        left = self.left.eval()\n",
    "        right = self.right.eval()\n",
    "\n",
    "        if isinstance(left, Number) and isinstance(right, Number):\n",
    "            return Number(left.value * right.value)\n",
    "\n",
    "        elif isinstance(left, Number) and isinstance(right, Symbol):\n",
    "            return Symbol(right.name, right.value * left.value)\n",
    "\n",
    "        elif isinstance(left, Symbol) and isinstance(right, Number):\n",
    "            return Symbol(left.name, left.value * right.value)\n",
    "\n",
    "\n",
    "        return Mul(left, right)\n",
    "\n",
    "    def solve_for(self, symbol, lhs, rhs):\n",
    "        # for x * 1  = 4\n",
    "        if isinstance(self.left, Symbol) and self.left.name == symbol.name:\n",
    "            l = self.left\n",
    "            r = rhs / self.right\n",
    "            return l.eval(), r.eval()\n",
    "        # for 1 * x = 4\n",
    "        if isinstance(self.right, Symbol) and self.right.name == symbol.name:\n",
    "            l = self.right\n",
    "            r = rhs / self.left\n",
    "            return l.eval(), r.eval()\n",
    "\n",
    "\n",
    "class Div(Expr):\n",
    "    def __init__(self, numerator, denominator):\n",
    "        self.numerator = numerator\n",
    "        self.denominator = denominator\n",
    "    def __str__(self):\n",
    "        return f\"({self.numerator} / {self.denominator})\"\n",
    "    def latex(self):\n",
    "        return f\"\\\\frac{{{self.numerator.latex()}}}{{{self.denominator.latex()}}}\"\n",
    "\n",
    "    def eval(self):\n",
    "        numerator = self.numerator.eval()\n",
    "        denominator = self.denominator.eval()\n",
    "        if isinstance(numerator, Number) and isinstance(denominator, Number):\n",
    "            return Number(numerator.value / denominator.value)\n",
    "        return Div(numerator, denominator)\n",
    "\n",
    "\n",
    "\n",
    "class Pow(Expr):\n",
    "    def __init__(self, base, exponent):\n",
    "        self.base = base\n",
    "        self.exponent = exponent\n",
    "    def __str__(self):\n",
    "        return f\"({self.base} ** {self.exponent})\"\n",
    "    def latex(self):\n",
    "        return f\"{self.base.latex()}^{{{self.exponent.latex()}}}\"\n",
    "\n",
    "\n",
    "\n",
    "\n",
    "class Equation(Expr):\n",
    "    def __init__(self, lhs, rhs):\n",
    "        self.lhs = lhs  # Left-hand side expression\n",
    "        self.rhs = rhs  # Right-hand side expression\n",
    "\n",
    "    def __repr__(self):\n",
    "        return f\"{self.lhs} = {self.rhs}\"\n",
    "\n",
    "    def latex(self):\n",
    "        return f\"{self.lhs} = {self.rhs}\"\n",
    "    \n",
    "    def solve(self, symbol):\n",
    "\n",
    "        if isinstance(self.rhs, Symbol):\n",
    "            self.lhs = self.lhs.eval()\n",
    "        elif isinstance(self.lhs, Symbol):\n",
    "            self.rhs = self.rhs.eval()\n",
    "\n",
    "        # Solve the left\n",
    "        # ADD\n",
    "        elif isinstance(self.lhs, Add):\n",
    "            if isinstance(self.lhs.right, Number) and isinstance(self.lhs.left, Number):\n",
    "                self.lhs = self.lhs.evl()\n",
    "            else:\n",
    "                self.lhs, self.rhs = self.lhs.solve_for(symbol, self.lhs, self.rhs)\n",
    "        \n",
    "        # SUB\n",
    "        elif isinstance(self.lhs, Sub):\n",
    "            if isinstance(self.lhs.right, Number) and isinstance(self.lhs.left, Number):\n",
    "                self.lhs = self.lhs.evl()\n",
    "            else:            \n",
    "                self.lhs, self.rhs = self.lhs.solve_for(symbol, self.lhs, self.rhs)\n",
    "       \n",
    "        # MUL\n",
    "        elif isinstance(self.lhs, Mul):\n",
    "            if isinstance(self.lhs.right, Number) and isinstance(self.lhs.left, Number):\n",
    "                self.lhs = self.lhs.evl()\n",
    "            else:  \n",
    "                self.lhs, self.rhs = self.lhs.solve_for(symbol, self.lhs, self.rhs)\n",
    "        \n",
    "        elif isinstance(self.lhs, Symbol):\n",
    "            pass\n",
    "\n",
    "\n",
    "\n",
    "        # Solve the right\n",
    "        # ADD\n",
    "        elif isinstance(self.rhs, Add):\n",
    "            if isinstance(self.rhs.right, Number) and isinstance(self.rhs.left, Number):\n",
    "                self.lhs = self.lhs.evl()\n",
    "            else: \n",
    "                self.rhs, self.lhs =  self.rhs.solve_for(symbol, self.rhs, self.lhs)\n",
    "        # SUB\n",
    "        elif isinstance(self.rhs, Sub):\n",
    "            if isinstance(self.rhs.right, Number) and isinstance(self.rhs.left, Number):\n",
    "                self.lhs = self.lhs.evl()\n",
    "            else: \n",
    "                self.rhs, self.lhs = self.rhs.solve_for(symbol, self.rhs, self.lhs)\n",
    "        # MUL\n",
    "        elif isinstance(self.rhs, Mul):\n",
    "            if isinstance(self.rhs.right, Number) and isinstance(self.rhs.left, Number):\n",
    "                self.lhs = self.lhs.eval()\n",
    "            else:   \n",
    "                self.rhs, self.lhs = self.rhs.solve_for(symbol, self.rhs, self.lhs)\n",
    "\n",
    "        else:\n",
    "\n",
    "            raise NotImplementedError(\"Equation solving only implemented for simple additions.\")\n",
    "\n",
    "\n",
    "        \n",
    "def EQ(lhs, rhs):\n",
    "    return Equation(lhs, rhs)\n",
    "\n",
    "\n",
    "\n",
    "def symbolify_number(x):\n",
    "    if isinstance(x, Expr):\n",
    "        return x\n",
    "    if isinstance(x, (int, float)):\n",
    "        return Number(x)\n",
    "    raise TypeError\n"
   ]
  },
  {
   "cell_type": "code",
   "execution_count": 1031,
   "metadata": {},
   "outputs": [],
   "source": [
    "PI = Constant('π', math.pi)\n",
    "E = Constant('𝐞', math.e)\n",
    "PHI = Constant('𝛗')\n",
    "\n",
    "x = S('x')\n"
   ]
  },
  {
   "cell_type": "code",
   "execution_count": 1037,
   "metadata": {},
   "outputs": [
    {
     "data": {
      "text/latex": [
       "$((2 * x) + 4) = ((3 + x) - 10)$"
      ],
      "text/plain": [
       "((2 * x) + 4) = ((3 + x) - 10)"
      ]
     },
     "execution_count": 1037,
     "metadata": {},
     "output_type": "execute_result"
    }
   ],
   "source": [
    "e = EQ(N(2) * x + N(4), N(3) + x - N(10))\n",
    "\n",
    "e"
   ]
  },
  {
   "cell_type": "code",
   "execution_count": 1038,
   "metadata": {},
   "outputs": [
    {
     "data": {
      "text/latex": [
       "$(2x + 4) = ((3 + x) - 10)$"
      ],
      "text/plain": [
       "(2x + 4) = ((3 + x) - 10)"
      ]
     },
     "execution_count": 1038,
     "metadata": {},
     "output_type": "execute_result"
    }
   ],
   "source": [
    "e.solve(x)\n",
    "e"
   ]
  },
  {
   "cell_type": "code",
   "execution_count": 1039,
   "metadata": {},
   "outputs": [
    {
     "data": {
      "text/latex": [
       "$x = (((3 + x) - 10) - 4)$"
      ],
      "text/plain": [
       "x = (((3 + x) - 10) - 4)"
      ]
     },
     "execution_count": 1039,
     "metadata": {},
     "output_type": "execute_result"
    }
   ],
   "source": [
    "e.solve(x)\n",
    "e"
   ]
  },
  {
   "cell_type": "code",
   "execution_count": 1040,
   "metadata": {},
   "outputs": [
    {
     "data": {
      "text/latex": [
       "$x = (((3 + x) - 10) - 4)$"
      ],
      "text/plain": [
       "x = (((3 + x) - 10) - 4)"
      ]
     },
     "execution_count": 1040,
     "metadata": {},
     "output_type": "execute_result"
    }
   ],
   "source": [
    "e.solve(x)\n",
    "e"
   ]
  },
  {
   "cell_type": "code",
   "execution_count": 1041,
   "metadata": {},
   "outputs": [
    {
     "data": {
      "text/latex": [
       "$x = (((3 + x) - 10) - 4)$"
      ],
      "text/plain": [
       "x = (((3 + x) - 10) - 4)"
      ]
     },
     "execution_count": 1041,
     "metadata": {},
     "output_type": "execute_result"
    }
   ],
   "source": [
    "e.solve(x)\n",
    "e"
   ]
  },
  {
   "cell_type": "code",
   "execution_count": 1042,
   "metadata": {},
   "outputs": [
    {
     "data": {
      "text/latex": [
       "$x = (((3 + x) - 10) - 4)$"
      ],
      "text/plain": [
       "x = (((3 + x) - 10) - 4)"
      ]
     },
     "execution_count": 1042,
     "metadata": {},
     "output_type": "execute_result"
    }
   ],
   "source": [
    "e.solve(x)\n",
    "e"
   ]
  },
  {
   "cell_type": "code",
   "execution_count": 693,
   "metadata": {},
   "outputs": [
    {
     "data": {
      "text/latex": [
       "$170$"
      ],
      "text/plain": [
       "170"
      ]
     },
     "execution_count": 693,
     "metadata": {},
     "output_type": "execute_result"
    }
   ],
   "source": [
    "e.eval()"
   ]
  },
  {
   "cell_type": "code",
   "execution_count": 694,
   "metadata": {},
   "outputs": [
    {
     "data": {
      "text/latex": [
       "$(x - 10) = (3 * (4 + 10))$"
      ],
      "text/plain": [
       "(x - 10) = (3 * (4 + 10))"
      ]
     },
     "execution_count": 694,
     "metadata": {},
     "output_type": "execute_result"
    }
   ],
   "source": [
    "expr = EQ(N(3) * N(4), x - N(10))\n",
    "expr = EQ(x - N(10), N(3) * (N(4) + N(10)))\n",
    "expr"
   ]
  },
  {
   "cell_type": "code",
   "execution_count": 695,
   "metadata": {},
   "outputs": [
    {
     "data": {
      "text/latex": [
       "$x = 52$"
      ],
      "text/plain": [
       "x = 52"
      ]
     },
     "execution_count": 695,
     "metadata": {},
     "output_type": "execute_result"
    }
   ],
   "source": [
    "expr.solve(x)\n",
    "expr"
   ]
  },
  {
   "cell_type": "code",
   "execution_count": 696,
   "metadata": {},
   "outputs": [
    {
     "data": {
      "text/latex": [
       "$(x + 3) = 2$"
      ],
      "text/plain": [
       "(x + 3) = 2"
      ]
     },
     "execution_count": 696,
     "metadata": {},
     "output_type": "execute_result"
    }
   ],
   "source": [
    "expr = EQ(x + N(3), N(2))\n",
    "expr"
   ]
  },
  {
   "cell_type": "code",
   "execution_count": 697,
   "metadata": {},
   "outputs": [
    {
     "data": {
      "text/latex": [
       "$x = (2 + (-3))$"
      ],
      "text/plain": [
       "x = (2 + (-3))"
      ]
     },
     "execution_count": 697,
     "metadata": {},
     "output_type": "execute_result"
    }
   ],
   "source": [
    "expr.solve(x)\n",
    "expr"
   ]
  },
  {
   "cell_type": "code",
   "execution_count": null,
   "metadata": {},
   "outputs": [],
   "source": []
  },
  {
   "cell_type": "code",
   "execution_count": 540,
   "metadata": {},
   "outputs": [
    {
     "name": "stdout",
     "output_type": "stream",
     "text": [
      "((2 + x) - x)\n",
      "(2 + x)\n",
      "x\n"
     ]
    }
   ],
   "source": [
    "print(expr.rhs)\n",
    "print(expr.rhs.left)\n",
    "print(expr.rhs.right)\n",
    "\n"
   ]
  },
  {
   "cell_type": "code",
   "execution_count": 241,
   "metadata": {},
   "outputs": [
    {
     "ename": "NotImplementedError",
     "evalue": "Equation solving only implemented for simple additions.",
     "output_type": "error",
     "traceback": [
      "\u001b[31m---------------------------------------------------------------------------\u001b[39m",
      "\u001b[31mNotImplementedError\u001b[39m                       Traceback (most recent call last)",
      "\u001b[36mCell\u001b[39m\u001b[36m \u001b[39m\u001b[32mIn[241]\u001b[39m\u001b[32m, line 3\u001b[39m\n\u001b[32m      1\u001b[39m x = Symbol(\u001b[33m'\u001b[39m\u001b[33mx\u001b[39m\u001b[33m'\u001b[39m)\n\u001b[32m      2\u001b[39m eq = Equation(x + Number(\u001b[32m2\u001b[39m), Number(\u001b[32m5\u001b[39m))\n\u001b[32m----> \u001b[39m\u001b[32m3\u001b[39m solution = \u001b[43meq\u001b[49m\u001b[43m.\u001b[49m\u001b[43msolve\u001b[49m\u001b[43m(\u001b[49m\u001b[43mx\u001b[49m\u001b[43m)\u001b[49m\n\u001b[32m      5\u001b[39m \u001b[38;5;28mprint\u001b[39m(\u001b[33mf\u001b[39m\u001b[33m\"\u001b[39m\u001b[33mEquation: \u001b[39m\u001b[38;5;132;01m{\u001b[39;00meq\u001b[38;5;132;01m}\u001b[39;00m\u001b[33m\"\u001b[39m)\n\u001b[32m      6\u001b[39m \u001b[38;5;28mprint\u001b[39m(\u001b[33mf\u001b[39m\u001b[33m\"\u001b[39m\u001b[33mSolution: x = \u001b[39m\u001b[38;5;132;01m{\u001b[39;00msolution\u001b[38;5;132;01m}\u001b[39;00m\u001b[33m\"\u001b[39m)\n",
      "\u001b[36mCell\u001b[39m\u001b[36m \u001b[39m\u001b[32mIn[237]\u001b[39m\u001b[32m, line 203\u001b[39m, in \u001b[36mEquation.solve\u001b[39m\u001b[34m(self, symbol)\u001b[39m\n\u001b[32m    200\u001b[39m \u001b[38;5;28;01melif\u001b[39;00m \u001b[38;5;28misinstance\u001b[39m(\u001b[38;5;28mself\u001b[39m.rhs, Symbol):\n\u001b[32m    201\u001b[39m     \u001b[38;5;28;01mpass\u001b[39;00m\n\u001b[32m--> \u001b[39m\u001b[32m203\u001b[39m \u001b[38;5;28;01mraise\u001b[39;00m \u001b[38;5;167;01mNotImplementedError\u001b[39;00m(\u001b[33m\"\u001b[39m\u001b[33mEquation solving only implemented for simple additions.\u001b[39m\u001b[33m\"\u001b[39m)\n",
      "\u001b[31mNotImplementedError\u001b[39m: Equation solving only implemented for simple additions."
     ]
    }
   ],
   "source": [
    "x = Symbol('x')\n",
    "eq = Equation(x + Number(2), Number(5))\n",
    "solution = eq.solve(x)\n",
    "\n",
    "print(f\"Equation: {eq}\")\n",
    "print(f\"Solution: x = {solution}\")"
   ]
  },
  {
   "cell_type": "code",
   "execution_count": null,
   "metadata": {},
   "outputs": [],
   "source": []
  }
 ],
 "metadata": {
  "kernelspec": {
   "display_name": ".venv",
   "language": "python",
   "name": "python3"
  },
  "language_info": {
   "codemirror_mode": {
    "name": "ipython",
    "version": 3
   },
   "file_extension": ".py",
   "mimetype": "text/x-python",
   "name": "python",
   "nbconvert_exporter": "python",
   "pygments_lexer": "ipython3",
   "version": "3.12.3"
  }
 },
 "nbformat": 4,
 "nbformat_minor": 2
}
