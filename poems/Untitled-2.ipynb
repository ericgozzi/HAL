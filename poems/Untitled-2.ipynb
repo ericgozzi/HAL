{
 "cells": [
  {
   "cell_type": "code",
   "execution_count": 1,
   "id": "c00d6b7d",
   "metadata": {},
   "outputs": [],
   "source": [
    "import random\n",
    "\n",
    "from HAL.pixels import *\n",
    "from HAL.data import export_json"
   ]
  },
  {
   "cell_type": "code",
   "execution_count": null,
   "id": "0d4ffa94",
   "metadata": {},
   "outputs": [],
   "source": [
    "def draw_life(sketch: Picture, ix, iy, cell_x, cell_y, pic_size, extent_x, extent_y):\n",
    "    center = (cell_x * ix + cell_x/2 , cell_y * iy + cell_y/2)\n",
    "    radius = pic_size/max(extent_x, extent_y)/3\n",
    "    sketch.draw_circle(center, radius, color=Color.BLUE)\n",
    "    return sketch\n",
    "\n",
    "\n",
    "def draw_red(sketch: Picture, center: tuple, radius: int):\n",
    "    sketch.draw_circle(center, radius, color = Color.RED)\n",
    "    return sketch\n",
    "\n",
    "def draw_green(sketch: Picture, center: tuple, radius: int):\n",
    "    sketch.draw_circle(center, radius, color = Color.GREEN)\n",
    "    return sketch\n",
    "\n"
   ]
  },
  {
   "cell_type": "code",
   "execution_count": 3,
   "id": "62dcd8cf",
   "metadata": {},
   "outputs": [],
   "source": [
    "def generate_metadata(extent_x, extent_y, func, red_func, green_func, generations, sizes):\n",
    "    metadata = {}\n",
    "\n",
    "    metadata['extent_x'] = extent_x\n",
    "    metadata['extent_y'] = extent_y\n",
    "    metadata['function'] = func\n",
    "    metadata['red_function'] = red_func\n",
    "    metadata['green_function'] = green_func\n",
    "\n",
    "    metadata['generations'] = generations\n",
    "\n",
    "    metadata['size_x'] = sizes[0]\n",
    "    metadata['size_y'] = sizes[1]\n",
    "    metadata['size_z'] = sizes[2]\n",
    "\n",
    "    return metadata"
   ]
  },
  {
   "cell_type": "code",
   "execution_count": 8,
   "id": "cfc0ef02",
   "metadata": {},
   "outputs": [],
   "source": [
    "def draw_sketch(pic_size, extent_x, extent_y, node):\n",
    "    sketch = get_blank_picture(pic_size, pic_size, Color.BLACK)\n",
    "    red_sketch = get_blank_picture(pic_size, pic_size, Color.BLACK)\n",
    "    green_sketch = get_blank_picture(pic_size, pic_size, Color.BLACK)\n",
    "    cell_x = pic_size / extent_x\n",
    "    cell_y = pic_size / extent_y\n",
    "\n",
    "    for ix in range(0, extent_x):\n",
    "        for iy in range(0, extent_y):\n",
    "            \n",
    "            if iy == 0 or ix == 0:\n",
    "                continue\n",
    "            elif ix == extent_x-1 or iy == extent_y-1:\n",
    "                continue\n",
    "\n",
    "\n",
    "            if node == 'OFFICE':\n",
    "                if ix % 3 != 0 and iy % 3 != 0:\n",
    "                    sketch = draw_life(sketch, ix, iy, cell_x, cell_y, pic_size, extent_x, extent_y)\n",
    "\n",
    "            if node == 'MUSEUM':\n",
    "                rn = random.random()\n",
    "                if rn > 0.5: draw_life(sketch, ix, iy, cell_x, cell_y, pic_size, extent_x, extent_y)\n",
    "                red_sketch = draw_red(red_sketch, (200, 500), 200)\n",
    "                green_sketch = draw_green(green_sketch, (700, 500), 200)\n",
    "\n",
    "                sketch = screen_blend(sketch, red_sketch)\n",
    "                sketch = screen_blend(sketch, green_sketch)\n",
    "\n",
    "    return sketch"
   ]
  },
  {
   "cell_type": "code",
   "execution_count": null,
   "id": "cb54459b",
   "metadata": {},
   "outputs": [
    {
     "name": "stdout",
     "output_type": "stream",
     "text": [
      "{'extent_x': 19, 'extent_y': 19, 'function': 'office', 'red_function': None, 'green_function': None, 'generations': 20, 'size_x': 10, 'size_y': 10, 'size_z': 5}\n"
     ]
    },
    {
     "data": {
      "image/png": "[encoded data removed]",
      "text/plain": [
       "<HAL.pixels.picture.Picture at 0x28ae8fb8960>"
      ]
     },
     "execution_count": 9,
     "metadata": {},
     "output_type": "execute_result"
    },
    {
     "ename": "",
     "evalue": "",
     "output_type": "error",
     "traceback": [
      "\u001b[1;31mThe Kernel crashed while executing code in the current cell or a previous cell. \n",
      "\u001b[1;31mPlease review the code in the cell(s) to identify a possible cause of the failure. \n",
      "\u001b[1;31mClick <a href='https://aka.ms/vscodeJupyterKernelCrash'>here</a> for more info. \n",
      "\u001b[1;31mView Jupyter <a href='command:jupyter.viewOutput'>log</a> for further details."
     ]
    }
   ],
   "source": [
    "pic_size = 1000\n",
    "\n",
    "extent_x = 19\n",
    "extent_y = 19\n",
    "\n",
    "node = 'MUSEUM'\n",
    "\n",
    "func = 'office'\n",
    "red_func = None\n",
    "green_func = None\n",
    "\n",
    "generations = 20\n",
    "\n",
    "size_x = 10\n",
    "size_y = 10\n",
    "size_z = 5\n",
    "\n",
    "sizes = (size_x, size_y, size_z)\n",
    "\n",
    "sketch = draw_sketch(pic_size, extent_x, extent_y, node)\n",
    "\n",
    "file_name = f'{node}_ex{extent_x}_ey{extent_y}_{size_x}-{size_y}-{size_z}_g{generations}'\n",
    "\n",
    "sketch.save(f'sketches/{file_name}.bmp')\n",
    "export_json(metadata, f'sketches/{file_name}.json')\n",
    "\n",
    "print(metadata)\n",
    "sketch"
   ]
  },
  {
   "cell_type": "code",
   "execution_count": null,
   "id": "f5c5055c",
   "metadata": {},
   "outputs": [],
   "source": []
  },
  {
   "cell_type": "code",
   "execution_count": null,
   "id": "166f6cc4",
   "metadata": {},
   "outputs": [],
   "source": []
  }
 ],
 "metadata": {
  "kernelspec": {
   "display_name": ".venv",
   "language": "python",
   "name": "python3"
  },
  "language_info": {
   "codemirror_mode": {
    "name": "ipython",
    "version": 3
   },
   "file_extension": ".py",
   "mimetype": "text/x-python",
   "name": "python",
   "nbconvert_exporter": "python",
   "pygments_lexer": "ipython3",
   "version": "3.13.3"
  }
 },
 "nbformat": 4,
 "nbformat_minor": 5
}
