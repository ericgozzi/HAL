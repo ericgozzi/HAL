{
 "cells": [
  {
   "cell_type": "markdown",
   "id": "fcd90c24",
   "metadata": {},
   "source": [
    "# HAL\n",
    "\n",
    "An entity, made of symbolic poetry. An AI, like many others.\n",
    "\n",
    "HAL can access the digital world of plenty. It can play with what he finds.\n",
    "\n",
    "It gives anwers to the its generic user."
   ]
  },
  {
   "cell_type": "markdown",
   "id": "f8fbc20c",
   "metadata": {},
   "source": [
    "### Urbotheka"
   ]
  },
  {
   "cell_type": "code",
   "execution_count": 27,
   "id": "c8946e98",
   "metadata": {},
   "outputs": [
    {
     "name": "stdout",
     "output_type": "stream",
     "text": [
      "Book: author: JUAN, title: rome a city out of print\n",
      "Book: author: EISENMAN & KOOLHAAS, title: supercritical\n",
      "Book: author: ROADSHOW, title: a matter of energy\n",
      "Book: author: HOLLIS, title: cities are good for you\n",
      "Book: author: GORRINGE, title: a theology of the built environment\n",
      "Book: author: KOOLHAAS, title: delirious new york\n",
      "Book: author: ROWE, title: collage city\n",
      "Book: author: MITCHELL, title: me the cyborg self and the networked city\n",
      "Book: author: LE CORBUSIER, title: the city of tomorrow\n",
      "Book: author: RYBCZYNSKI, title: city life\n",
      "Book: author: MORE, title: utopia\n",
      "Book: author: HOVESTADT, title: quantum city\n",
      "Book: author: CALVINO, title: invisible cities\n",
      "Book: author: DICKENS, title: a tale of two cities\n",
      "Book: author: CAMPANELLA, title: the city of the sun\n",
      "Book: author: BROOK, title: a history of future cities\n",
      "Book: author: KOOLHAAS, title: junkspace with running room\n",
      "Book: author: LE CORBUSIER, title: towards a new architecture\n",
      "Book: author: LESLIE, title: synthetic worlds\n",
      "Book: author: ROSSI, title: the architecture of the city\n",
      "Book: author: JACOBS, title: the death and life of great american cities\n",
      "Book: author: LYNCH, title: the image of the city\n",
      "Book: author: RATTI & CLAUDEL, title: the city of tomorrow \n",
      "Book: author: UNGERS, title: morphologie city metaphors\n",
      "Book: author: MITCHELL, title: the logic of architecture\n",
      "Book: author: HILLIER HANSON, title: the social logic of space\n",
      "Book: author: GREENFIELD, title: against the smart city\n",
      "Book: author: MUMFORD, title: the culture of cities\n",
      "Book: author: SPECK, title: walkable city\n",
      "Book: author: VENTURI & SCOTT BROWN, title: learning from las vegas\n",
      "Book: author: ASCHER, title: the works anatomy of a city\n",
      "Book: author: KOOHLAAS, title: the generic city\n",
      "Book: author: KUNSTLER, title: the city in mind\n",
      "Book: author: FRANCOIS, title: where mathematics becomes political\n",
      "Book: author: HOWARD, title: garden cities of tomorrow\n"
     ]
    }
   ],
   "source": [
    "from HAL.literate import Library\n",
    "urbotheka = Library.from_library_folder('on_city_library')\n",
    "for book in urbotheka.books: print(book)"
   ]
  },
  {
   "cell_type": "code",
   "execution_count": 28,
   "id": "8b51516e",
   "metadata": {},
   "outputs": [
    {
     "name": "stdout",
     "output_type": "stream",
     "text": [
      "HOLLIS, Cities Are Good For You:\n",
      "\t\tIn 2005 a report from the University of Leicester showed that CCTV surveillance had little impact on rates of crime.18 In the case of the neo Nazi bomber David Copeland, who waged a thirteen day campaign in 1999, there was so much surveillance around the first bomb outside a supermarket in Brixton that it took fifty detectives over twenty days to go through all the visual evidence; by the time they had finished, Copeland had already been arrested.\n",
      "--- + \n",
      "\n",
      "\n",
      "\n",
      "GORRINGE, A Theology Of The Built Environment:\n",
      "\t\tIt is not humankind faced with ‘two ways’, as Deuteronomy suggested, but facing the rows of supermarket shelves.\n",
      "--- + \n",
      "\n",
      "\n",
      "\n",
      "GORRINGE, A Theology Of The Built Environment:\n",
      "\t\tGiven the amount of food ferried in by air the footprint of any town with a large supermarket expands gigantically.\n",
      "--- + \n",
      "\n",
      "\n",
      "\n",
      "GORRINGE, A Theology Of The Built Environment:\n",
      "\t\tBut, as Jeffrey Cook puts it, ‘Of all the recognized ecological systems it is human urbanism which seems most destructive of its host.’1' Urban living seems conducive to ‘unnatural behaviour’ precisely because, where all our needs are met from supermarket shelves, we forget that nature works in closed loops.\n",
      "--- + \n",
      "\n",
      "\n",
      "\n",
      "JACOBS, The Death And Life Of Great American Cities:\n",
      "\t\tOur irreplaceable heritage of Grade I agricultural land (a rare treasure of nature on this earth) is sacrificed for highways or supermarket parking lots as ruthlessly and unthinkingly as the trees in the woodlands are uprooted, the streams and rivers polluted and the air itself filled with the gasoline exhausts (products of eons of nature’s manufacturing) required in this great national effort to cozy up with a fictionalized nature and flee the ‘unnaturalness’ of the city.\n",
      "--- + \n",
      "\n",
      "\n",
      "\n",
      "LESLIE, Synthetic Worlds:\n",
      "\t\tIt should seem to leap off the supermarket shelf into the shopper’s basket.\n",
      "--- + \n",
      "\n",
      "\n",
      "\n",
      "LESLIE, Synthetic Worlds:\n",
      "\t\tShe shops in the supermarket under fluorescent lights, a brighter, colder, cheaper light than daylight.\n",
      "--- + \n",
      "\n",
      "\n",
      "\n",
      "LESLIE, Synthetic Worlds:\n",
      "\t\tJamie Reid’s cover for The Sex Pistols’ Never Mind the Bollocks adopted the look of a supermarket display, fused with a ransom note.\n",
      "--- + \n",
      "\n",
      "\n",
      "\n",
      "HOVESTADT, Quantum City:\n",
      "\t\tJust the kind of boxes you’d find in a supermarket or warehouse that would have Brillo pads in them, or tomato juice or whatever, but they don’t, they’re made of wood and printed on, so I say to Orlando, ‘what the hell is this?’ and he laughs and says: ‘they’re sculptures!’ The crowd is astonishing: you’ve got just about everybody here that matters, and I think I at one point literally bump into Michael Caine of all people, I don’t know what he’s doing in town, and then in the middle of it all you’ve got this Andy Warhol character playing host, smiling benignly at people and welcoming them to his show.\n",
      "--- + \n",
      "\n",
      "\n",
      "\n",
      "RYBCZYNSKI, City Life:\n",
      "\t\tIn combination with the refrigerator and the automobile, the supermarket changed shopping habits.\n",
      "--- + \n",
      "\n",
      "\n",
      "\n",
      "RYBCZYNSKI, City Life:\n",
      "\t\tIn fact, the first supermarket pre dated widespread car ownership and originated in an urban area.\n",
      "--- + \n",
      "\n",
      "\n",
      "\n",
      "MITCHELL, Me The Cyborg Self And The Networked City:\n",
      "\t\tHusbands can describe to their wives the choices they see before them on the supermarket shelves, teenagers can tell their friends where they are and who is hanging out with them, street demonstrators can point out the current positions of the police to their comrades, and celebrity spotters can track the movements of George Clooney through the produce section at Balducci’s.\n",
      "--- + \n",
      "\n",
      "\n",
      "\n",
      "MITCHELL, Me The Cyborg Self And The Networked City:\n",
      "\t\tRFID scanners might also be embedded in warehouse and store shelves for stock control, supermarket and library lanes for automated checkout, and your refrigerator for automated reordering of commodities.\n",
      "--- + \n",
      "\n",
      "\n",
      "\n",
      "KUNSTLER, The City In Mind:\n",
      "\t\tRoutine midday trips to the supermarket now required the kind of strategic planning used in military resupply campaigns under wartime conditions.\n",
      "--- + \n",
      "\n",
      "\n",
      "\n",
      "BROOK, A History Of Future Cities:\n",
      "\t\tThe mall is anchored by a supermarket where all of the exotic luxuries of home—cheese, bread, and breakfast cereal—can be had at a shocking markup.\n",
      "--- + \n",
      "\n",
      "\n",
      "\n",
      "BROOK, A History Of Future Cities:\n",
      "\t\tIn London, Tesco is the mainstream supermarket and the Filipino market is not.\n",
      "--- + \n",
      "\n",
      "\n",
      "\n",
      "BROOK, A History Of Future Cities:\n",
      "\t\tTo the extent that there is a leading supermarket in Dubai, it is Carrefour, the French chain.\n",
      "--- + \n",
      "\n",
      "\n",
      "\n",
      "RATTI & CLAUDEL, The City Of Tomorrow :\n",
      "\t\tThe world’s largest plotter, debuted at the Milan World Expo in 2015, dynamically paints the facade of the Future Food District, a digital supermarket designed in partnership with the Coop Supermarket chain.\n",
      "--- + \n",
      "\n",
      "\n",
      "\n",
      "VENTURI & SCOTT BROWN, Learning From Las Vegas:\n",
      "\t\tOn the commercial strip the supermarket windows contain no merchandise.\n",
      "--- + \n",
      "\n",
      "\n",
      "\n"
     ]
    }
   ],
   "source": [
    "# Setting the topic and the question\n",
    "\n",
    "topic = 'transport'\n",
    "\n",
    "question = 'supermarket'\n",
    "\n",
    "# Hal giving the answers\n",
    "question = question.split(' ')\n",
    "answers = urbotheka.ask_theka(topic, question)\n",
    "for answer in answers: print(f'{answer} + \\n\\n\\n')"
   ]
  },
  {
   "cell_type": "markdown",
   "id": "321e77f6",
   "metadata": {},
   "source": [
    "### HOLISTICITY\n",
    "HAL plays with the details of the words to paint the big picture."
   ]
  },
  {
   "cell_type": "code",
   "execution_count": 29,
   "id": "42af6d72",
   "metadata": {},
   "outputs": [],
   "source": [
    "from HAL.pixels import Picture\n",
    "\n",
    "galaxy_of_concepts = Picture.from_file_path('top_500_central_concepts.png')\n",
    "galaxy_of_concepts.show()"
   ]
  },
  {
   "cell_type": "markdown",
   "id": "57b7b9c1",
   "metadata": {},
   "source": [
    "### QUANTUM NARRATIVES\n",
    "Wiht the help of the generic user, HAL can starts to compose a new music, not a melody, a cacophony.\n",
    "A choir made of voices. The voices of the city."
   ]
  },
  {
   "cell_type": "code",
   "execution_count": 30,
   "id": "4be54eb5",
   "metadata": {},
   "outputs": [
    {
     "name": "stdout",
     "output_type": "stream",
     "text": [
      "Tte_The\n",
      "\n",
      "The new laws, called Zone Green, allow greenhouses to be erected on roofs, along with solar panels and wind turbines; they also promote gardens and local food production, and in general address the wider needs of retrofitting the city, of making greener the city we have in hand. [0] At its heart was a park or green. [1] Fields of LEDs began to take over and transform the roles of the movie poster, the theater marquee, the billboard, the cornice inscription, and even the entire urban facade. [2] The Formula One car effectively became a real time control system—a loop with both sensing and actuating components. [3] The mall is anchored by a supermarket where all of the exotic luxuries of home—cheese, bread, and breakfast cereal—can be had at a shocking markup. [4] Each park was lovingly tended by the locals, who quietly tilled their patches, or otherwise sat around, chatting and welcoming me in to share their pride. [5] The early portion of home to work trips were full of vivid pictures of the flower and trees. [6] The cinema is transparent, with no pretension, a super modern space. [7] The end report also recommended extending meter hours, and only allowing cars to park for four hours. [8] Anyone can do it a skyscraper based on the Chinese pagoda and/or a Tuscan hill town. [9] The city fosters art and is art; the city creates the theater and is the theater. [10] And finally a theater for two hundred and forty spectators. [11] Competing for this chicken and white wine market is the newer OpenAir cinema at Birrarung Mar, a fabulous park by the river in the city. [12] Some people worry that car share might undermine public transportation, taxis, walking, or biking, but the opposite is true. [13] Perhaps the gloss of a beckoning fruit obliterates and outshines any blemishes that, the apple once eaten into and its core now perching exposed on the sideboard, conspire to make it look rotten, or if not rotten then at the very least spotted with flaws. [14] \n",
      "\n",
      "------\n",
      "[0]: HOLLIS, Cities Are Good For You \t[1]: RYBCZYNSKI, City Life \t[2]: MITCHELL, Me The Cyborg Self And The Networked City \t[3]: RATTI & CLAUDEL, The City Of Tomorrow  \t[4]: BROOK, A History Of Future Cities \t[5]: HOLLIS, Cities Are Good For You \t[6]: LYNCH, The Image Of The City \t[7]: LESLIE, Synthetic Worlds \t[8]: HOLLIS, Cities Are Good For You \t[9]: KOOHLAAS, The Generic City \t[10]: MUMFORD, The Culture Of Cities \t[11]: KUNSTLER, The City In Mind \t[12]: HOVESTADT, Quantum City \t[13]: SPECK, Walkable City \t[14]: HOVESTADT, Quantum City \t\n"
     ]
    }
   ],
   "source": [
    "from HAL.literate import Quote, Quotebook\n",
    "\n",
    "quotes = Quotebook.from_collection_of_quotes('quotes.txt')\n",
    "text, footnotes, title = quotes.build_text_randomly(create_title=True, n=15)\n",
    "print(f'{title}\\n\\n{text}\\n\\n------\\n{footnotes}')"
   ]
  },
  {
   "cell_type": "code",
   "execution_count": 3,
   "id": "59838608",
   "metadata": {},
   "outputs": [
    {
     "name": "stdout",
     "output_type": "stream",
     "text": [
      "Video saved to film.mp4\n"
     ]
    }
   ],
   "source": [
    "from HAL.pixels.video import export_video_from_frames\n",
    "\n",
    "export_video_from_frames('/Users/ericgozzi/Desktop/sketches_2', 'film.mp4', 10)"
   ]
  },
  {
   "cell_type": "code",
   "execution_count": null,
   "id": "8943e2b2",
   "metadata": {},
   "outputs": [],
   "source": []
  }
 ],
 "metadata": {
  "kernelspec": {
   "display_name": ".venv",
   "language": "python",
   "name": "python3"
  },
  "language_info": {
   "codemirror_mode": {
    "name": "ipython",
    "version": 3
   },
   "file_extension": ".py",
   "mimetype": "text/x-python",
   "name": "python",
   "nbconvert_exporter": "python",
   "pygments_lexer": "ipython3",
   "version": "3.12.3"
  }
 },
 "nbformat": 4,
 "nbformat_minor": 5
}
