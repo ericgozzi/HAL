{
 "cells": [
  {
   "cell_type": "markdown",
   "id": "2ecae416",
   "metadata": {},
   "source": [
    "# ASK THE LIBRARY\n",
    "\n",
    "Set the library on which to look for"
   ]
  },
  {
   "cell_type": "code",
   "execution_count": 1,
   "id": "30502ed4",
   "metadata": {},
   "outputs": [],
   "source": [
    "from HAL.literate import Library\n",
    "\n",
    "\n",
    "folder = 'on_city_library'\n",
    "library = Library.from_library_folder(folder)"
   ]
  },
  {
   "cell_type": "code",
   "execution_count": 5,
   "id": "c769f643",
   "metadata": {},
   "outputs": [
    {
     "name": "stdout",
     "output_type": "stream",
     "text": [
      "Book: author: KOOHLAAS, title: the generic city\n",
      "Book: author: CALVINO, title: invisible cities\n",
      "Book: author: GREENFIELD, title: against the smart city\n",
      "Book: author: HOLLIS, title: cities are good for you\n",
      "Book: author: RYBCZYNSKI, title: city life\n",
      "Book: author: RATTI & CLAUDEL, title: the city of tomorrow \n",
      "Book: author: SPECK, title: walkable city\n",
      "Book: author: ROSSI, title: the architecture of the city\n",
      "Book: author: KUNSTLER, title: the city in mind\n",
      "Book: author: BROOK, title: a history of future cities\n",
      "Book: author: LE CORBUSIER, title: the city of tomorrow\n",
      "Book: author: GORRINGE, title: a theology of the built environment\n",
      "Book: author: ASCHER, title: the works anatomy of a city\n",
      "Book: author: JACOBS, title: the death and life of great american cities\n",
      "Book: author: LYNCH, title: the image of the city\n",
      "Book: author: ROWE, title: collage city\n",
      "Book: author: MUMFORD, title: the culture of cities\n",
      "Book: author: KOOLHAAS, title: delirious new york\n",
      "Book: author: JUAN, title: rome a city out of print\n",
      "Book: author: HOWARD, title: garden cities of tomorrow\n",
      "Book: author: HOVESTADT, title: quantum city\n",
      "Book: author: VENTURI & SCOTT BROWN, title: learning from las vegas\n",
      "Book: author: MITCHELL, title: me the cyborg self and the networked city\n",
      "Book: author: CAMPANELLA, title: the city of the sun\n",
      "Book: author: KOOLHAAS, title: junkspace with running room\n",
      "Book: author: EISENMAN & KOOLHAAS, title: supercritical\n",
      "Book: author: LE CORBUSIER, title: towards a new architecture\n",
      "Book: author: LESLIE, title: synthetic worlds\n",
      "Book: author: MORE, title: utopia\n",
      "Book: author: DICKENS, title: a tale of two cities\n",
      "Book: author: UNGERS, title: morphologie city metaphors\n",
      "Book: author: HILLIER HANSON, title: the social logic of space\n",
      "Book: author: ROADSHOW, title: a matter of energy\n",
      "Book: author: MITCHELL, title: the logic of architecture\n",
      "Book: author: FRANCOIS, title: where mathematics becomes political\n"
     ]
    }
   ],
   "source": [
    "for book in library.books:\n",
    "    print(book)"
   ]
  },
  {
   "cell_type": "markdown",
   "id": "b4075676",
   "metadata": {},
   "source": [
    "Set a topic, and a question, explore the results"
   ]
  },
  {
   "cell_type": "code",
   "execution_count": 6,
   "id": "0b54fd01",
   "metadata": {},
   "outputs": [
    {
     "name": "stdout",
     "output_type": "stream",
     "text": [
      "HOLLIS, Cities Are Good For You:\n",
      "\t\tIn 2005 a report from the University of Leicester showed that CCTV surveillance had little impact on rates of crime.18 In the case of the neo Nazi bomber David Copeland, who waged a thirteen day campaign in 1999, there was so much surveillance around the first bomb outside a supermarket in Brixton that it took fifty detectives over twenty days to go through all the visual evidence; by the time they had finished, Copeland had already been arrested.\n",
      "---\n",
      "\n",
      "\n",
      "RYBCZYNSKI, City Life:\n",
      "\t\tIn combination with the refrigerator and the automobile, the supermarket changed shopping habits.\n",
      "---\n",
      "\n",
      "\n",
      "RYBCZYNSKI, City Life:\n",
      "\t\tIn fact, the first supermarket pre dated widespread car ownership and originated in an urban area.\n",
      "---\n",
      "\n",
      "\n",
      "RATTI & CLAUDEL, The City Of Tomorrow :\n",
      "\t\tThe world’s largest plotter, debuted at the Milan World Expo in 2015, dynamically paints the facade of the Future Food District, a digital supermarket designed in partnership with the Coop Supermarket chain.\n",
      "---\n",
      "\n",
      "\n",
      "KUNSTLER, The City In Mind:\n",
      "\t\tRoutine midday trips to the supermarket now required the kind of strategic planning used in military resupply campaigns under wartime conditions.\n",
      "---\n",
      "\n",
      "\n",
      "BROOK, A History Of Future Cities:\n",
      "\t\tThe mall is anchored by a supermarket where all of the exotic luxuries of home—cheese, bread, and breakfast cereal—can be had at a shocking markup.\n",
      "---\n",
      "\n",
      "\n",
      "BROOK, A History Of Future Cities:\n",
      "\t\tIn London, Tesco is the mainstream supermarket and the Filipino market is not.\n",
      "---\n",
      "\n",
      "\n",
      "BROOK, A History Of Future Cities:\n",
      "\t\tTo the extent that there is a leading supermarket in Dubai, it is Carrefour, the French chain.\n",
      "---\n",
      "\n",
      "\n",
      "GORRINGE, A Theology Of The Built Environment:\n",
      "\t\tIt is not humankind faced with ‘two ways’, as Deuteronomy suggested, but facing the rows of supermarket shelves.\n",
      "---\n",
      "\n",
      "\n",
      "GORRINGE, A Theology Of The Built Environment:\n",
      "\t\tGiven the amount of food ferried in by air the footprint of any town with a large supermarket expands gigantically.\n",
      "---\n",
      "\n",
      "\n",
      "GORRINGE, A Theology Of The Built Environment:\n",
      "\t\tBut, as Jeffrey Cook puts it, ‘Of all the recognized ecological systems it is human urbanism which seems most destructive of its host.’1' Urban living seems conducive to ‘unnatural behaviour’ precisely because, where all our needs are met from supermarket shelves, we forget that nature works in closed loops.\n",
      "---\n",
      "\n",
      "\n",
      "JACOBS, The Death And Life Of Great American Cities:\n",
      "\t\tOur irreplaceable heritage of Grade I agricultural land (a rare treasure of nature on this earth) is sacrificed for highways or supermarket parking lots as ruthlessly and unthinkingly as the trees in the woodlands are uprooted, the streams and rivers polluted and the air itself filled with the gasoline exhausts (products of eons of nature’s manufacturing) required in this great national effort to cozy up with a fictionalized nature and flee the ‘unnaturalness’ of the city.\n",
      "---\n",
      "\n",
      "\n",
      "HOVESTADT, Quantum City:\n",
      "\t\tJust the kind of boxes you’d find in a supermarket or warehouse that would have Brillo pads in them, or tomato juice or whatever, but they don’t, they’re made of wood and printed on, so I say to Orlando, ‘what the hell is this?’ and he laughs and says: ‘they’re sculptures!’ The crowd is astonishing: you’ve got just about everybody here that matters, and I think I at one point literally bump into Michael Caine of all people, I don’t know what he’s doing in town, and then in the middle of it all you’ve got this Andy Warhol character playing host, smiling benignly at people and welcoming them to his show.\n",
      "---\n",
      "\n",
      "\n",
      "VENTURI & SCOTT BROWN, Learning From Las Vegas:\n",
      "\t\tOn the commercial strip the supermarket windows contain no merchandise.\n",
      "---\n",
      "\n",
      "\n",
      "MITCHELL, Me The Cyborg Self And The Networked City:\n",
      "\t\tHusbands can describe to their wives the choices they see before them on the supermarket shelves, teenagers can tell their friends where they are and who is hanging out with them, street demonstrators can point out the current positions of the police to their comrades, and celebrity spotters can track the movements of George Clooney through the produce section at Balducci’s.\n",
      "---\n",
      "\n",
      "\n",
      "MITCHELL, Me The Cyborg Self And The Networked City:\n",
      "\t\tRFID scanners might also be embedded in warehouse and store shelves for stock control, supermarket and library lanes for automated checkout, and your refrigerator for automated reordering of commodities.\n",
      "---\n",
      "\n",
      "\n",
      "LESLIE, Synthetic Worlds:\n",
      "\t\tIt should seem to leap off the supermarket shelf into the shopper’s basket.\n",
      "---\n",
      "\n",
      "\n",
      "LESLIE, Synthetic Worlds:\n",
      "\t\tShe shops in the supermarket under fluorescent lights, a brighter, colder, cheaper light than daylight.\n",
      "---\n",
      "\n",
      "\n",
      "LESLIE, Synthetic Worlds:\n",
      "\t\tJamie Reid’s cover for The Sex Pistols’ Never Mind the Bollocks adopted the look of a supermarket display, fused with a ransom note.\n",
      "---\n",
      "\n",
      "\n"
     ]
    }
   ],
   "source": [
    "topic = \"city\"\n",
    "question = \"supermarket\"\n",
    "\n",
    "question = question.split(' ')\n",
    "answers = library.ask_theka(topic, question)\n",
    "for answer in answers: \n",
    "    print(f'{answer}\\n\\n')"
   ]
  },
  {
   "cell_type": "markdown",
   "id": "098095ad",
   "metadata": {},
   "source": [
    "# BUILD A NARRATIVE\n",
    "Create a quotebook, rearrange all the quotes randomly, build a text out of it."
   ]
  },
  {
   "cell_type": "code",
   "execution_count": 16,
   "id": "1bcac429",
   "metadata": {},
   "outputs": [
    {
     "name": "stdout",
     "output_type": "stream",
     "text": [
      "Chg_city\n",
      "\n",
      "Cleaner engines, therefore, might reduce emissions; they also encourage us to increase car usage. [0] The whole body of the flower begins to come into view. [1] Light was the matter of cinema too. [2] It makes copyable documents and home cinema film. [3] \"In the age of speed, the skyscraper has petrified the city. [4] We can leave the theater now... [5] Fields of LEDs began to take over and transform the roles of the movie poster, the theater marquee, the billboard, the cornice inscription, and even the entire urban facade. [6] The end report also recommended extending meter hours, and only allowing cars to park for four hours. [7] The new laws, called Zone Green, allow greenhouses to be erected on roofs, along with solar panels and wind turbines; they also promote gardens and local food production, and in general address the wider needs of retrofitting the city, of making greener the city we have in hand. [8] Anyone can do it a skyscraper based on the Chinese pagoda and/or a Tuscan hill town. [9] The city fosters art and is art; the city creates the theater and is the theater. [10] The skyscraper has reestablished the pedestrian, him alone.... [11] A theater and exhibition hall are superimposed over the world of the restaurants. [12] None of the city’s many subway lines came anywhere near Southie, and its denizens had become as car dependent as any suburbanites. [13] It was a car that promised comfort; indeed, luxury. [14] Perhaps the gloss of a beckoning fruit obliterates and outshines any blemishes that, the apple once eaten into and its core now perching exposed on the sideboard, conspire to make it look rotten, or if not rotten then at the very least spotted with flaws. [15] In this way the district round the skyscraper is cleared. [16] Competing for this chicken and white wine market is the newer OpenAir cinema at Birrarung Mar, a fabulous park by the river in the city. [17] And finally a theater for two hundred and forty spectators. [18] So I snatched it from him, and he wept and said, “O youth, this apple is my mother’s and she is ill. [19] \n",
      "\n",
      "------\n",
      "[0]: HOLLIS, Cities Are Good For You \t[1]: HOVESTADT, Quantum City \t[2]: LESLIE, Synthetic Worlds \t[3]: LESLIE, Synthetic Worlds \t[4]: KOOLHAAS, Delirious New York \t[5]: KOOHLAAS, The Generic City \t[6]: MITCHELL, Me The Cyborg Self And The Networked City \t[7]: HOLLIS, Cities Are Good For You \t[8]: HOLLIS, Cities Are Good For You \t[9]: KOOHLAAS, The Generic City \t[10]: MUMFORD, The Culture Of Cities \t[11]: KOOLHAAS, Delirious New York \t[12]: KOOLHAAS, Delirious New York \t[13]: KUNSTLER, The City In Mind \t[14]: HOVESTADT, Quantum City \t[15]: HOVESTADT, Quantum City \t[16]: LE CORBUSIER, The City Of Tomorrow \t[17]: HOVESTADT, Quantum City \t[18]: KUNSTLER, The City In Mind \t[19]: HOVESTADT, Quantum City \t\n"
     ]
    }
   ],
   "source": [
    "from HAL.literate import Quote, Quotebook\n",
    "\n",
    "quotes = Quotebook.from_collection_of_quotes('quotes.txt')\n",
    "\n",
    "text, footnotes, title = quotes.build_text_randomly(create_title=True, n=20)\n",
    "\n",
    "print(title)\n",
    "print()\n",
    "print(text)\n",
    "print()\n",
    "print('------')\n",
    "print(footnotes)"
   ]
  },
  {
   "cell_type": "markdown",
   "id": "280c87f7",
   "metadata": {},
   "source": [
    "Export the narrative as a .txt"
   ]
  },
  {
   "cell_type": "code",
   "execution_count": 17,
   "id": "6c79cdf7",
   "metadata": {},
   "outputs": [],
   "source": [
    "from HAL.data import write_file\n",
    "\n",
    "write_file(f'narratives/{title}.txt', text)"
   ]
  },
  {
   "cell_type": "markdown",
   "id": "32014418",
   "metadata": {},
   "source": [
    "Export the narrative as a pdf."
   ]
  },
  {
   "cell_type": "code",
   "execution_count": 2,
   "id": "bc054ef9",
   "metadata": {},
   "outputs": [
    {
     "name": "stdout",
     "output_type": "stream",
     "text": [
      "Aplausos! The PDF pdfs/T e_also.pdf has been exported!\n"
     ]
    }
   ],
   "source": [
    "from HAL.data import PDF\n",
    "\n",
    "pdf = PDF(f'pdfs/{title}')\n",
    "pdf.add_paragraph(title, font_size=20, space_after=30)\n",
    "pdf.add_paragraph(text, font_size=12, space_after=50)\n",
    "pdf.add_paragraph('---------------')\n",
    "pdf.add_paragraph(footnotes, font_size=10)\n",
    "pdf.export()"
   ]
  },
  {
   "cell_type": "code",
   "execution_count": 58,
   "id": "b931ca64",
   "metadata": {},
   "outputs": [],
   "source": [
    "text = text.replace('car', '<font color=\"red\">car</font>')"
   ]
  },
  {
   "cell_type": "code",
   "execution_count": 59,
   "id": "103bfdba",
   "metadata": {},
   "outputs": [
    {
     "name": "stdout",
     "output_type": "stream",
     "text": [
      "Aplausos! The PDF pdfs/Stn_car.pdf has been exported!\n"
     ]
    }
   ],
   "source": [
    "from HAL.data import PDF\n",
    "\n",
    "pdf = PDF(f'pdfs/{title}')\n",
    "pdf.add_paragraph(title, font_size=20, space_after=30)\n",
    "pdf.add_paragraph(text, font_size=12, space_after=50)\n",
    "pdf.add_paragraph('---------------')\n",
    "pdf.add_paragraph(footnotes, font_size=10)\n",
    "pdf.export()"
   ]
  },
  {
   "cell_type": "code",
   "execution_count": 2,
   "id": "0e893877",
   "metadata": {},
   "outputs": [],
   "source": [
    "from HAL.pixels.colors import WHITE\n",
    "from HAL.pixels.colors import Color\n",
    "from HAL.pixels import get_blank_picture\n",
    "from HAL.pixels import add_centered_text\n",
    "picture = get_blank_picture(512, 512, Color(255, 0, 0), border_thickness=10)\n",
    "picture = add_centered_text(picture, \"Hello, how are you?\", color=Color(0, 255, 0), font_size=30)\n",
    "picture.show()"
   ]
  },
  {
   "cell_type": "code",
   "execution_count": 13,
   "id": "08a96aaf",
   "metadata": {},
   "outputs": [],
   "source": [
    "pic = get_blank_picture(512, 512, Color(255, 255, 255), border_thickness=1, border_color=Color(255, 0, 255))\n",
    "pic1 = add_centered_text(pic, \"Hello\", font_size=100)\n",
    "\n",
    "pic2 = add_centered_text(pic, \"Noob\")\n",
    "pic3 = add_centered_text(pic, \"Boobs\")\n",
    "pic4 = add_centered_text(pic, \"bomber\")\n",
    "pics = [pic1, pic2, pic3, pic4]\n",
    "\n",
    "from HAL.pixels import create_grid_of_pictures\n",
    "pics = create_grid_of_pictures(pics, image_size=pic.size)\n",
    "pics.show()"
   ]
  }
 ],
 "metadata": {
  "kernelspec": {
   "display_name": ".venv",
   "language": "python",
   "name": "python3"
  },
  "language_info": {
   "codemirror_mode": {
    "name": "ipython",
    "version": 3
   },
   "file_extension": ".py",
   "mimetype": "text/x-python",
   "name": "python",
   "nbconvert_exporter": "python",
   "pygments_lexer": "ipython3",
   "version": "3.12.3"
  }
 },
 "nbformat": 4,
 "nbformat_minor": 5
}
