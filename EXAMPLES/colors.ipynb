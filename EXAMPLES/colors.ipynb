{
 "cells": [
  {
   "cell_type": "code",
   "execution_count": 1,
   "metadata": {},
   "outputs": [
    {
     "ename": "ModuleNotFoundError",
     "evalue": "No module named 'HAL'",
     "output_type": "error",
     "traceback": [
      "\u001b[31m---------------------------------------------------------------------------\u001b[39m",
      "\u001b[31mModuleNotFoundError\u001b[39m                       Traceback (most recent call last)",
      "\u001b[36mCell\u001b[39m\u001b[36m \u001b[39m\u001b[32mIn[1]\u001b[39m\u001b[32m, line 1\u001b[39m\n\u001b[32m----> \u001b[39m\u001b[32m1\u001b[39m \u001b[38;5;28;01mfrom\u001b[39;00m\u001b[38;5;250m \u001b[39m\u001b[34;01mHAL\u001b[39;00m\u001b[34;01m.\u001b[39;00m\u001b[34;01mpixels\u001b[39;00m\u001b[38;5;250m \u001b[39m\u001b[38;5;28;01mimport\u001b[39;00m Color\n\u001b[32m      3\u001b[39m colors = [\n\u001b[32m      4\u001b[39m     Color.YELLOW,\n\u001b[32m      5\u001b[39m     Color.GOLD,\n\u001b[32m   (...)\u001b[39m\u001b[32m     22\u001b[39m     Color.ARMY_GREEN,\n\u001b[32m     23\u001b[39m ]\n\u001b[32m     24\u001b[39m shades = [\n\u001b[32m     25\u001b[39m     Color.WHITE,\n\u001b[32m     26\u001b[39m     Color.VERY_LIGHT_GRAY,\n\u001b[32m   (...)\u001b[39m\u001b[32m     33\u001b[39m     Color.BLACK,\n\u001b[32m     34\u001b[39m ]\n",
      "\u001b[31mModuleNotFoundError\u001b[39m: No module named 'HAL'"
     ]
    }
   ],
   "source": [
    "from HAL.pixels import Color\n",
    "\n",
    "colors = [\n",
    "    Color.YELLOW,\n",
    "    Color.GOLD,\n",
    "    Color.ORANGE,\n",
    "    Color.CORAL,\n",
    "    Color.RED,\n",
    "    Color.ROSE,\n",
    "    Color.MAGENTA,\n",
    "    Color.HELIOTROPE,\n",
    "    Color.PURPLE,\n",
    "    Color.INDIGO,\n",
    "    Color.BLUE,\n",
    "    Color.AZURE,\n",
    "    Color.CYAN,\n",
    "    Color.TURQUOISE,\n",
    "    Color.SPRING_GREEN,\n",
    "    Color.GREEN,\n",
    "    Color.YELLOW_GREEN,\n",
    "    Color.OLIVE,\n",
    "    Color.ARMY_GREEN,\n",
    "]\n",
    "shades = [\n",
    "    Color.WHITE,\n",
    "    Color.VERY_LIGHT_GRAY,\n",
    "    Color.LIGHT_GRAY,\n",
    "    Color.MODERATE_LIGHT_GRAY,\n",
    "    Color.GRAY,\n",
    "    Color.MODERATE_DARK_GRAY,\n",
    "    Color.DARK_GRAY,\n",
    "    Color.VERY_DARK_GRAY,\n",
    "    Color.BLACK,\n",
    "]\n",
    "print(colors)\n",
    "print(shades)\n"
   ]
  },
  {
   "cell_type": "code",
   "execution_count": 1,
   "metadata": {},
   "outputs": [
    {
     "ename": "ModuleNotFoundError",
     "evalue": "No module named 'HAL'",
     "output_type": "error",
     "traceback": [
      "\u001b[31m---------------------------------------------------------------------------\u001b[39m",
      "\u001b[31mModuleNotFoundError\u001b[39m                       Traceback (most recent call last)",
      "\u001b[36mCell\u001b[39m\u001b[36m \u001b[39m\u001b[32mIn[1]\u001b[39m\u001b[32m, line 1\u001b[39m\n\u001b[32m----> \u001b[39m\u001b[32m1\u001b[39m \u001b[38;5;28;01mfrom\u001b[39;00m\u001b[38;5;250m \u001b[39m\u001b[34;01mHAL\u001b[39;00m\u001b[34;01m.\u001b[39;00m\u001b[34;01msurfer\u001b[39;00m\u001b[38;5;250m \u001b[39m\u001b[38;5;28;01mimport\u001b[39;00m crawl_images\n\u001b[32m      2\u001b[39m \u001b[38;5;28;01mfrom\u001b[39;00m\u001b[38;5;250m \u001b[39m\u001b[34;01mHAL\u001b[39;00m\u001b[34;01m.\u001b[39;00m\u001b[34;01mpixels\u001b[39;00m\u001b[38;5;250m \u001b[39m\u001b[38;5;28;01mimport\u001b[39;00m Picture\n\u001b[32m      4\u001b[39m image = crawl_images(\u001b[33m'\u001b[39m\u001b[33mgrand budapest hotel lobby\u001b[39m\u001b[33m'\u001b[39m, \u001b[32m1\u001b[39m)[\u001b[32m0\u001b[39m]\n",
      "\u001b[31mModuleNotFoundError\u001b[39m: No module named 'HAL'"
     ]
    }
   ],
   "source": [
    "from HAL.surfer import crawl_images\n",
    "from HAL.pixels import Picture\n",
    "\n",
    "image = crawl_images('grand budapest hotel lobby', 1)[0]\n",
    "\n",
    "image\n"
   ]
  },
  {
   "cell_type": "code",
   "execution_count": 3,
   "metadata": {},
   "outputs": [
    {
     "name": "stdout",
     "output_type": "stream",
     "text": [
      "[\u001b[48;2;253;231;206m  \u001b[0m, \u001b[48;2;236;195;174m  \u001b[0m, \u001b[48;2;231;152;130m  \u001b[0m, \u001b[48;2;193;147;131m  \u001b[0m, \u001b[48;2;230;113;95m  \u001b[0m, \u001b[48;2;200;112;90m  \u001b[0m, \u001b[48;2;184;109;86m  \u001b[0m, \u001b[48;2;159;112;99m  \u001b[0m, \u001b[48;2;218;90;73m  \u001b[0m, \u001b[48;2;197;89;63m  \u001b[0m, \u001b[48;2;185;93;68m  \u001b[0m, \u001b[48;2;186;84;58m  \u001b[0m, \u001b[48;2;172;92;70m  \u001b[0m, \u001b[48;2;172;83;61m  \u001b[0m, \u001b[48;2;161;87;68m  \u001b[0m, \u001b[48;2;138;88;76m  \u001b[0m, \u001b[48;2;220;71;71m  \u001b[0m, \u001b[48;2;193;74;56m  \u001b[0m, \u001b[48;2;183;77;54m  \u001b[0m, \u001b[48;2;183;69;48m  \u001b[0m, \u001b[48;2;172;76;59m  \u001b[0m, \u001b[48;2;172;74;45m  \u001b[0m, \u001b[48;2;172;67;48m  \u001b[0m, \u001b[48;2;159;77;58m  \u001b[0m, \u001b[48;2;158;72;53m  \u001b[0m, \u001b[48;2;157;66;47m  \u001b[0m, \u001b[48;2;144;73;57m  \u001b[0m, \u001b[48;2;144;66;50m  \u001b[0m, \u001b[48;2;121;69;60m  \u001b[0m, \u001b[48;2;233;52;54m  \u001b[0m, \u001b[48;2;217;50;55m  \u001b[0m, \u001b[48;2;197;54;56m  \u001b[0m, \u001b[48;2;197;45;50m  \u001b[0m, \u001b[48;2;173;60;43m  \u001b[0m, \u001b[48;2;163;60;42m  \u001b[0m, \u001b[48;2;170;50;40m  \u001b[0m, \u001b[48;2;155;61;42m  \u001b[0m, \u001b[48;2;155;57;36m  \u001b[0m, \u001b[48;2;145;59;43m  \u001b[0m, \u001b[48;2;153;52;33m  \u001b[0m, \u001b[48;2;144;52;35m  \u001b[0m, \u001b[48;2;149;46;29m  \u001b[0m, \u001b[48;2;137;60;46m  \u001b[0m, \u001b[48;2;128;59;47m  \u001b[0m, \u001b[48;2;136;54;40m  \u001b[0m, \u001b[48;2;127;54;42m  \u001b[0m, \u001b[48;2;135;50;34m  \u001b[0m, \u001b[48;2;136;45;28m  \u001b[0m, \u001b[48;2;126;47;34m  \u001b[0m, \u001b[48;2;117;58;48m  \u001b[0m, \u001b[48;2;116;51;41m  \u001b[0m, \u001b[48;2;116;46;35m  \u001b[0m, \u001b[48;2;103;50;43m  \u001b[0m, \u001b[48;2;85;49;46m  \u001b[0m, \u001b[48;2;227;39;39m  \u001b[0m, \u001b[48;2;230;27;34m  \u001b[0m, \u001b[48;2;233;15;26m  \u001b[0m, \u001b[48;2;224;15;25m  \u001b[0m, \u001b[48;2;227;11;22m  \u001b[0m, \u001b[48;2;225;7;18m  \u001b[0m, \u001b[48;2;208;39;43m  \u001b[0m, \u001b[48;2;207;31;36m  \u001b[0m, \u001b[48;2;184;35;42m  \u001b[0m, \u001b[48;2;202;19;26m  \u001b[0m, \u001b[48;2;178;18;28m  \u001b[0m, \u001b[48;2;198;7;17m  \u001b[0m, \u001b[48;2;156;39;31m  \u001b[0m, \u001b[48;2;136;39;22m  \u001b[0m, \u001b[48;2;150;28;27m  \u001b[0m, \u001b[48;2;125;40;24m  \u001b[0m, \u001b[48;2;117;39;27m  \u001b[0m, \u001b[48;2;121;29;17m  \u001b[0m, \u001b[48;2;163;13;25m  \u001b[0m, \u001b[48;2;162;8;24m  \u001b[0m, \u001b[48;2;160;3;19m  \u001b[0m, \u001b[48;2;142;7;14m  \u001b[0m, \u001b[48;2;119;8;7m  \u001b[0m, \u001b[48;2;109;39;28m  \u001b[0m, \u001b[48;2;100;39;31m  \u001b[0m, \u001b[48;2;104;31;20m  \u001b[0m, \u001b[48;2;91;37;31m  \u001b[0m, \u001b[48;2;80;37;32m  \u001b[0m, \u001b[48;2;85;31;24m  \u001b[0m, \u001b[48;2;104;23;14m  \u001b[0m, \u001b[48;2;91;23;15m  \u001b[0m, \u001b[48;2;79;23;17m  \u001b[0m, \u001b[48;2;103;7;6m  \u001b[0m, \u001b[48;2;81;8;6m  \u001b[0m, \u001b[48;2;66;33;31m  \u001b[0m, \u001b[48;2;64;25;22m  \u001b[0m, \u001b[48;2;64;20;14m  \u001b[0m, \u001b[48;2;64;14;8m  \u001b[0m, \u001b[48;2;45;25;26m  \u001b[0m, \u001b[48;2;43;18;17m  \u001b[0m, \u001b[48;2;47;14;13m  \u001b[0m, \u001b[48;2;30;13;14m  \u001b[0m, \u001b[48;2;58;4;2m  \u001b[0m, \u001b[48;2;38;4;4m  \u001b[0m, \u001b[48;2;23;3;6m  \u001b[0m, \u001b[48;2;10;2;7m  \u001b[0m]\n",
      "(0.0, 8.695652173913043, 18.57707509881423, -25200)\n",
      "#FDE7CE\n",
      "(253, 231, 206)\n",
      "(0.8022, 0.8249, 0.7009)\n",
      "(92.7907, 3.5923, 14.8822)\n",
      "(31.91, 0.9216, 0.9)\n",
      "(31.91, 0.1858, 0.9922)\n",
      "127.59702190882042\n"
     ]
    }
   ],
   "source": [
    "colors = image.get_main_colors(100)\n",
    "\n",
    "print(colors)\n",
    "\n",
    "print(colors[0].cmyk)\n",
    "print(colors[0].hex)\n",
    "print(colors[0].rgb)\n",
    "print(colors[0].xyz)\n",
    "print(colors[0].lab)\n",
    "print(colors[0].hsl)\n",
    "print(colors[0].hsv)\n",
    "print(Color.rgb_distance(colors[0], colors[3]))"
   ]
  },
  {
   "cell_type": "code",
   "execution_count": 4,
   "metadata": {},
   "outputs": [
    {
     "name": "stdout",
     "output_type": "stream",
     "text": [
      "\u001b[48;2;255;0;0m  \u001b[0m (0.0, 1.0, 1.0)\n",
      "\u001b[48;2;0;255;255m  \u001b[0m (180.0, 1.0, 1.0)\n"
     ]
    }
   ],
   "source": [
    "cl = Color.RED\n",
    "\n",
    "print(cl, cl.hsv)\n",
    "print(cl.get_complementary(), cl.get_complementary().hsv)"
   ]
  },
  {
   "cell_type": "code",
   "execution_count": 5,
   "metadata": {},
   "outputs": [
    {
     "name": "stdout",
     "output_type": "stream",
     "text": [
      "\u001b[48;2;0;255;255m  \u001b[0m\n",
      "[\u001b[48;2;0;255;233m  \u001b[0m, \u001b[48;2;0;255;237m  \u001b[0m, \u001b[48;2;0;255;242m  \u001b[0m, \u001b[48;2;0;255;246m  \u001b[0m, \u001b[48;2;0;255;250m  \u001b[0m, \u001b[48;2;0;255;255m  \u001b[0m, \u001b[48;2;0;250;255m  \u001b[0m, \u001b[48;2;0;246;255m  \u001b[0m, \u001b[48;2;0;242;255m  \u001b[0m, \u001b[48;2;0;238;255m  \u001b[0m, \u001b[48;2;0;233;255m  \u001b[0m]\n",
      "[\u001b[48;2;0;255;212m  \u001b[0m, \u001b[48;2;0;255;221m  \u001b[0m, \u001b[48;2;0;255;229m  \u001b[0m, \u001b[48;2;0;255;237m  \u001b[0m, \u001b[48;2;0;255;246m  \u001b[0m, \u001b[48;2;0;255;255m  \u001b[0m, \u001b[48;2;0;246;255m  \u001b[0m, \u001b[48;2;0;238;255m  \u001b[0m, \u001b[48;2;0;229;255m  \u001b[0m, \u001b[48;2;0;220;255m  \u001b[0m, \u001b[48;2;0;212;255m  \u001b[0m]\n",
      "[\u001b[48;2;0;255;191m  \u001b[0m, \u001b[48;2;0;255;203m  \u001b[0m, \u001b[48;2;0;255;216m  \u001b[0m, \u001b[48;2;0;255;229m  \u001b[0m, \u001b[48;2;0;255;242m  \u001b[0m, \u001b[48;2;0;255;255m  \u001b[0m, \u001b[48;2;0;242;255m  \u001b[0m, \u001b[48;2;0;229;255m  \u001b[0m, \u001b[48;2;0;216;255m  \u001b[0m, \u001b[48;2;0;203;255m  \u001b[0m, \u001b[48;2;0;191;255m  \u001b[0m]\n",
      "[\u001b[48;2;0;255;169m  \u001b[0m, \u001b[48;2;0;255;187m  \u001b[0m, \u001b[48;2;0;255;203m  \u001b[0m, \u001b[48;2;0;255;221m  \u001b[0m, \u001b[48;2;0;255;237m  \u001b[0m, \u001b[48;2;0;255;255m  \u001b[0m, \u001b[48;2;0;238;255m  \u001b[0m, \u001b[48;2;0;220;255m  \u001b[0m, \u001b[48;2;0;203;255m  \u001b[0m, \u001b[48;2;0;187;255m  \u001b[0m, \u001b[48;2;0;169;255m  \u001b[0m]\n",
      "[\u001b[48;2;0;255;148m  \u001b[0m, \u001b[48;2;0;255;169m  \u001b[0m, \u001b[48;2;0;255;191m  \u001b[0m, \u001b[48;2;0;255;212m  \u001b[0m, \u001b[48;2;0;255;233m  \u001b[0m, \u001b[48;2;0;255;255m  \u001b[0m, \u001b[48;2;0;233;255m  \u001b[0m, \u001b[48;2;0;212;255m  \u001b[0m, \u001b[48;2;0;191;255m  \u001b[0m, \u001b[48;2;0;169;255m  \u001b[0m, \u001b[48;2;0;148;255m  \u001b[0m]\n",
      "[\u001b[48;2;0;255;127m  \u001b[0m, \u001b[48;2;0;255;153m  \u001b[0m, \u001b[48;2;0;255;178m  \u001b[0m, \u001b[48;2;0;255;203m  \u001b[0m, \u001b[48;2;0;255;229m  \u001b[0m, \u001b[48;2;0;255;255m  \u001b[0m, \u001b[48;2;0;229;255m  \u001b[0m, \u001b[48;2;0;203;255m  \u001b[0m, \u001b[48;2;0;178;255m  \u001b[0m, \u001b[48;2;0;153;255m  \u001b[0m, \u001b[48;2;0;127;255m  \u001b[0m]\n",
      "[\u001b[48;2;0;255;106m  \u001b[0m, \u001b[48;2;0;255;135m  \u001b[0m, \u001b[48;2;0;255;165m  \u001b[0m, \u001b[48;2;0;255;195m  \u001b[0m, \u001b[48;2;0;255;225m  \u001b[0m, \u001b[48;2;0;255;255m  \u001b[0m, \u001b[48;2;0;225;255m  \u001b[0m, \u001b[48;2;0;195;255m  \u001b[0m, \u001b[48;2;0;165;255m  \u001b[0m, \u001b[48;2;0;136;255m  \u001b[0m, \u001b[48;2;0;106;255m  \u001b[0m]\n",
      "[\u001b[48;2;0;255;85m  \u001b[0m, \u001b[48;2;0;255;119m  \u001b[0m, \u001b[48;2;0;255;153m  \u001b[0m, \u001b[48;2;0;255;187m  \u001b[0m, \u001b[48;2;0;255;221m  \u001b[0m, \u001b[48;2;0;255;255m  \u001b[0m, \u001b[48;2;0;220;255m  \u001b[0m, \u001b[48;2;0;187;255m  \u001b[0m, \u001b[48;2;0;153;255m  \u001b[0m, \u001b[48;2;0;119;255m  \u001b[0m, \u001b[48;2;0;84;255m  \u001b[0m]\n",
      "[\u001b[48;2;0;255;63m  \u001b[0m, \u001b[48;2;0;255;102m  \u001b[0m, \u001b[48;2;0;255;140m  \u001b[0m, \u001b[48;2;0;255;178m  \u001b[0m, \u001b[48;2;0;255;216m  \u001b[0m, \u001b[48;2;0;255;255m  \u001b[0m, \u001b[48;2;0;216;255m  \u001b[0m, \u001b[48;2;0;178;255m  \u001b[0m, \u001b[48;2;0;140;255m  \u001b[0m, \u001b[48;2;0;102;255m  \u001b[0m, \u001b[48;2;0;63;255m  \u001b[0m]\n"
     ]
    }
   ],
   "source": [
    "cl = Color.CYAN\n",
    "print(cl)\n",
    "for i in range(1, 10):\n",
    "    print(cl.get_analogus(n=10, angle=i))          "
   ]
  }
 ],
 "metadata": {
  "kernelspec": {
   "display_name": "HAL",
   "language": "python",
   "name": "python3"
  },
  "language_info": {
   "codemirror_mode": {
    "name": "ipython",
    "version": 3
   },
   "file_extension": ".py",
   "mimetype": "text/x-python",
   "name": "python",
   "nbconvert_exporter": "python",
   "pygments_lexer": "ipython3",
   "version": "3.11.11"
  }
 },
 "nbformat": 4,
 "nbformat_minor": 2
}
