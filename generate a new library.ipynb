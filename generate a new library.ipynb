{
 "cells": [
  {
   "cell_type": "code",
   "execution_count": 1,
   "id": "5774ba03",
   "metadata": {},
   "outputs": [],
   "source": [
    "from HAL.literate import *\n",
    "from HAL.data import get_all_file_names_in_a_folder"
   ]
  },
  {
   "cell_type": "markdown",
   "id": "46cfce40",
   "metadata": {},
   "source": [
    "## Get the list of books"
   ]
  },
  {
   "cell_type": "code",
   "execution_count": 9,
   "id": "5ff0ec70",
   "metadata": {},
   "outputs": [
    {
     "name": "stdout",
     "output_type": "stream",
     "text": [
      "AESOP_The fables of Aesop.txt\n",
      "ARISTHOTLE_The Ethics of Aristotle.txt\n",
      "AUSTEN_Pride and Prejudice.txt\n",
      "BACON_New Atlantis.txt\n",
      "CARROLL_Alice in Wonderland.txt\n",
      "CERVANTES_Don Quixote.txt\n",
      "DANTE_The Divine Comedy - Hell.txt\n",
      "DARWIN_On the Origin of Species.txt\n",
      "DICKENS_A Tale of two Cities.txt\n",
      "DICKENS_Oliver Twist.txt\n",
      "DOSTOYEVSKY_Crime and Punishement.txt\n",
      "DOYLE_The Adventures of Sherlock Holmes.txt\n",
      "DUMANS_The Count of Montecristo.txt\n",
      "FITZGERALD_The Great Gatsby.txt\n",
      "GOETHE_Faust.txt\n",
      "GRIMM & GRIMM_Household tales by Brothers Grimm.txt.txt\n",
      "HOBBES_Levithan.txt\n",
      "HOMER_The Odyssey.txt\n",
      "HUGO_Les Miserables.txt\n",
      "HUGO_Notre-Dame de Paris.txt\n",
      "JOYCE_Ulysses.txt\n",
      "KAFKA_Metamorphosis.txt\n",
      "MACHIAVELLI_The Prince.txt\n",
      "MOLIERE_Tartuffe or the Hypocrite.txt\n",
      "MORE_Utopia.txt\n",
      "PLATO_The Republic.txt\n",
      "SCHILLER_Wilhelm Tell.txt\n",
      "SHAKESPEARE_Macbeth.txt\n",
      "SHAKESPEARE_Romeo and Juliet.txt\n",
      "SHELLEY_Frankenstein.txt\n",
      "ST AUGUSTINE_the condessions of st augustine.txt\n",
      "STEVENSON_The Strange Case of Dr Jekyll and Mr Hyde.txt\n",
      "STOKER_Dracula.txt\n",
      "THOREAU_Walden.txt\n",
      "TOLSTOY_Anna Karenina.txt\n",
      "TOLSTOY_War and Peace.txt\n",
      "VIRGIL_The Aeneid.txt\n",
      "WILDE_The Picture of Dorian Gray.txt\n"
     ]
    },
    {
     "data": {
      "text/plain": [
       "[<HAL.literate.book.Book at 0x1790282c4d0>,\n",
       " <HAL.literate.book.Book at 0x1790282fad0>,\n",
       " <HAL.literate.book.Book at 0x1790282f590>,\n",
       " <HAL.literate.book.Book at 0x1790282f9b0>,\n",
       " <HAL.literate.book.Book at 0x1790282fd70>,\n",
       " <HAL.literate.book.Book at 0x1790282c830>,\n",
       " <HAL.literate.book.Book at 0x1790282fef0>,\n",
       " <HAL.literate.book.Book at 0x179028c80b0>,\n",
       " <HAL.literate.book.Book at 0x1790282fe90>,\n",
       " <HAL.literate.book.Book at 0x1790282fa10>,\n",
       " <HAL.literate.book.Book at 0x179028c82f0>,\n",
       " <HAL.literate.book.Book at 0x1790e3a34d0>,\n",
       " <HAL.literate.book.Book at 0x1790e3a2c90>,\n",
       " <HAL.literate.book.Book at 0x1790e3a3c50>,\n",
       " <HAL.literate.book.Book at 0x179028c8230>,\n",
       " <HAL.literate.book.Book at 0x1790e3a2e10>,\n",
       " <HAL.literate.book.Book at 0x1790e3a2cf0>,\n",
       " <HAL.literate.book.Book at 0x1790e3a2810>,\n",
       " <HAL.literate.book.Book at 0x1790e3a39b0>,\n",
       " <HAL.literate.book.Book at 0x1790e3a2450>,\n",
       " <HAL.literate.book.Book at 0x1790e3a15b0>,\n",
       " <HAL.literate.book.Book at 0x1790e3a3830>,\n",
       " <HAL.literate.book.Book at 0x1790e3a0fb0>,\n",
       " <HAL.literate.book.Book at 0x1790e3a10d0>,\n",
       " <HAL.literate.book.Book at 0x1790e3a1d30>,\n",
       " <HAL.literate.book.Book at 0x1790e3a2db0>,\n",
       " <HAL.literate.book.Book at 0x1790e3a30b0>,\n",
       " <HAL.literate.book.Book at 0x1790e3a36b0>,\n",
       " <HAL.literate.book.Book at 0x1790e3a1670>,\n",
       " <HAL.literate.book.Book at 0x1790e3a3710>,\n",
       " <HAL.literate.book.Book at 0x1790e3a38f0>,\n",
       " <HAL.literate.book.Book at 0x1790e3a3ad0>,\n",
       " <HAL.literate.book.Book at 0x1790e3a3ef0>,\n",
       " <HAL.literate.book.Book at 0x1790e3a3a70>,\n",
       " <HAL.literate.book.Book at 0x1790e3a3bf0>,\n",
       " <HAL.literate.book.Book at 0x1790e3a3890>,\n",
       " <HAL.literate.book.Book at 0x1790e3a22d0>,\n",
       " <HAL.literate.book.Book at 0x1790e3a2bd0>]"
      ]
     },
     "execution_count": 9,
     "metadata": {},
     "output_type": "execute_result"
    }
   ],
   "source": [
    "folder = 'classics'\n",
    "\n",
    "books_flow = get_all_file_names_in_a_folder(folder)\n",
    "\n",
    "books = []\n",
    "for book in books_flow:\n",
    "    print(book)\n",
    "    author, title = book.split('_')\n",
    "    title = title.split('.')[0]\n",
    "\n",
    "    book = Book.from_author_title_and_content(author, title, f'{folder}/{book}')\n",
    "    book.curate_book()\n",
    "    books.append(book)\n",
    "\n",
    "books"
   ]
  },
  {
   "cell_type": "code",
   "execution_count": 10,
   "id": "12ca544d",
   "metadata": {},
   "outputs": [],
   "source": [
    "library = Library.from_list_of_books(books, 'classitheka')"
   ]
  },
  {
   "cell_type": "code",
   "execution_count": 9,
   "id": "a4f259ba",
   "metadata": {},
   "outputs": [
    {
     "name": "stdout",
     "output_type": "stream",
     "text": [
      "Book: author: BAUDRILLARD, title: the vital illusion\n",
      "Book: author: BRAIDOTTI & HLAVAJOVA, title: postuman glossary\n",
      "Book: author: BRAIDOTTI, title: patterns of dissonance\n",
      "Book: author: BRAIDOTTI, title: the posthuman\n",
      "Book: author: CARPO, title: the second digital turn\n",
      "Book: author: CASTELLS, title: the rise of the network society\n",
      "Book: author: COHEN, title: twilight of the anthropocene\n",
      "Book: author: COLEBROOK, title: death of the posthuman\n",
      "Book: author: EASTERLING, title: extrastatecraft\n",
      "Book: author: ESHUN, title: more briliant than the sun\n",
      "Book: author: HARAWAY, title: cyborg manifesto\n",
      "Book: author: HARAWAY, title: staying with the trouble\n",
      "Book: author: HARRIS, title: governing by design\n",
      "Book: author: HARRIS, title: the queer life of things\n",
      "Book: author: HOVESTADT & BUEHLMANN, title: eigenarchitecture\n",
      "Book: author: MITCHELL, title: me the cyborg and the networked city\n",
      "Book: author: MORTON, title: hyperobjects\n",
      "Book: author: SERRES, title: the incadescent\n",
      "Book: author: SPECK, title: walkable city\n",
      "Book: author: TOY, title: architects in cyberspace\n",
      "Book: author: VAROUFAKIS, title: technofeudalism\n",
      "Book: author: WEINSTONE, title: avatar bodies\n",
      "Book: author: WILSON, title: aesthesis and perceptronium on the entanglement of sensation cognition and matter\n"
     ]
    }
   ],
   "source": [
    "for book in books: print(book)"
   ]
  },
  {
   "cell_type": "code",
   "execution_count": 11,
   "id": "2b1ec13c",
   "metadata": {},
   "outputs": [
    {
     "name": "stdout",
     "output_type": "stream",
     "text": [
      "Book: author: AESOP, title: the fables of aesop\n",
      "Book: author: ARISTHOTLE, title: the ethics of aristotle\n",
      "Book: author: AUSTEN, title: pride and prejudice\n",
      "Book: author: BACON, title: new atlantis\n",
      "Book: author: CARROLL, title: alice in wonderland\n",
      "Book: author: CERVANTES, title: don quixote\n",
      "Book: author: DANTE, title: the divine comedy - hell\n",
      "Book: author: DARWIN, title: on the origin of species\n",
      "Book: author: DICKENS, title: a tale of two cities\n",
      "Book: author: DICKENS, title: oliver twist\n",
      "Book: author: DOSTOYEVSKY, title: crime and punishement\n",
      "Book: author: DOYLE, title: the adventures of sherlock holmes\n",
      "Book: author: DUMANS, title: the count of montecristo\n",
      "Book: author: FITZGERALD, title: the great gatsby\n",
      "Book: author: GOETHE, title: faust\n",
      "Book: author: GRIMM & GRIMM, title: household tales by brothers grimm\n",
      "Book: author: HOBBES, title: levithan\n",
      "Book: author: HOMER, title: the odyssey\n",
      "Book: author: HUGO, title: les miserables\n",
      "Book: author: HUGO, title: notre-dame de paris\n",
      "Book: author: JOYCE, title: ulysses\n",
      "Book: author: KAFKA, title: metamorphosis\n",
      "Book: author: MACHIAVELLI, title: the prince\n",
      "Book: author: MOLIERE, title: tartuffe or the hypocrite\n",
      "Book: author: MORE, title: utopia\n",
      "Book: author: PLATO, title: the republic\n",
      "Book: author: SCHILLER, title: wilhelm tell\n",
      "Book: author: SHAKESPEARE, title: macbeth\n",
      "Book: author: SHAKESPEARE, title: romeo and juliet\n",
      "Book: author: SHELLEY, title: frankenstein\n",
      "Book: author: ST AUGUSTINE, title: the condessions of st augustine\n",
      "Book: author: STEVENSON, title: the strange case of dr jekyll and mr hyde\n",
      "Book: author: STOKER, title: dracula\n",
      "Book: author: THOREAU, title: walden\n",
      "Book: author: TOLSTOY, title: anna karenina\n",
      "Book: author: TOLSTOY, title: war and peace\n",
      "Book: author: VIRGIL, title: the aeneid\n",
      "Book: author: WILDE, title: the picture of dorian gray\n"
     ]
    }
   ],
   "source": [
    "library = Library.from_library_folder('classitheka')\n",
    "\n",
    "for book in library.books: print(book)"
   ]
  },
  {
   "cell_type": "code",
   "execution_count": null,
   "id": "17deed2c",
   "metadata": {},
   "outputs": [],
   "source": []
  }
 ],
 "metadata": {
  "kernelspec": {
   "display_name": ".venv",
   "language": "python",
   "name": "python3"
  },
  "language_info": {
   "codemirror_mode": {
    "name": "ipython",
    "version": 3
   },
   "file_extension": ".py",
   "mimetype": "text/x-python",
   "name": "python",
   "nbconvert_exporter": "python",
   "pygments_lexer": "ipython3",
   "version": "3.13.3"
  }
 },
 "nbformat": 4,
 "nbformat_minor": 5
}
