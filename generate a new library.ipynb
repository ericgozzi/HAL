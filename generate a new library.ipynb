{
 "cells": [
  {
   "cell_type": "code",
   "execution_count": 2,
   "id": "5774ba03",
   "metadata": {},
   "outputs": [],
   "source": [
    "from HAL.literate import *\n",
    "from HAL.data import get_all_file_names_in_a_folder"
   ]
  },
  {
   "cell_type": "markdown",
   "id": "46cfce40",
   "metadata": {},
   "source": [
    "## Get the list of books"
   ]
  },
  {
   "cell_type": "code",
   "execution_count": 7,
   "id": "5ff0ec70",
   "metadata": {},
   "outputs": [
    {
     "data": {
      "text/plain": [
       "[<HAL.literate.book.Book at 0x1caf4203450>,\n",
       " <HAL.literate.book.Book at 0x1cafcc23230>,\n",
       " <HAL.literate.book.Book at 0x1caf3f0bd20>,\n",
       " <HAL.literate.book.Book at 0x1cafcc23310>,\n",
       " <HAL.literate.book.Book at 0x1cafcc231c0>,\n",
       " <HAL.literate.book.Book at 0x1cafcc233f0>,\n",
       " <HAL.literate.book.Book at 0x1cafcc23380>,\n",
       " <HAL.literate.book.Book at 0x1cafcc23460>,\n",
       " <HAL.literate.book.Book at 0x1cafcc234d0>,\n",
       " <HAL.literate.book.Book at 0x1cafcc23540>,\n",
       " <HAL.literate.book.Book at 0x1cafcc235b0>,\n",
       " <HAL.literate.book.Book at 0x1cafcc23620>,\n",
       " <HAL.literate.book.Book at 0x1cafcc23690>,\n",
       " <HAL.literate.book.Book at 0x1cafcc23700>,\n",
       " <HAL.literate.book.Book at 0x1cafcc237e0>,\n",
       " <HAL.literate.book.Book at 0x1cafcc23850>,\n",
       " <HAL.literate.book.Book at 0x1cafcc23770>,\n",
       " <HAL.literate.book.Book at 0x1cafcc238c0>,\n",
       " <HAL.literate.book.Book at 0x1cafcc23930>,\n",
       " <HAL.literate.book.Book at 0x1cafcc239a0>,\n",
       " <HAL.literate.book.Book at 0x1cafcc23a10>,\n",
       " <HAL.literate.book.Book at 0x1cafcc23a80>,\n",
       " <HAL.literate.book.Book at 0x1cafcc23af0>]"
      ]
     },
     "execution_count": 7,
     "metadata": {},
     "output_type": "execute_result"
    }
   ],
   "source": [
    "folder = 'posthuman_source'\n",
    "\n",
    "books_flow = get_all_file_names_in_a_folder(folder)\n",
    "\n",
    "books = []\n",
    "for book in books_flow:\n",
    "    author, title = book.split('_')\n",
    "    title = title.split('.')[0]\n",
    "\n",
    "    book = Book.from_author_title_and_content(author, title, f'{folder}/{book}')\n",
    "    book.curate_book()\n",
    "    books.append(book)\n",
    "\n",
    "books"
   ]
  },
  {
   "cell_type": "code",
   "execution_count": 8,
   "id": "12ca544d",
   "metadata": {},
   "outputs": [],
   "source": [
    "library = Library.from_list_of_books(books, 'posthuman')"
   ]
  },
  {
   "cell_type": "code",
   "execution_count": 9,
   "id": "a4f259ba",
   "metadata": {},
   "outputs": [
    {
     "name": "stdout",
     "output_type": "stream",
     "text": [
      "Book: author: BAUDRILLARD, title: the vital illusion\n",
      "Book: author: BRAIDOTTI & HLAVAJOVA, title: postuman glossary\n",
      "Book: author: BRAIDOTTI, title: patterns of dissonance\n",
      "Book: author: BRAIDOTTI, title: the posthuman\n",
      "Book: author: CARPO, title: the second digital turn\n",
      "Book: author: CASTELLS, title: the rise of the network society\n",
      "Book: author: COHEN, title: twilight of the anthropocene\n",
      "Book: author: COLEBROOK, title: death of the posthuman\n",
      "Book: author: EASTERLING, title: extrastatecraft\n",
      "Book: author: ESHUN, title: more briliant than the sun\n",
      "Book: author: HARAWAY, title: cyborg manifesto\n",
      "Book: author: HARAWAY, title: staying with the trouble\n",
      "Book: author: HARRIS, title: governing by design\n",
      "Book: author: HARRIS, title: the queer life of things\n",
      "Book: author: HOVESTADT & BUEHLMANN, title: eigenarchitecture\n",
      "Book: author: MITCHELL, title: me the cyborg and the networked city\n",
      "Book: author: MORTON, title: hyperobjects\n",
      "Book: author: SERRES, title: the incadescent\n",
      "Book: author: SPECK, title: walkable city\n",
      "Book: author: TOY, title: architects in cyberspace\n",
      "Book: author: VAROUFAKIS, title: technofeudalism\n",
      "Book: author: WEINSTONE, title: avatar bodies\n",
      "Book: author: WILSON, title: aesthesis and perceptronium on the entanglement of sensation cognition and matter\n"
     ]
    }
   ],
   "source": [
    "for book in books: print(book)"
   ]
  },
  {
   "cell_type": "code",
   "execution_count": 10,
   "id": "2b1ec13c",
   "metadata": {},
   "outputs": [
    {
     "name": "stdout",
     "output_type": "stream",
     "text": [
      "Book: author: ADAMS, title: life the universe and everything\n",
      "Book: author: ADAMS, title: mostly harmless\n",
      "Book: author: ADAMS, title: so long, and thanks for all the fish\n",
      "Book: author: ADAMS, title: the hitchikers guide to the galaxy\n",
      "Book: author: ADAMS, title: the restaurant at the end of the world\n"
     ]
    }
   ],
   "source": [
    "library = Library.from_library_folder('hitchhikers_guide')\n",
    "\n",
    "for book in library.books: print(book)"
   ]
  },
  {
   "cell_type": "code",
   "execution_count": null,
   "id": "17deed2c",
   "metadata": {},
   "outputs": [],
   "source": []
  }
 ],
 "metadata": {
  "kernelspec": {
   "display_name": ".venv",
   "language": "python",
   "name": "python3"
  },
  "language_info": {
   "codemirror_mode": {
    "name": "ipython",
    "version": 3
   },
   "file_extension": ".py",
   "mimetype": "text/x-python",
   "name": "python",
   "nbconvert_exporter": "python",
   "pygments_lexer": "ipython3",
   "version": "3.13.3"
  }
 },
 "nbformat": 4,
 "nbformat_minor": 5
}
