{
 "cells": [
  {
   "cell_type": "code",
   "execution_count": 1,
   "id": "5774ba03",
   "metadata": {},
   "outputs": [],
   "source": [
    "from HAL.literate import *\n",
    "from HAL.data import get_all_file_names_in_a_folder"
   ]
  },
  {
   "cell_type": "markdown",
   "id": "46cfce40",
   "metadata": {},
   "source": [
    "## Get the list of books"
   ]
  },
  {
   "cell_type": "code",
   "execution_count": 2,
   "id": "5ff0ec70",
   "metadata": {},
   "outputs": [
    {
     "data": {
      "text/plain": [
       "[<HAL.literate.book.Book at 0x1d183f338c0>,\n",
       " <HAL.literate.book.Book at 0x1d1a0c54a50>,\n",
       " <HAL.literate.book.Book at 0x1d1a0c54910>,\n",
       " <HAL.literate.book.Book at 0x1d183f35810>,\n",
       " <HAL.literate.book.Book at 0x1d183f35940>]"
      ]
     },
     "execution_count": 2,
     "metadata": {},
     "output_type": "execute_result"
    }
   ],
   "source": [
    "folder = 'hitchhikers_guide_source'\n",
    "\n",
    "books_flow = get_all_file_names_in_a_folder(folder)\n",
    "\n",
    "books = []\n",
    "for book in books_flow:\n",
    "    author, title = book.split('_')\n",
    "    title = title.split('.')[0]\n",
    "\n",
    "    book = Book.from_author_title_and_content(author, title, f'{folder}/{book}')\n",
    "    book.curate_book()\n",
    "    books.append(book)\n",
    "\n",
    "books"
   ]
  },
  {
   "cell_type": "code",
   "execution_count": 3,
   "id": "12ca544d",
   "metadata": {},
   "outputs": [],
   "source": [
    "library = Library.from_list_of_books(books, 'hitchhikers_guide')"
   ]
  },
  {
   "cell_type": "code",
   "execution_count": null,
   "id": "a4f259ba",
   "metadata": {},
   "outputs": [],
   "source": []
  }
 ],
 "metadata": {
  "kernelspec": {
   "display_name": ".venv",
   "language": "python",
   "name": "python3"
  },
  "language_info": {
   "codemirror_mode": {
    "name": "ipython",
    "version": 3
   },
   "file_extension": ".py",
   "mimetype": "text/x-python",
   "name": "python",
   "nbconvert_exporter": "python",
   "pygments_lexer": "ipython3",
   "version": "3.13.3"
  }
 },
 "nbformat": 4,
 "nbformat_minor": 5
}
