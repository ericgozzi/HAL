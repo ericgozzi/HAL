{
 "cells": [
  {
   "cell_type": "code",
   "execution_count": 1,
   "id": "5774ba03",
   "metadata": {},
   "outputs": [],
   "source": [
    "from HAL.literate import *\n",
    "from HAL.data import get_all_file_names_in_a_folder"
   ]
  },
  {
   "cell_type": "markdown",
   "id": "46cfce40",
   "metadata": {},
   "source": [
    "## Get the list of books"
   ]
  },
  {
   "cell_type": "code",
   "execution_count": 2,
   "id": "5ff0ec70",
   "metadata": {},
   "outputs": [
    {
     "ename": "FileNotFoundError",
     "evalue": "[WinError 3] The system cannot find the path specified: 'hitchhikers_guide_source'",
     "output_type": "error",
     "traceback": [
      "\u001b[31m---------------------------------------------------------------------------\u001b[39m",
      "\u001b[31mFileNotFoundError\u001b[39m                         Traceback (most recent call last)",
      "\u001b[36mCell\u001b[39m\u001b[36m \u001b[39m\u001b[32mIn[2]\u001b[39m\u001b[32m, line 3\u001b[39m\n\u001b[32m      1\u001b[39m folder = \u001b[33m'\u001b[39m\u001b[33mhitchhikers_guide_source\u001b[39m\u001b[33m'\u001b[39m\n\u001b[32m----> \u001b[39m\u001b[32m3\u001b[39m books_flow = \u001b[43mget_all_file_names_in_a_folder\u001b[49m\u001b[43m(\u001b[49m\u001b[43mfolder\u001b[49m\u001b[43m)\u001b[49m\n\u001b[32m      5\u001b[39m books = []\n\u001b[32m      6\u001b[39m \u001b[38;5;28;01mfor\u001b[39;00m book \u001b[38;5;129;01min\u001b[39;00m books_flow:\n",
      "\u001b[36mFile \u001b[39m\u001b[32m~\\Desktop\\HAL\\HAL\\data\\folders.py:127\u001b[39m, in \u001b[36mget_all_file_names_in_a_folder\u001b[39m\u001b[34m(folder_path)\u001b[39m\n\u001b[32m    113\u001b[39m \u001b[38;5;28;01mdef\u001b[39;00m\u001b[38;5;250m \u001b[39m\u001b[34mget_all_file_names_in_a_folder\u001b[39m(folder_path: \u001b[38;5;28mstr\u001b[39m) -> \u001b[38;5;28mlist\u001b[39m[\u001b[38;5;28mstr\u001b[39m]:\n\u001b[32m    114\u001b[39m \u001b[38;5;250m    \u001b[39m\u001b[33;03m\"\"\"\u001b[39;00m\n\u001b[32m    115\u001b[39m \u001b[33;03m    Get a list of all file names in the specified folder, excluding `.DS_Store`.\u001b[39;00m\n\u001b[32m    116\u001b[39m \n\u001b[32m   (...)\u001b[39m\u001b[32m    125\u001b[39m \u001b[33;03m        ['file1.txt', 'image.png', 'document.pdf']\u001b[39;00m\n\u001b[32m    126\u001b[39m \u001b[33;03m    \"\"\"\u001b[39;00m\n\u001b[32m--> \u001b[39m\u001b[32m127\u001b[39m     \u001b[38;5;28;01mreturn\u001b[39;00m [f \u001b[38;5;28;01mfor\u001b[39;00m f \u001b[38;5;129;01min\u001b[39;00m \u001b[43mos\u001b[49m\u001b[43m.\u001b[49m\u001b[43mlistdir\u001b[49m\u001b[43m(\u001b[49m\u001b[43mfolder_path\u001b[49m\u001b[43m)\u001b[49m \n\u001b[32m    128\u001b[39m             \u001b[38;5;28;01mif\u001b[39;00m os.path.isfile(os.path.join(folder_path, f)) \u001b[38;5;129;01mand\u001b[39;00m f != \u001b[33m\"\u001b[39m\u001b[33m.DS_Store\u001b[39m\u001b[33m\"\u001b[39m]\n",
      "\u001b[31mFileNotFoundError\u001b[39m: [WinError 3] The system cannot find the path specified: 'hitchhikers_guide_source'"
     ]
    }
   ],
   "source": [
    "folder = 'hitchhikers_guide_source'\n",
    "\n",
    "books_flow = get_all_file_names_in_a_folder(folder)\n",
    "\n",
    "books = []\n",
    "for book in books_flow:\n",
    "    author, title = book.split('_')\n",
    "    title = title.split('.')[0]\n",
    "\n",
    "    book = Book.from_author_title_and_content(author, title, f'{folder}/{book}')\n",
    "    book.curate_book()\n",
    "    books.append(book)\n",
    "\n",
    "books"
   ]
  },
  {
   "cell_type": "code",
   "execution_count": null,
   "id": "12ca544d",
   "metadata": {},
   "outputs": [
    {
     "ename": "AttributeError",
     "evalue": "'Book' object has no attribute 'generate_library_data'",
     "output_type": "error",
     "traceback": [
      "\u001b[31m---------------------------------------------------------------------------\u001b[39m",
      "\u001b[31mAttributeError\u001b[39m                            Traceback (most recent call last)",
      "\u001b[36mCell\u001b[39m\u001b[36m \u001b[39m\u001b[32mIn[9]\u001b[39m\u001b[32m, line 1\u001b[39m\n\u001b[32m----> \u001b[39m\u001b[32m1\u001b[39m library = \u001b[43mLibrary\u001b[49m\u001b[43m.\u001b[49m\u001b[43mfrom_list_of_books\u001b[49m\u001b[43m(\u001b[49m\u001b[43mbooks\u001b[49m\u001b[43m,\u001b[49m\u001b[43m \u001b[49m\u001b[33;43m'\u001b[39;49m\u001b[33;43mhitchhikers_guide\u001b[39;49m\u001b[33;43m'\u001b[39;49m\u001b[43m)\u001b[49m\n",
      "\u001b[36mFile \u001b[39m\u001b[32mc:\\Users\\computer-1\\Desktop\\HAL\\HAL\\literate\\theka.py:37\u001b[39m, in \u001b[36mLibrary.from_list_of_books\u001b[39m\u001b[34m(books, library_name)\u001b[39m\n\u001b[32m     26\u001b[39m \u001b[38;5;250m\u001b[39m\u001b[33;03m\"\"\"\u001b[39;00m\n\u001b[32m     27\u001b[39m \u001b[33;03mCreates a library object starting from a list of `Book` objects. It will create a folder which will contain the books as a json file. \u001b[39;00m\n\u001b[32m     28\u001b[39m \n\u001b[32m   (...)\u001b[39m\u001b[32m     34\u001b[39m \u001b[33;03m    Library\u001b[39;00m\n\u001b[32m     35\u001b[39m \u001b[33;03m\"\"\"\u001b[39;00m\n\u001b[32m     36\u001b[39m \u001b[38;5;28;01mfor\u001b[39;00m book \u001b[38;5;129;01min\u001b[39;00m books:\n\u001b[32m---> \u001b[39m\u001b[32m37\u001b[39m     \u001b[43mbook\u001b[49m\u001b[43m.\u001b[49m\u001b[43mgenerate_library_data\u001b[49m(library_name)\n\u001b[32m     38\u001b[39m \u001b[38;5;28;01mreturn\u001b[39;00m Library(books, library_name)\n",
      "\u001b[31mAttributeError\u001b[39m: 'Book' object has no attribute 'generate_library_data'"
     ]
    }
   ],
   "source": [
    "library = Library.from_list_of_books(books, 'hitchhikers_guide')"
   ]
  },
  {
   "cell_type": "code",
   "execution_count": null,
   "id": "a4f259ba",
   "metadata": {},
   "outputs": [],
   "source": []
  }
 ],
 "metadata": {
  "kernelspec": {
   "display_name": ".venv",
   "language": "python",
   "name": "python3"
  },
  "language_info": {
   "codemirror_mode": {
    "name": "ipython",
    "version": 3
   },
   "file_extension": ".py",
   "mimetype": "text/x-python",
   "name": "python",
   "nbconvert_exporter": "python",
   "pygments_lexer": "ipython3",
   "version": "3.13.3"
  }
 },
 "nbformat": 4,
 "nbformat_minor": 5
}
