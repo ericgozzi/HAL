{
 "cells": [
  {
   "cell_type": "code",
   "execution_count": 1,
   "id": "af803407",
   "metadata": {},
   "outputs": [],
   "source": [
    "from HAL.pixels import Picture\n",
    "from HAL.pixels import MetaPicture\n"
   ]
  },
  {
   "cell_type": "code",
   "execution_count": 2,
   "id": "c8bf2115",
   "metadata": {},
   "outputs": [
    {
     "name": "stdout",
     "output_type": "stream",
     "text": [
      "(24, 24)\n"
     ]
    }
   ],
   "source": [
    "pic = Picture.from_file_path('sketch.png')\n",
    "\n",
    "meta_pic = MetaPicture.from_picture(pic)\n",
    "\n",
    "\n",
    "slot = meta_pic.get_slot(0)\n",
    "print(slot.size)"
   ]
  },
  {
   "cell_type": "code",
   "execution_count": null,
   "id": "0ddc3cb7",
   "metadata": {},
   "outputs": [],
   "source": [
    "from HAL.pixels import get_blank_picture\n",
    "from HAL.pixels import Color\n",
    "\n",
    "data = get_blank_picture(24, 24, Color(255, 255, 0))\n",
    "meta_pic.set_slot(2, data)\n",
    "\n",
    "data = get_blank_picture(24, 24, Color(0, 255, 255))\n",
    "meta_pic.set_slot(1, data)\n",
    "\n",
    "data = get_blank_picture(24, 24, Color(0, 0, 255))\n",
    "meta_pic.set_slot(54, data)"
   ]
  },
  {
   "cell_type": "code",
   "execution_count": null,
   "id": "a5768307",
   "metadata": {},
   "outputs": [
    {
     "name": "stdout",
     "output_type": "stream",
     "text": [
      "[<HAL.pixels.color.Color object at 0x000001D6A1DFA810>, <HAL.pixels.color.Color object at 0x000001D6D0951790>, <HAL.pixels.color.Color object at 0x000001D6D0950E90>, <HAL.pixels.color.Color object at 0x000001D6D0951010>, <HAL.pixels.color.Color object at 0x000001D6D0951250>, <HAL.pixels.color.Color object at 0x000001D6D0951610>, <HAL.pixels.color.Color object at 0x000001D6D0951850>, <HAL.pixels.color.Color object at 0x000001D6D09517F0>, <HAL.pixels.color.Color object at 0x000001D6D09518B0>, <HAL.pixels.color.Color object at 0x000001D6D0951910>, <HAL.pixels.color.Color object at 0x000001D6D0951970>]\n"
     ]
    }
   ],
   "source": [
    "from HAL.pixels import Color, string_to_colors, colors_to_string\n",
    "\n",
    "string = \"Hello World\"\n",
    "colors = string_to_colors(string)\n",
    "print(c) for c in colors"
   ]
  },
  {
   "cell_type": "code",
   "execution_count": null,
   "id": "80f8ca8d",
   "metadata": {},
   "outputs": [],
   "source": []
  },
  {
   "cell_type": "code",
   "execution_count": 15,
   "id": "745b5a80",
   "metadata": {},
   "outputs": [
    {
     "name": "stdout",
     "output_type": "stream",
     "text": [
      "Color: red: 255, green: 90, blue: 0\n"
     ]
    }
   ],
   "source": [
    "pic = Picture.from_file_path('sketch.png')\n",
    "meta_pic = MetaPicture.from_picture(pic)\n",
    "\n",
    "color_integer = Color.from_integer(564)\n",
    "color_integer = get_blank_picture(24, 24, color_integer)\n",
    "meta_pic.set_slot(0, color_integer)\n",
    "\n",
    "color_integer = Color.from_integer(345)\n",
    "print(color_integer)\n",
    "color_integer = get_blank_picture(24, 24, color_integer)\n",
    "meta_pic.set_slot(1, color_integer)\n",
    "\n",
    "color_integer = Color.from_integer(123)\n",
    "color_integer = get_blank_picture(24, 24, color_integer)\n",
    "meta_pic.set_slot(10, color_integer)\n",
    "\n",
    "color_integer = Color.from_integer(600)\n",
    "color_integer = get_blank_picture(24, 24, color_integer)\n",
    "meta_pic.set_slot(65, color_integer)\n",
    "\n",
    "\n"
   ]
  },
  {
   "cell_type": "code",
   "execution_count": 16,
   "id": "34162675",
   "metadata": {},
   "outputs": [
    {
     "name": "stdout",
     "output_type": "stream",
     "text": [
      "564\n",
      "345\n",
      "123\n",
      "510\n"
     ]
    }
   ],
   "source": [
    "s1 = meta_pic.get_slot(0)\n",
    "s2 = meta_pic.get_slot(1)\n",
    "s3 = meta_pic.get_slot(10)\n",
    "s4 = meta_pic.get_slot(66)\n",
    "\n",
    "\n",
    "\n",
    "print(s1.get_pixel_color(12, 12).as_integer())\n",
    "print(s2.get_pixel_color(0, 0).as_integer())\n",
    "print(s3.get_pixel_color(0, 0).as_integer())\n",
    "print(s4.get_pixel_color(0, 0).as_integer())"
   ]
  },
  {
   "cell_type": "code",
   "execution_count": 6,
   "id": "f2731042",
   "metadata": {},
   "outputs": [],
   "source": [
    "pic_10 = meta_pic.get_main_picture()\n",
    "pic_10.show()"
   ]
  },
  {
   "cell_type": "code",
   "execution_count": 17,
   "id": "5ea55ee2",
   "metadata": {},
   "outputs": [],
   "source": [
    "metadadata = meta_pic.get_all_metadata()"
   ]
  },
  {
   "cell_type": "code",
   "execution_count": 18,
   "id": "3767c25c",
   "metadata": {},
   "outputs": [],
   "source": [
    "from HAL.pixels import create_grid_of_pictures\n",
    "metadata = create_grid_of_pictures(metadadata, grid_size=(82, 1), image_size=(24, 24))\n",
    "metadata.show()"
   ]
  },
  {
   "cell_type": "code",
   "execution_count": null,
   "id": "3be5271e",
   "metadata": {},
   "outputs": [],
   "source": []
  }
 ],
 "metadata": {
  "kernelspec": {
   "display_name": ".venv",
   "language": "python",
   "name": "python3"
  },
  "language_info": {
   "codemirror_mode": {
    "name": "ipython",
    "version": 3
   },
   "file_extension": ".py",
   "mimetype": "text/x-python",
   "name": "python",
   "nbconvert_exporter": "python",
   "pygments_lexer": "ipython3",
   "version": "3.13.3"
  }
 },
 "nbformat": 4,
 "nbformat_minor": 5
}
