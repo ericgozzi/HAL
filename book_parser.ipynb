{
 "cells": [
  {
   "cell_type": "code",
   "execution_count": 2,
   "metadata": {},
   "outputs": [],
   "source": [
    "from HAL.literate import Book\n",
    "from HAL.literate import Library\n",
    "from HAL.data import get_files_all_files_name"
   ]
  },
  {
   "cell_type": "code",
   "execution_count": 3,
   "metadata": {},
   "outputs": [
    {
     "name": "stdout",
     "output_type": "stream",
     "text": [
      "['Mitchell_Me the Cyborg Self and the Networked City.txt', 'Kunstler_The City in Mind.txt', 'Ratti & Claudel_The City of Tomorrow .txt', 'Koolhaas_Junkspace with Running Room.txt', 'Dickens_A Tale of Two Cities.txt', 'Hillier Hanson_The Social Logic of Space.txt', 'Lynch_The Image of the City.txt', 'Venturi & Scott Brown_Learning from Las Vegas.txt', 'Hovestadt_Quantum City.txt', 'More_Utopia.txt', 'Howard_Garden Cities of Tomorrow.txt', 'Rowe_Collage City.txt', 'Ungers_Morphologie City Metaphors.txt', 'Mitchell_The Logic of Architecture.txt', 'Campanella_The City of the Sun.txt', 'Le Corbusier_The City of Tomorrow.txt', 'Le Corbusier_Towards a New Architecture.txt', 'Koohlaas_The Generic City.txt', 'Brook_A History of Future Cities.txt', 'Mumford_The Culture of Cities.txt', 'Koolhaas_Delirious New York.txt', 'Hollis_Cities Are Good for You.txt', 'Leslie_Synthetic Worlds.txt', 'Speck_Walkable City.txt', 'Gorringe_A Theology of the Built Environment.txt', 'Francois_Where Mathematics becomes Political.txt', 'Juan_Rome a City Out of Print.txt', 'Jacobs_The Death and Life of Great American Cities.txt', 'Calvino_Invisible Cities.txt', 'Eisenman & Koolhaas_Supercritical.txt', 'Greenfield_Against the Smart City.txt', 'Rybczynski_City Life.txt', 'Ascher_The Works Anatomy of a City.txt', 'Rossi_The Architecture of the City.txt', 'Roadshow_A Matter of Energy.txt']\n"
     ]
    }
   ],
   "source": [
    "books_flow: list[str] = get_files_all_files_name('books_txt')\n",
    "print(books_flow)"
   ]
  },
  {
   "cell_type": "code",
   "execution_count": 4,
   "metadata": {},
   "outputs": [],
   "source": [
    "for book_txt in books_flow:\n",
    "    author, title = book_txt.split('_')\n",
    "    title = title.split('.')[0]"
   ]
  },
  {
   "cell_type": "code",
   "execution_count": null,
   "metadata": {},
   "outputs": [],
   "source": [
    "books = []\n",
    "for book_txt in books_flow:\n",
    "    author, title = book_txt.split('_')\n",
    "    title = title.split('.')[0]\n",
    "    \n",
    "    book = Book.from_author_title_and_content(author, title, f'books_txt/{book_txt}')\n",
    "    book.curate_book()\n",
    "    books.append(book)"
   ]
  },
  {
   "cell_type": "code",
   "execution_count": null,
   "metadata": {},
   "outputs": [
    {
     "ename": "NameError",
     "evalue": "name 'books' is not defined",
     "output_type": "error",
     "traceback": [
      "\u001b[0;31m---------------------------------------------------------------------------\u001b[0m",
      "\u001b[0;31mNameError\u001b[0m                                 Traceback (most recent call last)",
      "Cell \u001b[0;32mIn[14], line 1\u001b[0m\n\u001b[0;32m----> 1\u001b[0m library \u001b[38;5;241m=\u001b[39m Library\u001b[38;5;241m.\u001b[39mfrom_list_of_books(\u001b[43mbooks\u001b[49m, \u001b[38;5;124m'\u001b[39m\u001b[38;5;124mon_city_library\u001b[39m\u001b[38;5;124m'\u001b[39m)\n",
      "\u001b[0;31mNameError\u001b[0m: name 'books' is not defined"
     ]
    }
   ],
   "source": [
    "library = Library.from_list_of_books(books, 'on_city_library')\n"
   ]
  },
  {
   "cell_type": "code",
   "execution_count": null,
   "metadata": {},
   "outputs": [
    {
     "name": "stderr",
     "output_type": "stream",
     "text": [
      "[nltk_data] Downloading package wordnet to\n",
      "[nltk_data]     /Users/ericgozzi/nltk_data...\n",
      "[nltk_data]   Package wordnet is already up-to-date!\n",
      "[nltk_data] Downloading package omw-1.4 to\n",
      "[nltk_data]     /Users/ericgozzi/nltk_data...\n",
      "[nltk_data]   Package omw-1.4 is already up-to-date!\n"
     ]
    },
    {
     "name": "stdout",
     "output_type": "stream",
     "text": [
      "LIBRARY; 35 books\n"
     ]
    }
   ],
   "source": [
    "from HAL.literate import Library\n",
    "library = Library.from_library_folder('on_city_library');\n",
    "print(library)"
   ]
  },
  {
   "cell_type": "code",
   "execution_count": null,
   "metadata": {},
   "outputs": [
    {
     "data": {
      "application/vnd.jupyter.widget-view+json": {
       "model_id": "7f6e02f226e842ccb8f6ddc328bb697f",
       "version_major": 2,
       "version_minor": 0
      },
      "text/plain": [
       "Combobox(value='', description='Topic:', ensure_option=True, options=('eddington', 'contnuously', 'encumbrance…"
      ]
     },
     "metadata": {},
     "output_type": "display_data"
    },
    {
     "data": {
      "application/vnd.jupyter.widget-view+json": {
       "model_id": "8880f5591b944e5288e5b08810f96a2f",
       "version_major": 2,
       "version_minor": 0
      },
      "text/plain": [
       "Text(value='', description='Question')"
      ]
     },
     "metadata": {},
     "output_type": "display_data"
    }
   ],
   "source": [
    "import ipywidgets as widget\n",
    "topics = list(library.get_topics())\n",
    "topic_widget = widget.Combobox(\n",
    "    options= topics,\n",
    "    description='Topic:',\n",
    "    ensure_option=True,\n",
    "    disabled=False\n",
    ")\n",
    "question_widget = widget.Text(description=\"Question\")\n",
    "display(topic_widget, question_widget)\n"
   ]
  },
  {
   "cell_type": "code",
   "execution_count": null,
   "metadata": {},
   "outputs": [
    {
     "name": "stdout",
     "output_type": "stream",
     "text": [
      "HOVESTADT, Quantum City:\n",
      "\t\tKnowing that the pig is my favorite animal to eat, my brother heavily hinted that he wanted me to order the crispy suckling pig with daikon sauerkraut, apple coleslaw and Dijon mustard jus (230 RMB).\n",
      "---\n",
      "\n",
      "\n",
      "HOVESTADT, Quantum City:\n",
      "\t\tORLANDO Aye so, but aren’t we merely players, all? QUEEN Who shall I tell them then should play my part? QUEEN Oh apple of mine eye, sweet sight Orlando.\n",
      "---\n",
      "\n",
      "\n",
      "HOVESTADT, Quantum City:\n",
      "\t\tPerhaps the gloss of a beckoning fruit obliterates and outshines any blemishes that, the apple once eaten into and its core now perching exposed on the sideboard, conspire to make it look rotten, or if not rotten then at the very least spotted with flaws.\n",
      "---\n",
      "\n",
      "\n",
      "HOVESTADT, Quantum City:\n",
      "\t\tGive it back to me and do not get me into trouble for it.’ He paid no heed to my words and I demanded the apple a second and a third time; but he beat me and went away with it.\n",
      "---\n",
      "\n",
      "\n",
      "HOVESTADT, Quantum City:\n",
      "\t\tNow he loved her more than all his other children; so he pressed her to his breast and kissed her and wept over his separation from her; when lo, he felt something round in her bosom and said to her, ‘What’s this in thy bosom?’ ‘O my father,’ answered she, ‘it is an apple with the name of our lord the Khalif written on it.\n",
      "---\n",
      "\n",
      "\n",
      "HOVESTADT, Quantum City:\n",
      "\t\tOur slave Rihan brought it to me four days ago and would not let me have it, till I gave him two dinars for it.’ When Jaafer heard this, he put his hand into her bosom and took out the apple and knew it and rejoiced, saying, ‘O swift Dispeller of trouble!’ Then he sent for the slave and said to him, ‘Harkye Rihan, whence hadst thou this apple?’ ‘By Allah, O my lord,’ replied he, ‘though lying might get me off, yet is it safer to tell the truth! I did not steal it from thy palace nor from the palace of His Highness nor the garden of the Commander of the Faithful.\n",
      "---\n",
      "\n",
      "\n",
      "HOVESTADT, Quantum City:\n",
      "\t\tThe fact is that some days ago, I was passing along a certain alley of this city, when I saw some children playing and this apple in the hand of one of them.\n",
      "---\n",
      "\n",
      "\n",
      "HOVESTADT, Quantum City:\n",
      "\t\tSo I snatched it from him, and he wept and said, “O youth, this apple is my mother’s and she is ill.\n",
      "---\n",
      "\n",
      "\n",
      "HOVESTADT, Quantum City:\n",
      "\t\tShe longed for apples, and my father journeyed to Bassora and bought her three for three dinars, and I took one of them to play with.” But I paid no heed to what he said and beat him and went off with the apple and sold it to my little mistress for two dinars.’ When Jaafer heard this, he wondered that the death of the damsel and all this misery should have been caused by his slave and grieved for the relation of the slave to himself, whilst rejoicing over his own delivery: and he repeated the following verses: If through a servant misfortune befall thee, Spare not to save thine own life at his cost.\n",
      "---\n",
      "\n",
      "\n",
      "HOVESTADT, Quantum City:\n",
      "\t\tBeat, beat, whirr, thud, in the soft turf under the apple trees, Choros nympharum, goat foot, with the pale foot alternate; Crescent of blue shot waters, green gold in the shallows, A black cock crows in the sea foam; And by the curved, carved foot of the couch, claw foot and lion head, an old man seated Speaking in the low drone...: Ityn! Et ter flebiliter, Ityn, Ityn! And she went toward the window and cast her down, “All the while, the while, swallows crying: Ityn! “It is Cabestan’s heart in the dish.” “It is Cabestan’s heart in the dish?” “No other taste shall change this.” And she went toward the window, the slim white stone bar Making a double arch; Firm even fingers held to the firm pale stone; Swung for a moment, and the wind out of Rhodez Caught in the full of her sleeve.\n",
      "---\n",
      "\n",
      "\n",
      "HOVESTADT, Quantum City:\n",
      "\t\tJP: I did, however, like the seven paintings by your old friend John Covert, particularly the one of an apple and an apple cut in half.\n",
      "---\n",
      "\n",
      "\n",
      "HOLLIS, Cities Are Good For You:\n",
      "\t\tA new fleet of 18,000 apple green cabs Boro Taxis will be able to pick up passengers outside Manhattan.\n",
      "---\n",
      "\n",
      "\n",
      "JUAN, Rome A City Out Of Print:\n",
      "\t\tSunday morning two thousand and more people formed a congregation inside Piazza Navona upon the expulsion that needed to be made from so fine a piazza a thing of tears, at last was resolved, by a very knowing old man to take their trinkets and to go wandering to gnaw the nails and to pound the heel With them cried also the apple sellers and the seller of chestnuts and lemons, that were so beloved they went out of the piazza towards the Sapienza to see the clock armed with patience and having less work the onions and garlic drew from their eyes a million tears but also with the others pound their heels From the other side escapes a wicked hunchback that sells matches and is called Diodato but frequently in the piazza he had a paltry business and there was his son who was a little lame with baskets of torn rags things to make bundles and he said oh you pretty Jews let s leave quickly and return to the Ghetto In the bad time that is now.54 In a decidedly ironic tone, the displacement of sellers and their forced dispersal through the city is contrasted with the entrance of international visitors into the piazza.\n",
      "---\n",
      "\n",
      "\n",
      "LESLIE, Synthetic Worlds:\n",
      "\t\tRunge proved that he could identify the presence of henbane, belladonna and thorn apple in one of a number of bottles, by dropping the suspect solutions into a cat’s eye.\n",
      "---\n",
      "\n",
      "\n",
      "LESLIE, Synthetic Worlds:\n",
      "\t\tThis is the enchantress sunk in not life not death, awaiting the kiss of power, or, in the Grimm brothers’ version, the dislodging of the chunk of poisonous apple that had lodged in the throat, ‘so that she opened her eyes, raised the lid of the coffin, and sat up, alive once more’.31 The spell is capital’s promise of a marvellous future, just never yet.\n",
      "---\n",
      "\n",
      "\n",
      "LESLIE, Synthetic Worlds:\n",
      "\t\tThis is nature run rampant, auto destructive: The apple cap sinks down to your faint hopes, sprawled in the sun on the grassy hillside, shirt over the soft haemal arch.\n",
      "---\n",
      "\n",
      "\n",
      "KOOLHAAS, Delirious New York:\n",
      "\t\tThe metal windows are painted an apple green color....\n",
      "---\n",
      "\n",
      "\n",
      "DICKENS, A Tale Of Two Cities:\n",
      "\t\tWhich Farmer General, carrying an appropriate cane with a golden apple on the top of it, was now among the company in the outer rooms, much prostrated before by mankind—always excepting superior mankind of the blood of Monseigneur, who, his own wife included, looked down upon him with the loftiest contempt.\n",
      "---\n",
      "\n",
      "\n",
      "FRANCOIS, Where Mathematics Becomes Political:\n",
      "\t\tBelievers reassure us that the sciences in general, and more specifically mathematics, can work for good as well as evil, in more or less the same way a knife can be used either to cut an apple or to kill a person.\n",
      "---\n",
      "\n",
      "\n"
     ]
    }
   ],
   "source": [
    "question_str = question_widget.value\n",
    "topic_str = topic_widget.value\n",
    "question_str = question_str.split(None)\n",
    "answers = library.ask_theka(topic_str, question_str)\n",
    "for answer in answers: \n",
    "    print(f'{answer}\\n\\n')"
   ]
  },
  {
   "cell_type": "code",
   "execution_count": null,
   "metadata": {},
   "outputs": [
    {
     "name": "stdout",
     "output_type": "stream",
     "text": [
      "LESLIE, Synthetic Worlds:\n",
      "\t\tIn the First World War the very air had become a resource for explosives, as nitrogen was snatched from the atmosphere and processed.\n"
     ]
    }
   ],
   "source": [
    "from HAL.literate import Quote\n",
    "\n",
    "quote_from_library = \"\"\"LESLIE, Synthetic Worlds:\n",
    "\t\tIn the First World War the very air had become a resource for explosives, as nitrogen was snatched from the atmosphere and processed.\"\"\"\n",
    "\n",
    "quote = Quote.from_ask_library_ouput(quote_from_library);\n",
    "print(quote)"
   ]
  },
  {
   "cell_type": "code",
   "execution_count": null,
   "metadata": {},
   "outputs": [
    {
     "name": "stdout",
     "output_type": "stream",
     "text": [
      "Synthetic Worlds\n",
      "LESLIE\n",
      "In the First World War the very air had become a resource for explosives, as nitrogen was snatched from the atmosphere and processed.\n",
      "LESLIE\n"
     ]
    }
   ],
   "source": [
    "print(quote.book_title)\n",
    "print(quote.author)\n",
    "print(quote.quote)\n",
    "print(quote.author)"
   ]
  },
  {
   "cell_type": "code",
   "execution_count": 1,
   "metadata": {},
   "outputs": [
    {
     "name": "stderr",
     "output_type": "stream",
     "text": [
      "[nltk_data] Downloading package wordnet to\n",
      "[nltk_data]     /Users/ericgozzi/nltk_data...\n",
      "[nltk_data]   Package wordnet is already up-to-date!\n",
      "[nltk_data] Downloading package omw-1.4 to\n",
      "[nltk_data]     /Users/ericgozzi/nltk_data...\n",
      "[nltk_data]   Package omw-1.4 is already up-to-date!\n"
     ]
    }
   ],
   "source": [
    "from HAL.literate import Quote\n",
    "from HAL.literate import Quotebook\n",
    "from HAL.data import export_as_pdf\n",
    "quotes = Quotebook.from_collection_of_quotes('quotes.txt')"
   ]
  },
  {
   "cell_type": "code",
   "execution_count": 2,
   "metadata": {},
   "outputs": [
    {
     "name": "stdout",
     "output_type": "stream",
     "text": [
      "A new fleet of 18,000 apple green cabs Boro Taxis will be able to pick up passengers outside Manhattan. [0] Runge proved that he could identify the presence of henbane, belladonna and thorn apple in one of a number of bottles, by dropping the suspect solutions into a cat’s eye. [1] So I snatched it from him, and he wept and said, “O youth, this apple is my mother’s and she is ill. [2] Perhaps the gloss of a beckoning fruit obliterates and outshines any blemishes that, the apple once eaten into and its core now perching exposed on the sideboard, conspire to make it look rotten, or if not rotten then at the very least spotted with flaws. [3] \n",
      "\n",
      "--------------\n",
      "[0]: HOLLIS, Cities Are Good For You \t[1]: LESLIE, Synthetic Worlds \t[2]: HOVESTADT, Quantum City \t[3]: HOVESTADT, Quantum City \t\n"
     ]
    }
   ],
   "source": [
    "text, footnotes = quotes.build_text_randomly()\n",
    "print(text)\n",
    "print()\n",
    "print(\"--------------\")\n",
    "print(footnotes)\n",
    "text = f'{text}\\n\\n\\n-------------\\n{footnotes}'"
   ]
  },
  {
   "cell_type": "code",
   "execution_count": 3,
   "metadata": {},
   "outputs": [
    {
     "name": "stdout",
     "output_type": "stream",
     "text": [
      "PDF saved\n"
     ]
    }
   ],
   "source": [
    "export_as_pdf(\"TITLE\", text)"
   ]
  },
  {
   "cell_type": "code",
   "execution_count": null,
   "metadata": {},
   "outputs": [],
   "source": []
  },
  {
   "cell_type": "code",
   "execution_count": null,
   "metadata": {},
   "outputs": [],
   "source": []
  }
 ],
 "metadata": {
  "kernelspec": {
   "display_name": "view2",
   "language": "python",
   "name": "python3"
  },
  "language_info": {
   "codemirror_mode": {
    "name": "ipython",
    "version": 3
   },
   "file_extension": ".py",
   "mimetype": "text/x-python",
   "name": "python",
   "nbconvert_exporter": "python",
   "pygments_lexer": "ipython3",
   "version": "3.11.6"
  }
 },
 "nbformat": 4,
 "nbformat_minor": 2
}
