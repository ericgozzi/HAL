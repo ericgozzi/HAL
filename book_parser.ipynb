{
 "cells": [
  {
   "cell_type": "code",
   "execution_count": 1,
   "metadata": {},
   "outputs": [
    {
     "name": "stderr",
     "output_type": "stream",
     "text": [
      "[nltk_data] Downloading package wordnet to\n",
      "[nltk_data]     C:\\Users\\computer-1\\AppData\\Roaming\\nltk_data...\n",
      "[nltk_data]   Package wordnet is already up-to-date!\n",
      "[nltk_data] Downloading package omw-1.4 to\n",
      "[nltk_data]     C:\\Users\\computer-1\\AppData\\Roaming\\nltk_data...\n",
      "[nltk_data]   Package omw-1.4 is already up-to-date!\n"
     ]
    }
   ],
   "source": [
    "from HAL.literate import Book\n",
    "from HAL.literate import Library\n",
    "from HAL.data import get_files_all_files_name"
   ]
  },
  {
   "cell_type": "code",
   "execution_count": 3,
   "metadata": {},
   "outputs": [
    {
     "name": "stdout",
     "output_type": "stream",
     "text": [
      "['Mitchell_Me the Cyborg Self and the Networked City.txt', 'Kunstler_The City in Mind.txt', 'Ratti & Claudel_The City of Tomorrow .txt', 'Koolhaas_Junkspace with Running Room.txt', 'Dickens_A Tale of Two Cities.txt', 'Hillier Hanson_The Social Logic of Space.txt', 'Lynch_The Image of the City.txt', 'Venturi & Scott Brown_Learning from Las Vegas.txt', 'Hovestadt_Quantum City.txt', 'More_Utopia.txt', 'Howard_Garden Cities of Tomorrow.txt', 'Rowe_Collage City.txt', 'Ungers_Morphologie City Metaphors.txt', 'Mitchell_The Logic of Architecture.txt', 'Campanella_The City of the Sun.txt', 'Le Corbusier_The City of Tomorrow.txt', 'Le Corbusier_Towards a New Architecture.txt', 'Koohlaas_The Generic City.txt', 'Brook_A History of Future Cities.txt', 'Mumford_The Culture of Cities.txt', 'Koolhaas_Delirious New York.txt', 'Hollis_Cities Are Good for You.txt', 'Leslie_Synthetic Worlds.txt', 'Speck_Walkable City.txt', 'Gorringe_A Theology of the Built Environment.txt', 'Francois_Where Mathematics becomes Political.txt', 'Juan_Rome a City Out of Print.txt', 'Jacobs_The Death and Life of Great American Cities.txt', 'Calvino_Invisible Cities.txt', 'Eisenman & Koolhaas_Supercritical.txt', 'Greenfield_Against the Smart City.txt', 'Rybczynski_City Life.txt', 'Ascher_The Works Anatomy of a City.txt', 'Rossi_The Architecture of the City.txt', 'Roadshow_A Matter of Energy.txt']\n"
     ]
    }
   ],
   "source": [
    "books_flow: list[str] = get_files_all_files_name('books_txt')\n",
    "print(books_flow)"
   ]
  },
  {
   "cell_type": "code",
   "execution_count": 4,
   "metadata": {},
   "outputs": [],
   "source": [
    "for book_txt in books_flow:\n",
    "    author, title = book_txt.split('_')\n",
    "    title = title.split('.')[0]"
   ]
  },
  {
   "cell_type": "code",
   "execution_count": null,
   "metadata": {},
   "outputs": [],
   "source": [
    "books = []\n",
    "for book_txt in books_flow:\n",
    "    author, title = book_txt.split('_')\n",
    "    title = title.split('.')[0]\n",
    "    \n",
    "    book = Book.from_author_title_and_content(author, title, f'books_txt/{book_txt}')\n",
    "    book.curate_book()\n",
    "    books.append(book)"
   ]
  },
  {
   "cell_type": "code",
   "execution_count": 5,
   "metadata": {},
   "outputs": [
    {
     "ename": "NameError",
     "evalue": "name 'Library' is not defined",
     "output_type": "error",
     "traceback": [
      "\u001b[31m---------------------------------------------------------------------------\u001b[39m",
      "\u001b[31mNameError\u001b[39m                                 Traceback (most recent call last)",
      "\u001b[36mCell\u001b[39m\u001b[36m \u001b[39m\u001b[32mIn[5]\u001b[39m\u001b[32m, line 1\u001b[39m\n\u001b[32m----> \u001b[39m\u001b[32m1\u001b[39m library = \u001b[43mLibrary\u001b[49m.from_list_of_books(books, \u001b[33m'\u001b[39m\u001b[33mon_city_library\u001b[39m\u001b[33m'\u001b[39m)\n",
      "\u001b[31mNameError\u001b[39m: name 'Library' is not defined"
     ]
    }
   ],
   "source": [
    "library = Library.from_list_of_books(books, 'on_city_library')\n"
   ]
  },
  {
   "cell_type": "code",
   "execution_count": 1,
   "metadata": {},
   "outputs": [
    {
     "name": "stderr",
     "output_type": "stream",
     "text": [
      "[nltk_data] Downloading package wordnet to\n",
      "[nltk_data]     C:\\Users\\computer-1\\AppData\\Roaming\\nltk_data...\n",
      "[nltk_data]   Package wordnet is already up-to-date!\n",
      "[nltk_data] Downloading package omw-1.4 to\n",
      "[nltk_data]     C:\\Users\\computer-1\\AppData\\Roaming\\nltk_data...\n",
      "[nltk_data]   Package omw-1.4 is already up-to-date!\n"
     ]
    },
    {
     "name": "stdout",
     "output_type": "stream",
     "text": [
      "LIBRARY; 35 books\n"
     ]
    }
   ],
   "source": [
    "from HAL.literate import Library\n",
    "library = Library.from_library_folder('on_city_library');\n",
    "print(library)"
   ]
  },
  {
   "cell_type": "code",
   "execution_count": 6,
   "metadata": {},
   "outputs": [
    {
     "name": "stdout",
     "output_type": "stream",
     "text": [
      "LESLIE, Synthetic Worlds:\n",
      "\t\tIn the First World War the very air had become a resource for explosives, as nitrogen was snatched from the atmosphere and processed.\n",
      "---\n"
     ]
    }
   ],
   "source": [
    "from HAL.literate import Quote\n",
    "\n",
    "quote_from_library = \"\"\"LESLIE, Synthetic Worlds:\n",
    "\t\tIn the First World War the very air had become a resource for explosives, as nitrogen was snatched from the atmosphere and processed.\"\"\"\n",
    "\n",
    "quote = Quote.from_ask_library_ouput(quote_from_library);\n",
    "print(quote)"
   ]
  },
  {
   "cell_type": "code",
   "execution_count": 7,
   "metadata": {},
   "outputs": [
    {
     "name": "stdout",
     "output_type": "stream",
     "text": [
      "Synthetic Worlds\n",
      "LESLIE\n",
      "In the First World War the very air had become a resource for explosives, as nitrogen was snatched from the atmosphere and processed.\n",
      "LESLIE\n"
     ]
    }
   ],
   "source": [
    "print(quote.book_title)\n",
    "print(quote.author)\n",
    "print(quote.quote)\n",
    "print(quote.author)"
   ]
  },
  {
   "cell_type": "code",
   "execution_count": 1,
   "metadata": {},
   "outputs": [
    {
     "name": "stderr",
     "output_type": "stream",
     "text": [
      "[nltk_data] Downloading package wordnet to\n",
      "[nltk_data]     C:\\Users\\computer-1\\AppData\\Roaming\\nltk_data...\n",
      "[nltk_data]   Package wordnet is already up-to-date!\n",
      "[nltk_data] Downloading package omw-1.4 to\n",
      "[nltk_data]     C:\\Users\\computer-1\\AppData\\Roaming\\nltk_data...\n",
      "[nltk_data]   Package omw-1.4 is already up-to-date!\n"
     ]
    }
   ],
   "source": [
    "from HAL.literate import Quote\n",
    "from HAL.literate import Quotebook\n",
    "quotes = Quotebook.from_collection_of_quotes('quotes.txt')"
   ]
  },
  {
   "cell_type": "code",
   "execution_count": 2,
   "metadata": {},
   "outputs": [
    {
     "name": "stdout",
     "output_type": "stream",
     "text": [
      "Runge proved that he could identify the presence of henbane, belladonna and thorn apple in one of a number of bottles, by dropping the suspect solutions into a cat’s eye. [0] So I snatched it from him, and he wept and said, “O youth, this apple is my mother’s and she is ill. [1] Perhaps the gloss of a beckoning fruit obliterates and outshines any blemishes that, the apple once eaten into and its core now perching exposed on the sideboard, conspire to make it look rotten, or if not rotten then at the very least spotted with flaws. [2] A new fleet of 18,000 apple green cabs Boro Taxis will be able to pick up passengers outside Manhattan. [3] \n",
      "\n",
      "--------------\n",
      "[0]: LESLIE, Synthetic Worlds \t[1]: HOVESTADT, Quantum City \t[2]: HOVESTADT, Quantum City \t[3]: HOLLIS, Cities Are Good For You \t\n"
     ]
    }
   ],
   "source": [
    "text, footnotes = quotes.build_text_randomly()\n",
    "print(text)\n",
    "print()\n",
    "print(\"--------------\")\n",
    "print(footnotes)"
   ]
  },
  {
   "cell_type": "code",
   "execution_count": 3,
   "metadata": {},
   "outputs": [
    {
     "name": "stdout",
     "output_type": "stream",
     "text": [
      "Aplausos! The PDF has been exported!\n"
     ]
    }
   ],
   "source": [
    "from HAL.data import PDF\n",
    "\n",
    "pdf = PDF('narrative_01.pdf')\n",
    "pdf.add_paragraph(\"HERE IS THE TITLE\", font_size=20, space_after=30)\n",
    "pdf.add_paragraph(text, font_size=12, space_after=50)\n",
    "pdf.add_paragraph('---------------')\n",
    "pdf.add_paragraph(footnotes, font_size=10)\n",
    "pdf.export()"
   ]
  },
  {
   "cell_type": "code",
   "execution_count": null,
   "metadata": {},
   "outputs": [],
   "source": []
  }
 ],
 "metadata": {
  "kernelspec": {
   "display_name": ".venv",
   "language": "python",
   "name": "python3"
  },
  "language_info": {
   "codemirror_mode": {
    "name": "ipython",
    "version": 3
   },
   "file_extension": ".py",
   "mimetype": "text/x-python",
   "name": "python",
   "nbconvert_exporter": "python",
   "pygments_lexer": "ipython3",
   "version": "3.13.2"
  }
 },
 "nbformat": 4,
 "nbformat_minor": 2
}
