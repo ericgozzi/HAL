{
 "cells": [
  {
   "cell_type": "code",
   "execution_count": 1,
   "metadata": {},
   "outputs": [],
   "source": [
    "from HAL.literate import Library\n",
    "library: Library = Library.from_library_folder('on_city_library')\n",
    "top_words = library.get_most_popular_words(500)"
   ]
  },
  {
   "cell_type": "code",
   "execution_count": 7,
   "metadata": {},
   "outputs": [],
   "source": [
    "dict = library.get_eigenvector_dictionary_of_n_most_popular_worlds(500)\n",
    "dict = library.get_words_dictionary_of_n_popular_words(500)"
   ]
  },
  {
   "cell_type": "code",
   "execution_count": 12,
   "metadata": {},
   "outputs": [],
   "source": [
    "from HAL.data import export_json\n",
    "export_json(top_words, 'top_words.json')"
   ]
  },
  {
   "cell_type": "code",
   "execution_count": 8,
   "metadata": {},
   "outputs": [
    {
     "name": "stdout",
     "output_type": "stream",
     "text": [
      "\n"
     ]
    }
   ],
   "source": [
    "from HAL.metrika import SOM\n",
    "first_value = next(iter(dict.values()))\n",
    "som = SOM((20, 10),len(first_value) , 0.1, dict)\n",
    "som.normalize_data()\n",
    "som.initialize_neuron_weights();\n",
    "print()\n"
   ]
  },
  {
   "cell_type": "code",
   "execution_count": 9,
   "metadata": {},
   "outputs": [
    {
     "name": "stdout",
     "output_type": "stream",
     "text": [
      "20.0\n",
      "19.8\n",
      "19.6\n",
      "19.4\n",
      "19.2\n",
      "19.0\n",
      "18.799999999999997\n",
      "18.599999999999998\n",
      "18.400000000000002\n",
      "18.2\n",
      "18.0\n",
      "17.8\n",
      "17.6\n",
      "17.4\n",
      "17.2\n",
      "17.0\n",
      "16.8\n",
      "16.599999999999998\n",
      "16.400000000000002\n",
      "16.200000000000003\n",
      "16.0\n",
      "15.8\n",
      "15.600000000000001\n",
      "15.4\n",
      "15.2\n",
      "15.0\n",
      "14.8\n",
      "14.6\n",
      "14.399999999999999\n",
      "14.2\n",
      "14.0\n",
      "13.799999999999999\n",
      "13.599999999999998\n",
      "13.399999999999999\n",
      "13.2\n",
      "13.0\n",
      "12.8\n",
      "12.6\n",
      "12.4\n",
      "12.2\n",
      "12.0\n",
      "11.8\n",
      "11.600000000000001\n",
      "11.400000000000002\n",
      "11.200000000000001\n",
      "11.0\n",
      "10.8\n",
      "10.600000000000001\n",
      "10.4\n",
      "10.2\n",
      "10.0\n",
      "9.8\n",
      "9.6\n",
      "9.399999999999999\n",
      "9.2\n",
      "9.0\n",
      "8.799999999999999\n",
      "8.600000000000001\n",
      "8.4\n",
      "8.200000000000001\n",
      "8.0\n",
      "7.800000000000001\n",
      "7.6\n",
      "7.4\n",
      "7.199999999999999\n",
      "7.0\n",
      "6.799999999999999\n",
      "6.6\n",
      "6.399999999999999\n",
      "6.200000000000001\n",
      "6.000000000000001\n",
      "5.800000000000001\n",
      "5.6000000000000005\n",
      "5.4\n",
      "5.2\n",
      "5.0\n",
      "4.8\n",
      "4.6\n",
      "4.3999999999999995\n",
      "4.199999999999999\n",
      "3.999999999999999\n",
      "3.799999999999999\n",
      "3.600000000000001\n",
      "3.400000000000001\n",
      "3.2000000000000006\n",
      "3.0000000000000004\n",
      "2.8000000000000003\n",
      "2.6\n",
      "2.4\n",
      "2.1999999999999997\n",
      "1.9999999999999996\n",
      "1.7999999999999994\n",
      "1.5999999999999992\n",
      "1.399999999999999\n",
      "1.200000000000001\n",
      "1.0000000000000009\n",
      "0.8000000000000007\n",
      "0.6000000000000005\n",
      "0.40000000000000036\n",
      "0.20000000000000018\n"
     ]
    }
   ],
   "source": [
    "som.train(100)"
   ]
  },
  {
   "cell_type": "code",
   "execution_count": 11,
   "metadata": {},
   "outputs": [],
   "source": [
    "table = som.get_som_picture()\n",
    "table.show()"
   ]
  },
  {
   "cell_type": "code",
   "execution_count": 6,
   "metadata": {},
   "outputs": [],
   "source": [
    "table.show()"
   ]
  },
  {
   "cell_type": "code",
   "execution_count": 12,
   "metadata": {},
   "outputs": [],
   "source": [
    "table.save('top_500_words_concepts.png')"
   ]
  },
  {
   "cell_type": "markdown",
   "metadata": {},
   "source": [
    "--- Testting ---"
   ]
  },
  {
   "cell_type": "code",
   "execution_count": 4,
   "metadata": {},
   "outputs": [
    {
     "name": "stdout",
     "output_type": "stream",
     "text": [
      "['document', 'home', 'cinema', 'film', 'age', 'speed', 'skyscraper', 'city', 'park', 'flood', 'plain', 'Blackfoot', 'River', 'design', 'feature', 'besides', 'absence', 'house', 'store', 'carousel', 'slush', 'end', 'report', 'also', 'meter', 'hour', 'car', 'park', 'four', 'hour', 'Strictly', 'city', 'immense', 'park', 'furnishes', 'aspect', 'infinitely', 'form', 'Cleaner', 'engine', 'therefore', 'might', 'emission', 'also', 'increase', 'car', 'car', 'comfort', 'indeed', 'luxury', 'Light', 'matter', 'cinema', 'outdoor', 'cinema', 'Melbourne', 'inside', 'time', 'day', 'law', 'Zone', 'Green', 'allow', 'greenhouse', 'roof', 'along', 'panel', 'wind', 'turbine', 'also', 'food', 'production', 'address', 'need', 'city', 'city', 'hand', 'combination', 'refrigerator', 'automobile', 'supermarket', 'habit', 'parallel', 'car', 'thirty', 'year', 'market', 'pas', 'palace', 'Savelli', 'theater', 'Marcellus', 'street', 'behind', 'church', 'Part', 'plot', 'flower', 'garden', 'fruit', 'tree', 'garden', 'Soon', 'park', 'shop', 'railing', 'people', 'car', 'share', 'might', 'transportation', 'taxi', 'leave', 'theater', 'region', 'activity', 'occupied', 'place', 'scheme', 'park', 'embodies', 'China', 'theater', 'exhibition', 'hall', 'world', 'restaurant']\n",
      "\n",
      "--- filtering ---\n",
      "\n",
      "['home', 'age', 'city', 'park', 'design', 'house', 'store', 'end', 'also', 'hour', 'car', 'park', 'four', 'hour', 'city', 'park', 'aspect', 'form', 'therefore', 'might', 'also', 'car', 'car', 'indeed', 'matter', 'time', 'day', 'law', 'along', 'also', 'food', 'production', 'need', 'city', 'city', 'hand', 'car', 'year', 'market', 'palace', 'street', 'behind', 'church', 'garden', 'tree', 'garden', 'park', 'shop', 'people', 'car', 'might', 'region', 'activity', 'place', 'scheme', 'park', 'world']\n"
     ]
    }
   ],
   "source": [
    "from HAL.literate import Library\n",
    "library: Library = Library.from_library_folder('on_city_library')\n",
    "top_words = library.get_most_popular_words(500)\n",
    "\n",
    "\n",
    "from HAL.data import read_file\n",
    "narrative = read_file('narratives/IIe_The.txt')\n",
    "\n",
    "\n",
    "\n",
    "from HAL.literate import remove_stopwords\n",
    "from HAL.literate import remove_punctuation\n",
    "from HAL.literate import remove_numbers\n",
    "from HAL.literate import clean_whitespaces\n",
    "from HAL.literate import transform_text_in_list\n",
    "from HAL.literate import remove_verbs\n",
    "from HAL.literate import remove_adjectives\n",
    "from HAL.literate import lemmatize_text\n",
    "\n",
    "narrative = remove_stopwords(narrative)\n",
    "narrative = lemmatize_text(narrative)\n",
    "narrative = remove_punctuation(narrative)\n",
    "narrative = remove_numbers(narrative)\n",
    "narrative = clean_whitespaces(narrative)\n",
    "narrative = remove_adjectives(narrative)\n",
    "narrative = remove_verbs(narrative)\n",
    "narrative = transform_text_in_list(narrative)\n",
    "\n",
    "print(narrative)\n",
    "\n",
    "def filter_list(base: list, allowed: list) -> list:\n",
    "    return [item for item in base if item in allowed]\n",
    "print('\\n--- filtering ---\\n')\n",
    "narrative = filter_list(narrative, top_words)\n",
    "\n",
    "print(narrative)\n"
   ]
  },
  {
   "cell_type": "code",
   "execution_count": 1,
   "metadata": {},
   "outputs": [
    {
     "ename": "NameError",
     "evalue": "name 'narrative' is not defined",
     "output_type": "error",
     "traceback": [
      "\u001b[31m---------------------------------------------------------------------------\u001b[39m",
      "\u001b[31mNameError\u001b[39m                                 Traceback (most recent call last)",
      "\u001b[36mCell\u001b[39m\u001b[36m \u001b[39m\u001b[32mIn[1]\u001b[39m\u001b[32m, line 6\u001b[39m\n\u001b[32m      3\u001b[39m city = Graph()\n\u001b[32m      5\u001b[39m connections = []\n\u001b[32m----> \u001b[39m\u001b[32m6\u001b[39m \u001b[38;5;28;01mfor\u001b[39;00m i \u001b[38;5;129;01min\u001b[39;00m \u001b[38;5;28mrange\u001b[39m(\u001b[38;5;28mlen\u001b[39m(\u001b[43mnarrative\u001b[49m)-\u001b[32m1\u001b[39m):\n\u001b[32m      7\u001b[39m     connections.append([narrative[i], narrative[i+\u001b[32m1\u001b[39m]])\n\u001b[32m      9\u001b[39m \u001b[38;5;28mprint\u001b[39m(connections)\n",
      "\u001b[31mNameError\u001b[39m: name 'narrative' is not defined"
     ]
    }
   ],
   "source": [
    "from HAL.metrika import Graph\n",
    "\n",
    "city = Graph()\n",
    "\n",
    "connections = []\n",
    "for i in range(len(narrative)-1):\n",
    "    connections.append([narrative[i], narrative[i+1]])\n",
    "\n",
    "print(connections)\n",
    "\n",
    "\n",
    "city.add_edges_from_connections(connections)\n",
    "\n",
    "positions = city.get_nodes_coordinate()\n",
    "\n",
    "\n"
   ]
  },
  {
   "cell_type": "code",
   "execution_count": 4,
   "metadata": {},
   "outputs": [
    {
     "name": "stdout",
     "output_type": "stream",
     "text": [
      "{'district': array([-0.59732959,  1.        ]), 'skyscraper': array([-0.40152552,  0.43541599]), 'apple': array([ 0.0884102, -0.0938634]), 'green': array([ 0.71728774, -0.14034479]), 'cabs': array([ 0.9961249 , -0.54646324]), 'fruit': array([ 0.50583757, -0.56469169]), 'rotten': array([-0.48448372, -0.21854481]), 'spotted': array([-0.82432157,  0.12849194])}\n"
     ]
    }
   ],
   "source": [
    "print(positions)"
   ]
  },
  {
   "cell_type": "code",
   "execution_count": 13,
   "metadata": {},
   "outputs": [
    {
     "name": "stderr",
     "output_type": "stream",
     "text": [
      "[nltk_data] Downloading package averaged_perceptron_tagger to\n",
      "[nltk_data]     /Users/ericgozzi/nltk_data...\n",
      "[nltk_data]   Package averaged_perceptron_tagger is already up-to-\n",
      "[nltk_data]       date!\n"
     ]
    },
    {
     "data": {
      "text/plain": [
       "True"
      ]
     },
     "execution_count": 13,
     "metadata": {},
     "output_type": "execute_result"
    }
   ],
   "source": [
    "import nltk \n",
    "nltk.download('averaged_perceptron_tagger')"
   ]
  },
  {
   "cell_type": "code",
   "execution_count": null,
   "metadata": {},
   "outputs": [],
   "source": []
  }
 ],
 "metadata": {
  "kernelspec": {
   "display_name": ".venv",
   "language": "python",
   "name": "python3"
  },
  "language_info": {
   "codemirror_mode": {
    "name": "ipython",
    "version": 3
   },
   "file_extension": ".py",
   "mimetype": "text/x-python",
   "name": "python",
   "nbconvert_exporter": "python",
   "pygments_lexer": "ipython3",
   "version": "3.12.3"
  }
 },
 "nbformat": 4,
 "nbformat_minor": 2
}
