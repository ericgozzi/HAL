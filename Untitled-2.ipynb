{
 "cells": [
  {
   "cell_type": "code",
   "execution_count": 1,
   "metadata": {},
   "outputs": [],
   "source": [
    "from HAL.metrika import Plotter\n",
    "from HAL.pixels import Color\n",
    "from HAL.pixels import create_video_from_frame_folder\n",
    "import math"
   ]
  },
  {
   "cell_type": "code",
   "execution_count": 2,
   "metadata": {},
   "outputs": [],
   "source": [
    "plotter = Plotter(scale=50)\n",
    "plotter.draw_axes()\n",
    "plotter.plot_parametric(\n",
    "    func_x = lambda t: 16 * math.sin(t) ** 3,\n",
    "    func_y = lambda t: 13 * math.cos(t) - 5 * math.cos(2*t) - 2 * math.cos(3*t) - math.cos(4*t),\n",
    "    t_min = 0,\n",
    "    t_max = 2 * math.pi,\n",
    ")\n",
    "\n",
    "\n",
    "\n",
    "\n"
   ]
  },
  {
   "cell_type": "code",
   "execution_count": 12,
   "metadata": {},
   "outputs": [],
   "source": [
    "random_points = [\n",
    "    (-6.738, -0.154),\n",
    "    (5.288, -1.703),\n",
    "    (2.139, -3.238),\n",
    "    (-1.926, -0.112),\n",
    "    (9.438, -2.229),\n",
    "    (-4.234, 4.533),\n",
    "    (7.301, 0.549),\n",
    "    (-0.257, -4.634),\n",
    "    (-8.235, 1.298),\n",
    "    (3.559, 2.089),\n",
    "    (8.631, -0.297),\n",
    "    (-9.682, -3.114),\n",
    "    (4.785, -4.708),\n",
    "    (2.634, -0.459),\n",
    "    (-7.104, 3.836),\n",
    "    (-3.332, -4.512),\n",
    "    (6.822, 0.249),\n",
    "    (0.896, 2.456),\n",
    "    (-5.431, -1.095),\n",
    "    (1.127, -0.420)\n",
    "]\n",
    "\n",
    "plotter = Plotter(scale = 100)\n",
    "plotter.draw_axes()\n",
    "plotter.plot_points(random_points, color = Color.ORANGE)\n",
    "plotter.show()"
   ]
  },
  {
   "cell_type": "code",
   "execution_count": 14,
   "metadata": {},
   "outputs": [],
   "source": [
    "plotter = Plotter()\n",
    "plotter.draw_axes()\n",
    "\n",
    "plotter.plot(\n",
    "    func = lambda x: math.tan(x),\n",
    ")\n",
    "\n",
    "plotter.show()"
   ]
  },
  {
   "cell_type": "code",
   "execution_count": null,
   "metadata": {},
   "outputs": [],
   "source": []
  }
 ],
 "metadata": {
  "kernelspec": {
   "display_name": ".venv",
   "language": "python",
   "name": "python3"
  },
  "language_info": {
   "codemirror_mode": {
    "name": "ipython",
    "version": 3
   },
   "file_extension": ".py",
   "mimetype": "text/x-python",
   "name": "python",
   "nbconvert_exporter": "python",
   "pygments_lexer": "ipython3",
   "version": "3.12.3"
  }
 },
 "nbformat": 4,
 "nbformat_minor": 2
}
