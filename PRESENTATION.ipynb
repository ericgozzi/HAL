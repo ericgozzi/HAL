{
 "cells": [
  {
   "cell_type": "markdown",
   "id": "fcd90c24",
   "metadata": {},
   "source": [
    "# HAL\n",
    "\n",
    "An entity, made of symbolic poetry. An AI, like many others.\n",
    "\n",
    "HAL can access the digital world of plenty. It can play with what he finds.\n",
    "\n",
    "It gives anwers to the its generic user."
   ]
  },
  {
   "cell_type": "markdown",
   "id": "f8fbc20c",
   "metadata": {},
   "source": [
    "### Urbotheka"
   ]
  },
  {
   "cell_type": "code",
   "execution_count": 25,
   "id": "c8946e98",
   "metadata": {},
   "outputs": [],
   "source": [
    "from HAL.literate import Library\n",
    "urbotheka = Library.from_library_folder('on_city_library')"
   ]
  },
  {
   "cell_type": "code",
   "execution_count": 26,
   "id": "8b51516e",
   "metadata": {},
   "outputs": [
    {
     "name": "stdout",
     "output_type": "stream",
     "text": [
      "RATTI & CLAUDEL, The City Of Tomorrow :\n",
      "\t\tThe world’s largest plotter, debuted at the Milan World Expo in 2015, dynamically paints the facade of the Future Food District, a digital supermarket designed in partnership with the Coop Supermarket chain.\n",
      "--- + \n",
      "\n",
      "\n",
      "\n",
      "MITCHELL, Me The Cyborg Self And The Networked City:\n",
      "\t\tHusbands can describe to their wives the choices they see before them on the supermarket shelves, teenagers can tell their friends where they are and who is hanging out with them, street demonstrators can point out the current positions of the police to their comrades, and celebrity spotters can track the movements of George Clooney through the produce section at Balducci’s.\n",
      "--- + \n",
      "\n",
      "\n",
      "\n",
      "MITCHELL, Me The Cyborg Self And The Networked City:\n",
      "\t\tRFID scanners might also be embedded in warehouse and store shelves for stock control, supermarket and library lanes for automated checkout, and your refrigerator for automated reordering of commodities.\n",
      "--- + \n",
      "\n",
      "\n",
      "\n",
      "RYBCZYNSKI, City Life:\n",
      "\t\tIn combination with the refrigerator and the automobile, the supermarket changed shopping habits.\n",
      "--- + \n",
      "\n",
      "\n",
      "\n",
      "RYBCZYNSKI, City Life:\n",
      "\t\tIn fact, the first supermarket pre dated widespread car ownership and originated in an urban area.\n",
      "--- + \n",
      "\n",
      "\n",
      "\n",
      "HOLLIS, Cities Are Good For You:\n",
      "\t\tIn 2005 a report from the University of Leicester showed that CCTV surveillance had little impact on rates of crime.18 In the case of the neo Nazi bomber David Copeland, who waged a thirteen day campaign in 1999, there was so much surveillance around the first bomb outside a supermarket in Brixton that it took fifty detectives over twenty days to go through all the visual evidence; by the time they had finished, Copeland had already been arrested.\n",
      "--- + \n",
      "\n",
      "\n",
      "\n",
      "KUNSTLER, The City In Mind:\n",
      "\t\tRoutine midday trips to the supermarket now required the kind of strategic planning used in military resupply campaigns under wartime conditions.\n",
      "--- + \n",
      "\n",
      "\n",
      "\n",
      "JACOBS, The Death And Life Of Great American Cities:\n",
      "\t\tOur irreplaceable heritage of Grade I agricultural land (a rare treasure of nature on this earth) is sacrificed for highways or supermarket parking lots as ruthlessly and unthinkingly as the trees in the woodlands are uprooted, the streams and rivers polluted and the air itself filled with the gasoline exhausts (products of eons of nature’s manufacturing) required in this great national effort to cozy up with a fictionalized nature and flee the ‘unnaturalness’ of the city.\n",
      "--- + \n",
      "\n",
      "\n",
      "\n",
      "BROOK, A History Of Future Cities:\n",
      "\t\tThe mall is anchored by a supermarket where all of the exotic luxuries of home—cheese, bread, and breakfast cereal—can be had at a shocking markup.\n",
      "--- + \n",
      "\n",
      "\n",
      "\n",
      "BROOK, A History Of Future Cities:\n",
      "\t\tIn London, Tesco is the mainstream supermarket and the Filipino market is not.\n",
      "--- + \n",
      "\n",
      "\n",
      "\n",
      "BROOK, A History Of Future Cities:\n",
      "\t\tTo the extent that there is a leading supermarket in Dubai, it is Carrefour, the French chain.\n",
      "--- + \n",
      "\n",
      "\n",
      "\n",
      "HOVESTADT, Quantum City:\n",
      "\t\tJust the kind of boxes you’d find in a supermarket or warehouse that would have Brillo pads in them, or tomato juice or whatever, but they don’t, they’re made of wood and printed on, so I say to Orlando, ‘what the hell is this?’ and he laughs and says: ‘they’re sculptures!’ The crowd is astonishing: you’ve got just about everybody here that matters, and I think I at one point literally bump into Michael Caine of all people, I don’t know what he’s doing in town, and then in the middle of it all you’ve got this Andy Warhol character playing host, smiling benignly at people and welcoming them to his show.\n",
      "--- + \n",
      "\n",
      "\n",
      "\n",
      "VENTURI & SCOTT BROWN, Learning From Las Vegas:\n",
      "\t\tOn the commercial strip the supermarket windows contain no merchandise.\n",
      "--- + \n",
      "\n",
      "\n",
      "\n",
      "LESLIE, Synthetic Worlds:\n",
      "\t\tIt should seem to leap off the supermarket shelf into the shopper’s basket.\n",
      "--- + \n",
      "\n",
      "\n",
      "\n",
      "LESLIE, Synthetic Worlds:\n",
      "\t\tShe shops in the supermarket under fluorescent lights, a brighter, colder, cheaper light than daylight.\n",
      "--- + \n",
      "\n",
      "\n",
      "\n",
      "LESLIE, Synthetic Worlds:\n",
      "\t\tJamie Reid’s cover for The Sex Pistols’ Never Mind the Bollocks adopted the look of a supermarket display, fused with a ransom note.\n",
      "--- + \n",
      "\n",
      "\n",
      "\n",
      "GORRINGE, A Theology Of The Built Environment:\n",
      "\t\tIt is not humankind faced with ‘two ways’, as Deuteronomy suggested, but facing the rows of supermarket shelves.\n",
      "--- + \n",
      "\n",
      "\n",
      "\n",
      "GORRINGE, A Theology Of The Built Environment:\n",
      "\t\tGiven the amount of food ferried in by air the footprint of any town with a large supermarket expands gigantically.\n",
      "--- + \n",
      "\n",
      "\n",
      "\n",
      "GORRINGE, A Theology Of The Built Environment:\n",
      "\t\tBut, as Jeffrey Cook puts it, ‘Of all the recognized ecological systems it is human urbanism which seems most destructive of its host.’1' Urban living seems conducive to ‘unnatural behaviour’ precisely because, where all our needs are met from supermarket shelves, we forget that nature works in closed loops.\n",
      "--- + \n",
      "\n",
      "\n",
      "\n"
     ]
    }
   ],
   "source": [
    "# Setting the topic and the question\n",
    "\n",
    "topic = 'transportation'\n",
    "\n",
    "question = 'supermarket'\n",
    "\n",
    "# Hal giving the answers\n",
    "question = question.split(' ')\n",
    "answers = urbotheka.ask_theka(topic, question)\n",
    "for answer in answers: print(f'{answer} + \\n\\n\\n')"
   ]
  },
  {
   "cell_type": "markdown",
   "id": "321e77f6",
   "metadata": {},
   "source": [
    "### HOLISTICITY\n",
    "HAL plays with the details of the words to paint the big picture."
   ]
  },
  {
   "cell_type": "code",
   "execution_count": 19,
   "id": "42af6d72",
   "metadata": {},
   "outputs": [],
   "source": [
    "from HAL.pixels import Picture\n",
    "\n",
    "galaxy_of_concepts = Picture.from_file_path('top_500_central_concepts.png')\n",
    "galaxy_of_concepts.show()"
   ]
  },
  {
   "cell_type": "markdown",
   "id": "57b7b9c1",
   "metadata": {},
   "source": [
    "### QUANTUM NARRATIVES\n",
    "Wiht the help of the generic user, HAL can starts to compose a new music, not a melody, a cacophony.\n",
    "A choir made of voices. The voices of the city."
   ]
  },
  {
   "cell_type": "code",
   "execution_count": 24,
   "id": "4be54eb5",
   "metadata": {},
   "outputs": [
    {
     "name": "stdout",
     "output_type": "stream",
     "text": [
      "Tad_city\n",
      "\n",
      "The park embodies contemporary China at its tawdriest. [0] Many cities around the world have city bike and city car systems, allowing visitors or residents to use a vehicle for a short period of time. [1] And until the advent of outdoor cinema in Melbourne, that meant staying inside at the best time of the day. [2] The end report also recommended extending meter hours, and only allowing cars to park for four hours. [3] Strictly speaking the city is an immense park Its lay out furnishes a multitude of architectural aspects of infinitely varying forms. [4] Runge proved that he could identify the presence of henbane, belladonna and thorn apple in one of a number of bottles, by dropping the suspect solutions into a cat’s eye. [5] Fields of LEDs began to take over and transform the roles of the movie poster, the theater marquee, the billboard, the cornice inscription, and even the entire urban facade. [6] In this way the district round the skyscraper is cleared. [7] Competing for this chicken and white wine market is the newer OpenAir cinema at Birrarung Mar, a fabulous park by the river in the city. [8] The skyscraper has reestablished the pedestrian, him alone.... [9] The Formula One car effectively became a real time control system—a loop with both sensing and actuating components. [10] Cleaner engines, therefore, might reduce emissions; they also encourage us to increase car usage. [11] In combination with the refrigerator and the automobile, the supermarket changed shopping habits. [12] Some people worry that car share might undermine public transportation, taxis, walking, or biking, but the opposite is true. [13] It makes copyable documents and home cinema film. [14] \n",
      "\n",
      "------\n",
      "[0]: BROOK, A History Of Future Cities \t[1]: RATTI & CLAUDEL, The City Of Tomorrow  \t[2]: HOVESTADT, Quantum City \t[3]: HOLLIS, Cities Are Good For You \t[4]: LE CORBUSIER, The City Of Tomorrow \t[5]: LESLIE, Synthetic Worlds \t[6]: MITCHELL, Me The Cyborg Self And The Networked City \t[7]: LE CORBUSIER, The City Of Tomorrow \t[8]: HOVESTADT, Quantum City \t[9]: KOOLHAAS, Delirious New York \t[10]: RATTI & CLAUDEL, The City Of Tomorrow  \t[11]: HOLLIS, Cities Are Good For You \t[12]: RYBCZYNSKI, City Life \t[13]: SPECK, Walkable City \t[14]: LESLIE, Synthetic Worlds \t\n"
     ]
    }
   ],
   "source": [
    "from HAL.literate import Quote, Quotebook\n",
    "\n",
    "quotes = Quotebook.from_collection_of_quotes('quotes.txt')\n",
    "text, footnotes, title = quotes.build_text_randomly(create_title=True, n=15)\n",
    "print(f'{title}\\n\\n{text}\\n\\n------\\n{footnotes}')"
   ]
  },
  {
   "cell_type": "code",
   "execution_count": null,
   "id": "4e9a2718",
   "metadata": {},
   "outputs": [],
   "source": []
  }
 ],
 "metadata": {
  "kernelspec": {
   "display_name": ".venv",
   "language": "python",
   "name": "python3"
  },
  "language_info": {
   "codemirror_mode": {
    "name": "ipython",
    "version": 3
   },
   "file_extension": ".py",
   "mimetype": "text/x-python",
   "name": "python",
   "nbconvert_exporter": "python",
   "pygments_lexer": "ipython3",
   "version": "3.13.3"
  }
 },
 "nbformat": 4,
 "nbformat_minor": 5
}
