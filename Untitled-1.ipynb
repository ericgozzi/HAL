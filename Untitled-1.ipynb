{
 "cells": [
  {
   "cell_type": "code",
   "execution_count": 1,
   "metadata": {},
   "outputs": [],
   "source": [
    "from HAL.metrika import Graph\n",
    "from HAL.metrika import Rule"
   ]
  },
  {
   "cell_type": "code",
   "execution_count": 2,
   "metadata": {},
   "outputs": [
    {
     "name": "stdout",
     "output_type": "stream",
     "text": [
      "<|1 -> 2, 2 -> 3, 3 -> 4, 4 -> 5, 5 -> 6, 6 -> 7, 7 -> 1, 6 -> 1, 5 -> 1, 8 -> 9, 8 -> 2|>\n"
     ]
    }
   ],
   "source": [
    "rules = [\n",
    "    ('1', '2'),\n",
    "    ('2', '3'),\n",
    "    ('3', '4'),\n",
    "    ('4', '5'),\n",
    "    ('5', '6'),\n",
    "    ('6', '7'),\n",
    "    ('7', '1'),\n",
    "    ('6', '1'),\n",
    "    ('5', '1'),\n",
    "    ('8', '9'),\n",
    "    ('8', '2')\n",
    "]\n",
    "rules = Rule(rules)\n",
    "print(rules)"
   ]
  },
  {
   "cell_type": "code",
   "execution_count": 3,
   "metadata": {},
   "outputs": [],
   "source": [
    "from HAL.pixels import Color\n",
    "G = Graph()\n",
    "G.build_graph_from_rules(rules)\n",
    "G.draw().show()\n",
    "\n"
   ]
  },
  {
   "cell_type": "code",
   "execution_count": 4,
   "metadata": {},
   "outputs": [
    {
     "name": "stdout",
     "output_type": "stream",
     "text": [
      "Color: red: 255, green: 0, blue: 0\n"
     ]
    }
   ],
   "source": [
    "from HAL.pixels import Color\n",
    "print(Color.RED)"
   ]
  },
  {
   "cell_type": "code",
   "execution_count": null,
   "metadata": {},
   "outputs": [],
   "source": []
  },
  {
   "cell_type": "code",
   "execution_count": 5,
   "metadata": {},
   "outputs": [
    {
     "data": {
      "text/plain": [
       "'An apple is a round, edible fruit produced by an apple tree Fruit trees of the orchard or domestic apple, the most widely grown in the genus, are cultivated worldwide The tree originated in Central Asia, where its wild ancestor, Malus sieversii, is still found Apples have been grown for thousands of years in Eurasia before they were introduced to North America by European colonists Apples have cultural significance in many mythologies and religions..'"
      ]
     },
     "execution_count": 5,
     "metadata": {},
     "output_type": "execute_result"
    }
   ],
   "source": [
    "from HAL.surfer import ask_wikipedia\n",
    "\n",
    "ask_wikipedia('Apple', lang='en', sentences=10)"
   ]
  },
  {
   "cell_type": "code",
   "execution_count": 6,
   "metadata": {},
   "outputs": [
    {
     "name": "stdout",
     "output_type": "stream",
     "text": [
      "Skipping logo image: /images/branding/searchlogo/1x/googlelogo_desk_heirloom_color_150x55dp.gif\n",
      "Downloaded image 2: https://encrypted-tbn0.gstatic.com/images?q=tbn:ANd9GcQH8nUowmOi_C1QFR3tTZuQRJab8i0jjuUz3503YnUi2VCfVAScMlcigxfEVH8&s\n",
      "Downloaded image 3: https://encrypted-tbn0.gstatic.com/images?q=tbn:ANd9GcT5eXWCAYqZCNeybY3KumbMXn5lGMBKvG-cvaAaL4_nOUcFZ1cZVm9y_PAyyQ&s\n",
      "Downloaded image 4: https://encrypted-tbn0.gstatic.com/images?q=tbn:ANd9GcRDn6L2lUJduPOH94sOqlrFy4xiPr8Rn7bETIkxVl3xYtYaIPzlygvmtYC-HvU&s\n",
      "Downloaded image 5: https://encrypted-tbn0.gstatic.com/images?q=tbn:ANd9GcQ-3BRMbevp7hzJUyPdouoG4_lAEoveSx6AvpeqJVq5fMCLSRFsGXvCI45O9qo&s\n"
     ]
    }
   ],
   "source": [
    "from HAL.surfer import crawl_images\n",
    "from HAL.pixels import create_grid_of_pictures\n",
    "\n",
    "pics = crawl_images('risotto')\n",
    "\n",
    "for pic in pics: pic.show()"
   ]
  },
  {
   "cell_type": "code",
   "execution_count": null,
   "metadata": {},
   "outputs": [],
   "source": []
  }
 ],
 "metadata": {
  "kernelspec": {
   "display_name": ".venv",
   "language": "python",
   "name": "python3"
  },
  "language_info": {
   "codemirror_mode": {
    "name": "ipython",
    "version": 3
   },
   "file_extension": ".py",
   "mimetype": "text/x-python",
   "name": "python",
   "nbconvert_exporter": "python",
   "pygments_lexer": "ipython3",
   "version": "3.12.3"
  }
 },
 "nbformat": 4,
 "nbformat_minor": 2
}
