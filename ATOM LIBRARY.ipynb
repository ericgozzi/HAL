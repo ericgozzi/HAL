{
 "cells": [
  {
   "cell_type": "code",
   "execution_count": 1,
   "metadata": {},
   "outputs": [],
   "source": [
    "from HAL.literate import Library\n",
    "from HAL.metrika import Rule\n",
    "\n",
    "library = Library.from_library_folder('on_city_library')\n",
    "\n",
    "anwers = library.ask_theka(topic='architecture', question=['hello'])\n",
    "\n"
   ]
  },
  {
   "cell_type": "code",
   "execution_count": 32,
   "metadata": {},
   "outputs": [
    {
     "name": "stdout",
     "output_type": "stream",
     "text": [
      "Book: author: EISENMAN & KOOLHAAS, title: supercritical\n"
     ]
    },
    {
     "name": "stderr",
     "output_type": "stream",
     "text": [
      "/Users/ericgozzi/Desktop/HAL-Computation/HAL/metrika/graph.py:64: RuntimeWarning: invalid value encountered in scalar divide\n",
      "  angle = math.atan(dy/dx)\n"
     ]
    }
   ],
   "source": [
    "book = library.books[1]\n",
    "\n",
    "print(book)\n",
    "\n",
    "rules = book.get_concatenation_of_words()\n",
    "rules = Rule(rules.rules[0:2000])\n",
    "\n",
    "from HAL.metrika import Graph\n",
    "\n",
    "graph = Graph()\n",
    "graph.build_graph_from_rules(rules)\n",
    "pic = graph.draw(show_label=False, show_node=True, node_radius=5)\n",
    "pic.show()\n"
   ]
  },
  {
   "cell_type": "code",
   "execution_count": null,
   "metadata": {},
   "outputs": [],
   "source": []
  },
  {
   "cell_type": "code",
   "execution_count": null,
   "metadata": {},
   "outputs": [],
   "source": []
  }
 ],
 "metadata": {
  "kernelspec": {
   "display_name": ".venv",
   "language": "python",
   "name": "python3"
  },
  "language_info": {
   "codemirror_mode": {
    "name": "ipython",
    "version": 3
   },
   "file_extension": ".py",
   "mimetype": "text/x-python",
   "name": "python",
   "nbconvert_exporter": "python",
   "pygments_lexer": "ipython3",
   "version": "3.12.3"
  }
 },
 "nbformat": 4,
 "nbformat_minor": 2
}
