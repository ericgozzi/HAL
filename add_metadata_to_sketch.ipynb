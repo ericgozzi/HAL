{
 "cells": [
  {
   "cell_type": "code",
   "execution_count": 1,
   "id": "979094d1",
   "metadata": {},
   "outputs": [],
   "source": [
    "from HAL.pixels import MetaPicture, Picture, Color"
   ]
  },
  {
   "cell_type": "code",
   "execution_count": 7,
   "id": "0442ab49",
   "metadata": {},
   "outputs": [],
   "source": [
    "sketch_file = 'sketch.png'\n",
    "\n",
    "\n",
    "terrain_extent_x = 10\n",
    "terrain_extent_y = 10\n",
    "\n",
    "cell_size_x = 1\n",
    "cell_size_y = 1\n",
    "cell_size_z = 1\n",
    "\n",
    "generations = 100\n",
    "\n"
   ]
  },
  {
   "cell_type": "code",
   "execution_count": 8,
   "id": "aa41553b",
   "metadata": {},
   "outputs": [],
   "source": [
    "sketch = Picture.from_file_path(sketch_file)\n",
    "meta_sketch = MetaPicture.from_picture(sketch)\n",
    "\n",
    "meta_sketch.set_slot_int(0, terrain_extent_x)\n",
    "meta_sketch.set_slot_int(1, terrain_extent_y)\n",
    "meta_sketch.set_slot_int(2, cell_size_x)\n",
    "meta_sketch.set_slot_int(3, cell_size_y)\n",
    "meta_sketch.set_slot_int(4, cell_size_z)\n",
    "meta_sketch.set_slot_int(5, generations)\n",
    "\n",
    "\n",
    "meta_sketch.show()"
   ]
  },
  {
   "cell_type": "code",
   "execution_count": 9,
   "id": "34a99143",
   "metadata": {},
   "outputs": [
    {
     "name": "stdout",
     "output_type": "stream",
     "text": [
      "100\n"
     ]
    }
   ],
   "source": [
    "s1 = meta_sketch.get_slot_data(5)\n",
    "print(s1)\n"
   ]
  },
  {
   "cell_type": "code",
   "execution_count": 11,
   "id": "a627a5c3",
   "metadata": {},
   "outputs": [],
   "source": [
    "meta_sketch.picture.save('meta_sketch.bmp')"
   ]
  },
  {
   "cell_type": "code",
   "execution_count": null,
   "id": "0c5c8a77",
   "metadata": {},
   "outputs": [],
   "source": []
  }
 ],
 "metadata": {
  "kernelspec": {
   "display_name": ".venv",
   "language": "python",
   "name": "python3"
  },
  "language_info": {
   "codemirror_mode": {
    "name": "ipython",
    "version": 3
   },
   "file_extension": ".py",
   "mimetype": "text/x-python",
   "name": "python",
   "nbconvert_exporter": "python",
   "pygments_lexer": "ipython3",
   "version": "3.13.2"
  }
 },
 "nbformat": 4,
 "nbformat_minor": 5
}
