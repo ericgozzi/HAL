{
 "cells": [
  {
   "cell_type": "code",
   "execution_count": 9,
   "id": "979094d1",
   "metadata": {},
   "outputs": [],
   "source": [
    "from HAL.pixels import MetaPicture, Picture, Color, create_grid_of_pictures\n",
    "from HAL.data import get_files_all_files_name, rename_files"
   ]
  },
  {
   "cell_type": "code",
   "execution_count": 4,
   "id": "d7f983e5",
   "metadata": {},
   "outputs": [
    {
     "name": "stdout",
     "output_type": "stream",
     "text": [
      "Renamed: ComfyUI_05075_.png → 0.png\n",
      "Renamed: ComfyUI_05076_.png → 1.png\n",
      "Renamed: ComfyUI_05077_.png → 2.png\n",
      "Renamed: ComfyUI_05078_.png → 3.png\n",
      "Renamed: ComfyUI_05079_.png → 4.png\n",
      "Renamed: ComfyUI_05080_.png → 5.png\n",
      "Renamed: ComfyUI_05081_.png → 6.png\n",
      "Renamed: ComfyUI_05082_.png → 7.png\n",
      "Renamed: ComfyUI_05083_.png → 8.png\n",
      "Renamed: ComfyUI_05084_.png → 9.png\n",
      "Renamed: ComfyUI_05085_.png → 10.png\n",
      "Renamed: ComfyUI_05086_.png → 11.png\n",
      "Renamed: ComfyUI_05087_.png → 12.png\n",
      "Renamed: ComfyUI_05088_.png → 13.png\n",
      "Renamed: ComfyUI_05089_.png → 14.png\n",
      "Renamed: ComfyUI_05090_.png → 15.png\n",
      "Renamed: ComfyUI_05091_.png → 16.png\n",
      "Renamed: ComfyUI_05092_.png → 17.png\n",
      "Renamed: ComfyUI_05093_.png → 18.png\n",
      "Renamed: ComfyUI_05094_.png → 19.png\n",
      "Renamed: ComfyUI_05095_.png → 20.png\n",
      "Renamed: ComfyUI_05096_.png → 21.png\n",
      "Renamed: ComfyUI_05097_.png → 22.png\n",
      "Renamed: ComfyUI_05098_.png → 23.png\n",
      "Renamed: ComfyUI_05099_.png → 24.png\n",
      "Renamed: ComfyUI_05100_.png → 25.png\n",
      "Renamed: ComfyUI_05101_.png → 26.png\n",
      "Renamed: ComfyUI_05102_.png → 27.png\n",
      "Renamed: ComfyUI_05103_.png → 28.png\n",
      "Renamed: ComfyUI_05104_.png → 29.png\n",
      "Renamed: ComfyUI_05105_.png → 30.png\n",
      "Renamed: ComfyUI_05106_.png → 31.png\n",
      "Renamed: ComfyUI_05107_.png → 32.png\n",
      "Renamed: ComfyUI_05108_.png → 33.png\n",
      "Renamed: ComfyUI_05109_.png → 34.png\n",
      "Renamed: ComfyUI_05110_.png → 35.png\n",
      "Renamed: ComfyUI_05111_.png → 36.png\n",
      "Renamed: ComfyUI_05112_.png → 37.png\n",
      "Renamed: ComfyUI_05113_.png → 38.png\n",
      "Renamed: ComfyUI_05114_.png → 39.png\n",
      "Renamed: ComfyUI_05115_.png → 40.png\n",
      "Renamed: ComfyUI_05116_.png → 41.png\n",
      "Renamed: ComfyUI_05117_.png → 42.png\n",
      "Renamed: ComfyUI_05118_.png → 43.png\n",
      "Renamed: ComfyUI_05119_.png → 44.png\n",
      "Renamed: ComfyUI_05120_.png → 45.png\n",
      "Renamed: ComfyUI_05121_.png → 46.png\n",
      "Renamed: ComfyUI_05122_.png → 47.png\n",
      "Renamed: ComfyUI_05123_.png → 48.png\n",
      "Renamed: ComfyUI_05124_.png → 49.png\n",
      "Renamed: ComfyUI_05125_.png → 50.png\n",
      "Renamed: ComfyUI_05126_.png → 51.png\n",
      "Renamed: ComfyUI_05127_.png → 52.png\n",
      "Renamed: ComfyUI_05128_.png → 53.png\n",
      "Renamed: ComfyUI_05129_.png → 54.png\n",
      "Renamed: ComfyUI_05130_.png → 55.png\n",
      "Renamed: ComfyUI_05131_.png → 56.png\n",
      "Renamed: ComfyUI_05132_.png → 57.png\n",
      "Renamed: ComfyUI_05133_.png → 58.png\n",
      "Renamed: ComfyUI_05134_.png → 59.png\n"
     ]
    }
   ],
   "source": [
    "rename_files('from_comfy')"
   ]
  },
  {
   "cell_type": "code",
   "execution_count": 13,
   "id": "ce99e5de",
   "metadata": {},
   "outputs": [],
   "source": [
    "files = get_files_all_files_name('from_comfy')"
   ]
  },
  {
   "cell_type": "code",
   "execution_count": 14,
   "id": "36f801fe",
   "metadata": {},
   "outputs": [],
   "source": [
    "pics = [Picture.from_file_path(f'from_comfy/{file}') for file in files]\n",
    "grid = create_grid_of_pictures(pics)\n",
    "grid.show()"
   ]
  },
  {
   "cell_type": "code",
   "execution_count": 36,
   "id": "0951d5fb",
   "metadata": {},
   "outputs": [],
   "source": [
    "selected_files = files[5:43]\n",
    "grid = create_grid_of_pictures([Picture.from_file_path(f'from_comfy/{file}') for file in selected_files])\n",
    "grid.show()"
   ]
  },
  {
   "cell_type": "code",
   "execution_count": 53,
   "id": "0442ab49",
   "metadata": {},
   "outputs": [],
   "source": [
    "terrain_extent_x = 8\n",
    "terrain_extent_y = 8\n",
    "\n",
    "cell_size_x = 1\n",
    "cell_size_y = 1\n",
    "cell_size_z = 2\n",
    "\n",
    "generations = 10\n",
    "\n",
    "default_panel = \"park\"\n",
    "\n",
    "target_node = 'park'\n"
   ]
  },
  {
   "cell_type": "code",
   "execution_count": 54,
   "id": "aa41553b",
   "metadata": {},
   "outputs": [],
   "source": [
    "def create_metapicture(sketch_file):\n",
    "    sketch = Picture.from_file_path('from_comfy/' + sketch_file)\n",
    "    meta_sketch = MetaPicture.from_picture(sketch)\n",
    "\n",
    "    meta_sketch.set_slot_int(0, terrain_extent_x)\n",
    "    meta_sketch.set_slot_int(1, terrain_extent_y)\n",
    "    meta_sketch.set_slot_int(2, cell_size_x)\n",
    "    meta_sketch.set_slot_int(3, cell_size_y)\n",
    "    meta_sketch.set_slot_int(4, cell_size_z)\n",
    "    meta_sketch.set_slot_int(5, generations)\n",
    "    meta_sketch.set_slot_string(6, default_panel)\n",
    "    meta_sketch.set_slot_string(7, target_node)\n",
    "\n",
    "\n",
    "    meta_sketch.picture.save(f'meta_sketches/x{terrain_extent_x}_y{terrain_extent_y}_tn{target_node}_gn{generations}_#{len(get_files_all_files_name('meta_sketches'))}.bmp')\n",
    "    return meta_sketch\n",
    "\n"
   ]
  },
  {
   "cell_type": "code",
   "execution_count": 55,
   "id": "3666ded1",
   "metadata": {},
   "outputs": [
    {
     "name": "stdout",
     "output_type": "stream",
     "text": [
      "[<HAL.pixels.metapicture.MetaPicture object at 0x00000261EE72CD70>, <HAL.pixels.metapicture.MetaPicture object at 0x00000261EE72DC20>, <HAL.pixels.metapicture.MetaPicture object at 0x00000261EE72D270>, <HAL.pixels.metapicture.MetaPicture object at 0x00000261EE72C7D0>, <HAL.pixels.metapicture.MetaPicture object at 0x00000261EE72DE50>, <HAL.pixels.metapicture.MetaPicture object at 0x00000261EE72D310>, <HAL.pixels.metapicture.MetaPicture object at 0x00000261EE72D450>, <HAL.pixels.metapicture.MetaPicture object at 0x00000261EE72D4F0>, <HAL.pixels.metapicture.MetaPicture object at 0x00000261EE72D590>, <HAL.pixels.metapicture.MetaPicture object at 0x00000261EE72D630>, <HAL.pixels.metapicture.MetaPicture object at 0x00000261EE72D6D0>, <HAL.pixels.metapicture.MetaPicture object at 0x00000261EE72D770>, <HAL.pixels.metapicture.MetaPicture object at 0x00000261EE72D810>, <HAL.pixels.metapicture.MetaPicture object at 0x00000261EE72D8B0>, <HAL.pixels.metapicture.MetaPicture object at 0x00000261EE72D950>, <HAL.pixels.metapicture.MetaPicture object at 0x00000261EE72D9F0>, <HAL.pixels.metapicture.MetaPicture object at 0x00000261EE72F3E0>, <HAL.pixels.metapicture.MetaPicture object at 0x00000261EE72F480>, <HAL.pixels.metapicture.MetaPicture object at 0x00000261EE72F520>, <HAL.pixels.metapicture.MetaPicture object at 0x00000261EE72F5C0>, <HAL.pixels.metapicture.MetaPicture object at 0x00000261EE72F660>, <HAL.pixels.metapicture.MetaPicture object at 0x00000261EE72F700>, <HAL.pixels.metapicture.MetaPicture object at 0x00000261EE72F7A0>, <HAL.pixels.metapicture.MetaPicture object at 0x00000261EE72F840>, <HAL.pixels.metapicture.MetaPicture object at 0x00000261EE72F8E0>, <HAL.pixels.metapicture.MetaPicture object at 0x00000261EE72F980>, <HAL.pixels.metapicture.MetaPicture object at 0x00000261EE72FA20>, <HAL.pixels.metapicture.MetaPicture object at 0x00000261EE72FAC0>, <HAL.pixels.metapicture.MetaPicture object at 0x00000261EE72FB60>, <HAL.pixels.metapicture.MetaPicture object at 0x00000261EE72FC00>, <HAL.pixels.metapicture.MetaPicture object at 0x00000261EE72FCA0>, <HAL.pixels.metapicture.MetaPicture object at 0x00000261EE6E4FA0>, <HAL.pixels.metapicture.MetaPicture object at 0x00000261EE6E4DC0>, <HAL.pixels.metapicture.MetaPicture object at 0x00000261EE6E4A50>, <HAL.pixels.metapicture.MetaPicture object at 0x00000261EE7482D0>, <HAL.pixels.metapicture.MetaPicture object at 0x00000261EE7483C0>, <HAL.pixels.metapicture.MetaPicture object at 0x00000261EE748370>, <HAL.pixels.metapicture.MetaPicture object at 0x00000261EE748410>]\n"
     ]
    }
   ],
   "source": [
    "meta_sketches = [create_metapicture(file) for file in selected_files]\n",
    "print(meta_sketches)"
   ]
  },
  {
   "cell_type": "code",
   "execution_count": null,
   "id": "9525ce0d",
   "metadata": {},
   "outputs": [],
   "source": []
  }
 ],
 "metadata": {
  "kernelspec": {
   "display_name": ".venv",
   "language": "python",
   "name": "python3"
  },
  "language_info": {
   "codemirror_mode": {
    "name": "ipython",
    "version": 3
   },
   "file_extension": ".py",
   "mimetype": "text/x-python",
   "name": "python",
   "nbconvert_exporter": "python",
   "pygments_lexer": "ipython3",
   "version": "3.13.3"
  }
 },
 "nbformat": 4,
 "nbformat_minor": 5
}
